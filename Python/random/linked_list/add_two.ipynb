{
 "cells": [
  {
   "cell_type": "code",
   "execution_count": 4,
   "metadata": {},
   "outputs": [
    {
     "name": "stdout",
     "output_type": "stream",
     "text": [
      "6 3 1 1 \n",
      "8 9 9 9 0 0 0 1 \n"
     ]
    },
    {
     "data": {
      "text/plain": [
       "<__main__.ListNode at 0x7f2f814801f0>"
      ]
     },
     "execution_count": 4,
     "metadata": {},
     "output_type": "execute_result"
    }
   ],
   "source": [
    "\"\"\" \n",
    "You are given two non-empty linked lists representing two non-negative integers. \n",
    "The digits are stored in reverse order, and each of their nodes contains a single digit. \n",
    "Add the two numbers and return the sum as a linked list.\n",
    "\n",
    "You may assume the two numbers do not contain any leading zero, except the number 0 itself.\n",
    "\"\"\"\n",
    "\n",
    "# Definition for singly-linked list.\n",
    "\n",
    "\n",
    "class ListNode(object):\n",
    "    def __init__(self, val=0, next=None):\n",
    "        self.val = val\n",
    "        self.next = next\n",
    "\n",
    "\n",
    "class Solution(object):\n",
    "    def addTwoNumbers(self, l1, l2):\n",
    "        \"\"\"\n",
    "        :type l1: ListNode\n",
    "        :type l2: ListNode\n",
    "        :rtype: ListNode\n",
    "        \"\"\"\n",
    "        l1s = ''\n",
    "        l2s = ''\n",
    "        while(l1 != None or l2 != None):\n",
    "            if(l1 != None):\n",
    "                l1s = str(l1.val) + l1s\n",
    "                l1 = l1.next\n",
    "            if(l2 != None):\n",
    "                l2s = str(l2.val) + l2s\n",
    "                l2 = l2.next\n",
    "        x = list(str(int(l1s) + int(l2s)))\n",
    "        x.reverse()\n",
    "        ls = makelist(x)\n",
    "        return ls\n",
    "\n",
    "\n",
    "def makelist(arr):\n",
    "    l = ListNode(arr[0])\n",
    "    head = l\n",
    "    for i in range(1, len(arr)):\n",
    "        l.next = ListNode(arr[i])\n",
    "        l = l.next\n",
    "    return head\n",
    "\n",
    "\n",
    "def printlst(head):\n",
    "    while(head != None):\n",
    "        print(head.val, end=' ')\n",
    "        head = head.next\n",
    "    print(end='\\n')\n",
    "\n",
    "\n",
    "L1 = makelist([0, 1, 2])\n",
    "L2 = makelist([6, 2, 9])\n",
    "sol = Solution()\n",
    "sol.addTwoNumbers(L1, L2)\n",
    "l1 = makelist([9, 9, 9, 9, 9, 9, 9])\n",
    "l2 = makelist([9, 9, 9, 9])\n",
    "sol.addTwoNumbers(l1, l2)\n"
   ]
  }
 ],
 "metadata": {
  "kernelspec": {
   "display_name": "Python 3.9.12 ('test')",
   "language": "python",
   "name": "python3"
  },
  "language_info": {
   "codemirror_mode": {
    "name": "ipython",
    "version": 3
   },
   "file_extension": ".py",
   "mimetype": "text/x-python",
   "name": "python",
   "nbconvert_exporter": "python",
   "pygments_lexer": "ipython3",
   "version": "3.9.12"
  },
  "orig_nbformat": 4,
  "vscode": {
   "interpreter": {
    "hash": "3e0405f74cd99e8a53067f3c94553a5683f66fdf65b00468ee1d574e0cb3397d"
   }
  }
 },
 "nbformat": 4,
 "nbformat_minor": 2
}
