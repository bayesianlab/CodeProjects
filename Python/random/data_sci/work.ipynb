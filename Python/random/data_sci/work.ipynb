{
 "cells": [
  {
   "cell_type": "code",
   "execution_count": 47,
   "metadata": {},
   "outputs": [],
   "source": [
    "import numpy as np\n",
    "import pandas as pd \n",
    "import datetime \n",
    "\n",
    "np.random.seed(1)\n",
    "dti = pd.date_range(\"2020-01-01\", periods=100, freq=\"D\")\n",
    "dti2 = pd.date_range(\"2019-01-01\", periods=1000, freq=\"D\")\n",
    "X = np.random.normal(0,1,(100))\n",
    "Y = np.random.randint(0,10,(100))\n",
    "Z = np.random.normal(0,1,(1000))\n",
    "U = np.random.randint(0,15, (1000))\n",
    "N = zip(dti2, Z, U)\n",
    "\n",
    "D = pd.DataFrame({\"dates\":dti, \"X\" : X, \"Y\":Y})\n",
    "Q = pd.DataFrame(N, columns=[\"dates\", \"Z\", \"U\"])\n"
   ]
  },
  {
   "cell_type": "code",
   "execution_count": 62,
   "metadata": {},
   "outputs": [],
   "source": [
    "btw = Q[(Q[\"U\"] > 3) & (Q[\"U\"] < 10)]\n",
    "d = D[( (D[\"Y\"] > 2) & (D[\"X\"] > 1))]\n",
    "btw[\"U\"]\n",
    "d[\"X\"]\n",
    "merged = pd.merge(btw, d, left_on=\"U\", right_on=\"Y\")\n",
    "\n"
   ]
  },
  {
   "cell_type": "code",
   "execution_count": 65,
   "metadata": {},
   "outputs": [],
   "source": [
    "# merged.drop([\"Y\"], axis = 1)\n",
    "merged "
   ]
  },
  {
   "cell_type": "code",
   "execution_count": 24,
   "metadata": {},
   "outputs": [
    {
     "name": "stdout",
     "output_type": "stream",
     "text": [
      "167960\n"
     ]
    }
   ],
   "source": [
    "def get_fib(X, fibsdict):\n",
    "    if(X in fibsdict.keys()):\n",
    "        return fibsdict[X]\n",
    "    if(X == 0):\n",
    "        return fibsdict[0]\n",
    "    if(X == 1):\n",
    "        return fibsdict[1]\n",
    "    F = get_fib(X-1, fibsdict) + get_fib(X-2, fibsdict)\n",
    "    fibsdict[X] = F\n",
    "    return F\n",
    "\n",
    "\n",
    "def solution(X):\n",
    "    fibsdict = {}\n",
    "    fibsdict[0] = 0\n",
    "    fibsdict[1] = 1\n",
    "    r = 0\n",
    "    a = get_fib(r, fibsdict)\n",
    "    while(X > a):\n",
    "        lasta = a\n",
    "        a = get_fib(r+1, fibsdict)\n",
    "        r += 1\n",
    "    w = X\n",
    "    z = X\n",
    "    c = 0\n",
    "    while((w != a) & (z != lasta)):\n",
    "        w += 1\n",
    "        z -= 1\n",
    "        c+=1\n",
    "    return c\n",
    "\n",
    "\n",
    "print(solution(1000000))\n"
   ]
  },
  {
   "cell_type": "code",
   "execution_count": 1,
   "metadata": {},
   "outputs": [
    {
     "name": "stdout",
     "output_type": "stream",
     "text": [
      "2\n"
     ]
    }
   ],
   "source": [
    "def solution(A):\n",
    "    # write your code in Python 3.8.10\n",
    "    remaining = 5000 - A[0]\n",
    "    c = 0 \n",
    "    sortedA = sorted(A) \n",
    "    i = 0 \n",
    "    n = len(A)-1\n",
    "    while(i < n):\n",
    "        remaining -= sortedA[i]\n",
    "        if(remaining >=0):\n",
    "            i+=1\n",
    "        else:\n",
    "            break \n",
    "        \n",
    "    return i\n",
    "\n",
    "\n",
    "print(solution([4650, 150,150,150]))\n",
    "    "
   ]
  },
  {
   "cell_type": "code",
   "execution_count": 11,
   "metadata": {},
   "outputs": [
    {
     "name": "stdout",
     "output_type": "stream",
     "text": [
      "IOI\n"
     ]
    }
   ],
   "source": [
    "\n",
    "def hexconverter(S):\n",
    "    hexlist = []\n",
    "    while(S>0):\n",
    "        hexlist.append(S%16)\n",
    "        S = S//16\n",
    "    return hexlist\n",
    "\n",
    "def solution(S):\n",
    "    # write your code in Python 3.8.10\n",
    "    hexspeak = {10:\"A\", 11:\"B\", 12:\"C\",13:\"C\", 14:\"D\", 15:\"E\", 1:\"F\", 1:\"I\", 0:\"O\"}\n",
    "    num = int(S)\n",
    "    hl = hexconverter(num)\n",
    "    hs = \"\"\n",
    "    for i in hl:\n",
    "        if(i in hexspeak.keys()):\n",
    "            hs += hexspeak[i]\n",
    "        else:\n",
    "            return \"ERROR\"\n",
    "    return hs\n",
    "print(solution(\"257\"))"
   ]
  },
  {
   "cell_type": "code",
   "execution_count": 19,
   "metadata": {},
   "outputs": [
    {
     "name": "stdout",
     "output_type": "stream",
     "text": [
      "[1, 4, 4, 4, 4, 5]\n"
     ]
    }
   ],
   "source": [
    "\n",
    "def solution(A):\n",
    "    # write your code in Python 3.8.10\n",
    "    i = 0\n",
    "    j = i + 2\n",
    "    notgood = 1\n",
    "    totalscore = len(A)-2\n",
    "    score = 0\n",
    "    while(notgood):\n",
    "        left = A[i] \n",
    "        right = A[j]\n",
    "        mid = A[j-1]\n",
    "        if((mid < left) & (mid < right)):\n",
    "            #go up\n",
    "            A[j-1] = A[j-1] +1\n",
    "        elif((mid > left ) & (mid > right)):\n",
    "            # go down\n",
    "            A[j-1] -= 1\n",
    "        else:\n",
    "            score += 1\n",
    "        if(score == totalscore):\n",
    "            notgood = 0 \n",
    "        if(j == (len(A)-1)):\n",
    "            i = 0\n",
    "            j = i+2\n",
    "        else:\n",
    "            i+=1\n",
    "            j+=1\n",
    "            mid+=1\n",
    "    return A \n",
    "        \n",
    "\n",
    "print(solution([1,6,3,4,3,5]))\n"
   ]
  },
  {
   "cell_type": "code",
   "execution_count": 31,
   "metadata": {},
   "outputs": [
    {
     "name": "stdout",
     "output_type": "stream",
     "text": [
      "{'y': 1, 'z': 4}\n",
      "1\n",
      "4\n",
      "6\n",
      "4\n",
      "1\n",
      "16\n"
     ]
    }
   ],
   "source": [
    "from math import factorial\n",
    "\n",
    "\n",
    "def solution(S):\n",
    "    # write your code in Python 3.8.10\n",
    "    sdict = {}\n",
    "    i = 0\n",
    "    sdict = {}\n",
    "    sets = set(S)\n",
    "    for i in sets:\n",
    "        sdict[i] = 0\n",
    "    for i in S:\n",
    "        if(i in sdict.keys()):\n",
    "            sdict[i] += 1\n",
    "    print(sdict)\n",
    "    soln = 0\n",
    "    for i in sdict.keys():\n",
    "        for j in range(1,sdict[i]+1):\n",
    "            print(ncomb(sdict[i], j))\n",
    "            soln += ncomb(sdict[i], j)\n",
    "    return soln     \n",
    "            \n",
    "\n",
    "def fact(num):\n",
    "    if (num == 1 or num == 0):\n",
    "        return 1\n",
    "    return num * fact(num-1)\n",
    "\n",
    "\n",
    "def ncomb(num, r):\n",
    "    top = fact(num)\n",
    "    den = fact(r) * fact(num-r)\n",
    "    return int(top/den)\n",
    "\n",
    "\n",
    "print(solution(\"zzzyz\"))\n"
   ]
  }
 ],
 "metadata": {
  "kernelspec": {
   "display_name": "Python 3.8.10 64-bit",
   "language": "python",
   "name": "python3"
  },
  "language_info": {
   "codemirror_mode": {
    "name": "ipython",
    "version": 3
   },
   "file_extension": ".py",
   "mimetype": "text/x-python",
   "name": "python",
   "nbconvert_exporter": "python",
   "pygments_lexer": "ipython3",
   "version": "3.8.10"
  },
  "orig_nbformat": 4,
  "vscode": {
   "interpreter": {
    "hash": "31f2aee4e71d21fbe5cf8b01ff0e069b9275f58929596ceb00d14d90e3e16cd6"
   }
  }
 },
 "nbformat": 4,
 "nbformat_minor": 2
}
