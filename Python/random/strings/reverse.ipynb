{
 "cells": [
  {
   "cell_type": "code",
   "execution_count": 27,
   "metadata": {},
   "outputs": [
    {
     "name": "stdout",
     "output_type": "stream",
     "text": [
      "hungry,jeep,gin,word\n"
     ]
    }
   ],
   "source": [
    "def reverseutil(st):\n",
    "    b = 0\n",
    "    e = len(st) - 1\n",
    "    stlist = list(st)\n",
    "    while(b < e):\n",
    "        t = stlist[b]\n",
    "        stlist[b] = stlist[e]\n",
    "        stlist[e] = t\n",
    "        b+=1\n",
    "        e -=1\n",
    "    x = ''.join(stlist)\n",
    "    return x\n",
    "\n",
    "def reverse(bigstring):\n",
    "    wrds = []\n",
    "    X = reverseutil(bigstring)\n",
    "    X = X.split(',')\n",
    "    Y = []\n",
    "    for i in X:\n",
    "        Y.append(reverseutil(i))\n",
    "    return ','.join(Y)\n",
    "\n",
    "\n",
    "X = \"word,gin,jeep,hungry\"\n",
    "\n",
    "print(reverse(X))"
   ]
  },
  {
   "cell_type": "code",
   "execution_count": 50,
   "metadata": {},
   "outputs": [
    {
     "name": "stdout",
     "output_type": "stream",
     "text": [
      "524288\n",
      "0b1111101000\n"
     ]
    }
   ],
   "source": [
    "print ( 1<< 19)\n",
    "print(bin(1000))"
   ]
  },
  {
   "cell_type": "code",
   "execution_count": 54,
   "metadata": {},
   "outputs": [
    {
     "name": "stdout",
     "output_type": "stream",
     "text": [
      "0b0\n",
      "2\n",
      "0\n",
      "0b10\n"
     ]
    }
   ],
   "source": [
    "\n",
    "h = ord('b') - ord('a')\n",
    "print(bin(0))\n",
    "print(1<<h)\n",
    "print(0 & (1<< h) )\n",
    "c = 0\n",
    "c |= (1 << h)\n",
    "print(bin(c))"
   ]
  },
  {
   "cell_type": "code",
   "execution_count": 102,
   "metadata": {},
   "outputs": [
    {
     "name": "stdout",
     "output_type": "stream",
     "text": [
      "[10, 7, 2, 7, 1, 10, 11, 2, 3]\n",
      "[10, 7, 2, 7]\n",
      "[10, 7]\n",
      "[2, 7]\n",
      "[1, 10, 11, 2, 3]\n",
      "[1, 10]\n",
      "[11, 2, 3]\n",
      "[11]\n",
      "[2, 3]\n",
      "[1, 2, 2, 3, 7, 7, 10, 10, 11]\n"
     ]
    }
   ],
   "source": [
    "\n",
    "\n",
    "\n"
   ]
  }
 ],
 "metadata": {
  "kernelspec": {
   "display_name": "Python 3.9.12 ('test')",
   "language": "python",
   "name": "python3"
  },
  "language_info": {
   "codemirror_mode": {
    "name": "ipython",
    "version": 3
   },
   "file_extension": ".py",
   "mimetype": "text/x-python",
   "name": "python",
   "nbconvert_exporter": "python",
   "pygments_lexer": "ipython3",
   "version": "3.9.12"
  },
  "orig_nbformat": 4,
  "vscode": {
   "interpreter": {
    "hash": "3e0405f74cd99e8a53067f3c94553a5683f66fdf65b00468ee1d574e0cb3397d"
   }
  }
 },
 "nbformat": 4,
 "nbformat_minor": 2
}
