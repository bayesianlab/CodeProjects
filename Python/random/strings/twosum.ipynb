{
 "cells": [
  {
   "cell_type": "code",
   "execution_count": 46,
   "metadata": {},
   "outputs": [
    {
     "name": "stdout",
     "output_type": "stream",
     "text": [
      "[(1, 2), (0, 3), (2, 4)]\n",
      "[2, 1]\n"
     ]
    }
   ],
   "source": [
    "class Solution(object):\n",
    "    def twoSum(self, nums, target):\n",
    "        \"\"\"\n",
    "        :type nums: List[int]\n",
    "        :type target: int\n",
    "        :rtype: List[int]\n",
    "        \"\"\"\n",
    "        cursum = 0\n",
    "        orig_indx = range(0,len(nums))\n",
    "        enumnums = sorted(enumerate(nums), key=lambda x:x[1])\n",
    "        print(enumnums)\n",
    "        i = len(nums)//2 \n",
    "        j = i -1\n",
    "        while(i < len(nums) or j >=0):\n",
    "            s =enumnums[i][1] + enumnums[j][1]\n",
    "            if(s == target):\n",
    "                return [enumnums[i][0], enumnums[j][0]]\n",
    "            elif(s > target):\n",
    "                if(j-1 >=0):\n",
    "                    if(enumnums[i-1][1] + enumnums[j-1][1] > target):\n",
    "                        i -=1 \n",
    "                        j-=1\n",
    "                    else:\n",
    "                        j-=1\n",
    "                else:\n",
    "                    i-=1                        \n",
    "            else:\n",
    "                if(i < len(nums)-1):\n",
    "                    if(enumnums[i+1][1] + enumnums[j+1][1] < target):\n",
    "                        i+=1\n",
    "                        j+=1\n",
    "                    else:\n",
    "                        i+=1\n",
    "                else:\n",
    "                    j += 1\n",
    "                    \n",
    "                \n",
    "    \n",
    "s = Solution()\n",
    "# nums = [3,3]\n",
    "# print(s.twoSum(nums, 6))\n",
    "# nums = [1,2,3,8]\n",
    "# print(s.twoSum(nums, 9))\n",
    "# nums = [2,7,11,15]\n",
    "# print(s.twoSum(nums, 9))\n",
    "\n",
    "nums = [3,2,4]\n",
    "print(s.twoSum(nums, 6))\n",
    "\n",
    "# nums = [-1000,5, 50, 100, 1000]\n",
    "\n",
    "\n",
    "# print(s.twoSum(nums, 1100))"
   ]
  },
  {
   "cell_type": "code",
   "execution_count": 7,
   "metadata": {},
   "outputs": [
    {
     "name": "stdout",
     "output_type": "stream",
     "text": [
      "(0, 2)\n",
      "(1, 3)\n",
      "(2, 4)\n"
     ]
    }
   ],
   "source": []
  }
 ],
 "metadata": {
  "kernelspec": {
   "display_name": "Python 3.9.12 ('test')",
   "language": "python",
   "name": "python3"
  },
  "language_info": {
   "codemirror_mode": {
    "name": "ipython",
    "version": 3
   },
   "file_extension": ".py",
   "mimetype": "text/x-python",
   "name": "python",
   "nbconvert_exporter": "python",
   "pygments_lexer": "ipython3",
   "version": "3.9.12"
  },
  "orig_nbformat": 4,
  "vscode": {
   "interpreter": {
    "hash": "3e0405f74cd99e8a53067f3c94553a5683f66fdf65b00468ee1d574e0cb3397d"
   }
  }
 },
 "nbformat": 4,
 "nbformat_minor": 2
}
