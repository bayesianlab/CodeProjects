{
 "cells": [
  {
   "cell_type": "code",
   "execution_count": 7,
   "metadata": {},
   "outputs": [
    {
     "name": "stdout",
     "output_type": "stream",
     "text": [
      "(3, 3)\n",
      "(5, 5)\n",
      "(3, 3)\n",
      "(8, 8)\n"
     ]
    }
   ],
   "source": [
    "class Solution(object):\n",
    "    def lengthOfLongestSubstring(self, s):\n",
    "        \"\"\"\n",
    "        :type s: str\n",
    "        :rtype: int\n",
    "        \"\"\"\n",
    "        if( s == \"\"):\n",
    "            return 0\n",
    "        if( s == \" \"):\n",
    "            return 1\n",
    "        repeated = {}\n",
    "        longest_cand = 0\n",
    "        longest = 1 \n",
    "        lss = list(s)\n",
    "        i = 0\n",
    "        lastptr = 0\n",
    "        while( i < len(lss)):\n",
    "            if(lss[i] not in repeated.keys()):\n",
    "                repeated[lss[i]] = i\n",
    "                longest_cand += 1\n",
    "                if(longest_cand > longest):\n",
    "                    longest = longest_cand\n",
    "                i += 1\n",
    "            else:\n",
    "                if(lss[i] == lss[i-1]):\n",
    "                    lastptr = i \n",
    "                    longest_cand = 1\n",
    "                elif(repeated[lss[i]] > lastptr):\n",
    "                    lastptr = repeated[lss[i]]\n",
    "                    repeated[lss[i]] = i\n",
    "                    longest_cand = i - lastptr\n",
    "                    lastptr += 1\n",
    "                elif(lss[i] == lss[lastptr]):\n",
    "                    longest_cand = i - lastptr \n",
    "                    lastptr += 1\n",
    "                else:\n",
    "                    longest_cand = i - lastptr + 1\n",
    "                    if(longest_cand > longest):\n",
    "                        longest = longest_cand\n",
    "                repeated[lss[i]] = i\n",
    "                i += 1\n",
    "        return longest\n",
    "\n",
    "            \n",
    "s = Solution()\n",
    "print((s.lengthOfLongestSubstring(\"abcabcbb\"), 3))\n",
    "print((s.lengthOfLongestSubstring(\"tmmzuxt\"), 5))\n",
    "print((s.lengthOfLongestSubstring(\"pwwkew\"), 3))\n",
    "print((s.lengthOfLongestSubstring(\"zwnigfunjwz\"), 8))\n"
   ]
  }
 ],
 "metadata": {
  "kernelspec": {
   "display_name": "Python 3.9.12 ('test')",
   "language": "python",
   "name": "python3"
  },
  "language_info": {
   "codemirror_mode": {
    "name": "ipython",
    "version": 3
   },
   "file_extension": ".py",
   "mimetype": "text/x-python",
   "name": "python",
   "nbconvert_exporter": "python",
   "pygments_lexer": "ipython3",
   "version": "3.9.12"
  },
  "orig_nbformat": 4,
  "vscode": {
   "interpreter": {
    "hash": "3e0405f74cd99e8a53067f3c94553a5683f66fdf65b00468ee1d574e0cb3397d"
   }
  }
 },
 "nbformat": 4,
 "nbformat_minor": 2
}
