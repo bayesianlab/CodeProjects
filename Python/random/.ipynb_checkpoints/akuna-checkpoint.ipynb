{
 "cells": [
  {
   "cell_type": "code",
   "execution_count": 25,
   "id": "625b861b",
   "metadata": {},
   "outputs": [],
   "source": [
    "def countPoints(x):\n",
    "    s = 0\n",
    "    let_dict = {'a':1, 'b':1, 'c':2, 'd':2, 'e':2,\n",
    "               'f':3, 'g':3, 'h':3, 'i':4, 'j':4, 'k':4,\n",
    "               'l':5, 'm':5, 'n':5, 'o':6, 'p':6,'q':6, 'r':7,\n",
    "               's':7, 't':7, 'u':8, 'v':8, 'w':8, 'x':9, 'y':9, 'z':9}\n",
    "    for i in x:\n",
    "        s += let_dict[i]\n",
    "    return s\n",
    "        \n",
    "def isExtraordinary(y):\n",
    "    if(!(countPoints(y) % len(y))):\n",
    "        return True\n",
    "    else:\n",
    "        return False\n",
    "        \n",
    "\n",
    "\n",
    "def countSubstrings(input_str):\n",
    "    n = len(input_str)\n",
    "    nextra = 0\n",
    "    for b in range(n):\n",
    "        for e in range(b+1,n+1):\n",
    "            if(isExtraordinary(input_str[b:e])):\n",
    "                nextra +=1\n",
    "    return nextra\n",
    "            \n",
    "#             print(countPoints(input_str[b:e]),input_str[b:e])\n",
    "\n",
    "\n"
   ]
  },
  {
   "cell_type": "code",
   "execution_count": 26,
   "id": "214bec15",
   "metadata": {},
   "outputs": [
    {
     "name": "stdout",
     "output_type": "stream",
     "text": [
      "1 a\n",
      "8 as\n",
      "10 asd\n",
      "13 asdf\n",
      "7 s\n",
      "9 sd\n",
      "12 sdf\n",
      "2 d\n",
      "5 df\n",
      "3 f\n"
     ]
    }
   ],
   "source": [
    "x = \"asdf\"\n",
    "countSubstrings(x)\n"
   ]
  },
  {
   "cell_type": "code",
   "execution_count": null,
   "id": "bd1a5052",
   "metadata": {},
   "outputs": [],
   "source": []
  }
 ],
 "metadata": {
  "kernelspec": {
   "display_name": "Python 3 (ipykernel)",
   "language": "python",
   "name": "python3"
  },
  "language_info": {
   "codemirror_mode": {
    "name": "ipython",
    "version": 3
   },
   "file_extension": ".py",
   "mimetype": "text/x-python",
   "name": "python",
   "nbconvert_exporter": "python",
   "pygments_lexer": "ipython3",
   "version": "3.9.12"
  }
 },
 "nbformat": 4,
 "nbformat_minor": 5
}
