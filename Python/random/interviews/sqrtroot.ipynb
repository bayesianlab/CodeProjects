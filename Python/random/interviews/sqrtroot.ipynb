{
 "cells": [
  {
   "cell_type": "code",
   "execution_count": 29,
   "metadata": {},
   "outputs": [
    {
     "name": "stdout",
     "output_type": "stream",
     "text": [
      "4.0\n",
      "2.0\n",
      "3.0\n",
      "2.5\n",
      "2.75\n",
      "2.875\n",
      "2.8125\n",
      "2.84375\n",
      "2.828125\n",
      "2.828125\n"
     ]
    }
   ],
   "source": [
    "def findroot(x, g, ep):\n",
    "    a = 0\n",
    "    b = g\n",
    "    while(abs(g*g - x) > ep ):\n",
    "        if(g*g >x):\n",
    "            b = g\n",
    "            g = (b+a)/2.\n",
    "        else:\n",
    "            a = g\n",
    "            g = (b+a)/2.\n",
    "        print(g)\n",
    "    return g \n",
    "\n",
    "\n",
    "print(findroot(8, 8, 1e-2))\n",
    "# print(findroot(5, 4, 1e-6))"
   ]
  },
  {
   "cell_type": "code",
   "execution_count": 13,
   "metadata": {},
   "outputs": [
    {
     "data": {
      "text/plain": [
       "7.952399999999999"
      ]
     },
     "execution_count": 13,
     "metadata": {},
     "output_type": "execute_result"
    }
   ],
   "source": [
    "2.82*2.82\n"
   ]
  }
 ],
 "metadata": {
  "kernelspec": {
   "display_name": "Python 3.9.12 ('test')",
   "language": "python",
   "name": "python3"
  },
  "language_info": {
   "codemirror_mode": {
    "name": "ipython",
    "version": 3
   },
   "file_extension": ".py",
   "mimetype": "text/x-python",
   "name": "python",
   "nbconvert_exporter": "python",
   "pygments_lexer": "ipython3",
   "version": "3.9.12"
  },
  "orig_nbformat": 4,
  "vscode": {
   "interpreter": {
    "hash": "3e0405f74cd99e8a53067f3c94553a5683f66fdf65b00468ee1d574e0cb3397d"
   }
  }
 },
 "nbformat": 4,
 "nbformat_minor": 2
}
