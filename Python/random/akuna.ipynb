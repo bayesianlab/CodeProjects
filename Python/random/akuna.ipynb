{
 "cells": [
  {
   "cell_type": "code",
   "execution_count": null,
   "id": "3cd76300",
   "metadata": {},
   "outputs": [],
   "source": [
    "let_dict = {'a':1, 'b':1, 'c':2, 'd':2, 'e':2,\n",
    "               'f':3, 'g':3, 'h':3, 'i':4, 'j':4, 'k':4,\n",
    "               'l':5, 'm':5, 'n':5, 'o':6, 'p':6,'q':6, 'r':7,\n",
    "               's':7, 't':7, 'u':8, 'v':8, 'w':8, 'x':9, 'y':9, 'z':9}\n",
    "\n",
    "def countPoints(x):\n",
    "    s = 0\n",
    "    if(x in let_dict):\n",
    "        s += let_dict[x]\n",
    "    elif(x[0:(len(x)-1)] in let_dict):\n",
    "        s += let_dict[x[0:(len(x)-1)]]\n",
    "        s += let_dict[x[(len(x)-1):]]\n",
    "        let_dict[x] = s\n",
    "    elif(x[1:len(x) in let_dict]):\n",
    "        s += let_dict[x[1:len(x)]]\n",
    "        s += let_dict[x[0:1]]\n",
    "        let_dict[x] = s\n",
    "    else:\n",
    "        for i in x:\n",
    "            s += let_dict[i]\n",
    "        let_dict[x] = s\n",
    "    return s\n",
    "        \n",
    "def isExtraordinary(y):\n",
    "    if(not(countPoints(y) % len(y))):\n",
    "        return True\n",
    "    else:\n",
    "        return False\n",
    "        \n",
    "\n",
    "\n",
    "def countSubstrings(input_str):\n",
    "    n = len(input_str)\n",
    "    nextra = 0\n",
    "    a = 0\n",
    "    i = 1\n",
    "    while(a <n ):\n",
    "        c = a + i\n",
    "        while(c < n +1):\n",
    "            if(isExtraordinary(input_str[a:c])):\n",
    "                nextra+=1\n",
    "            c+=1\n",
    "            a+=1\n",
    "        a=0\n",
    "        i+=1\n",
    "\n",
    "#     for b in range(n):\n",
    "#         for e in range(b+1,n+1):\n",
    "#             if(isExtraordinary(input_str[b:e])):\n",
    "#                 nextra +=1\n",
    "    return nextra\n",
    "            \n",
    "\n",
    "\n"
   ]
  },
  {
   "cell_type": "code",
   "execution_count": null,
   "id": "e6f83b78",
   "metadata": {},
   "outputs": [],
   "source": [
    "x = \"asdf\"\n",
    "print(countSubstrings(x))\n"
   ]
  },
  {
   "cell_type": "code",
   "execution_count": null,
   "id": "9d4d4fd0",
   "metadata": {},
   "outputs": [],
   "source": []
  },
  {
   "cell_type": "code",
   "execution_count": null,
   "id": "5e3179e1",
   "metadata": {},
   "outputs": [],
   "source": []
  }
 ],
 "metadata": {
  "kernelspec": {
   "display_name": "Python 3 (ipykernel)",
   "language": "python",
   "name": "python3"
  },
  "language_info": {
   "codemirror_mode": {
    "name": "ipython",
    "version": 3
   },
   "file_extension": ".py",
   "mimetype": "text/x-python",
   "name": "python",
   "nbconvert_exporter": "python",
   "pygments_lexer": "ipython3",
   "version": "3.9.12"
  }
 },
 "nbformat": 4,
 "nbformat_minor": 5
}
