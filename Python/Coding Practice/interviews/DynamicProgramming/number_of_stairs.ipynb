{
 "cells": [
  {
   "cell_type": "code",
   "execution_count": 37,
   "metadata": {},
   "outputs": [
    {
     "name": "stdout",
     "output_type": "stream",
     "text": [
      "(1, 1)\n",
      "(2, 2)\n",
      "(3, 3)\n",
      "(5, 5)\n"
     ]
    }
   ],
   "source": [
    "class Solution(object):\n",
    "    \n",
    "    def recurstairs(self, n):\n",
    "        if(n == 0):\n",
    "            self.k += 1\n",
    "            self.tree[n] = 1\n",
    "            return 1\n",
    "        if(n < 0):\n",
    "            self.tree[n] = 0\n",
    "            return 0\n",
    "        if(n in self.tree.keys()):\n",
    "            self.k += self.tree[n]\n",
    "            return self.tree[n]\n",
    "        else:\n",
    "            x = self.recurstairs(n-2)+self.recurstairs(n-1)\n",
    "            self.tree[n] = x\n",
    "            return x\n",
    "            \n",
    "        \n",
    "        \n",
    "    \n",
    "    def climbStairs(self, n):\n",
    "        \"\"\"\n",
    "        :type n: int\n",
    "        :rtype: int\n",
    "        \"\"\"\n",
    "        self.k = 0\n",
    "        self.tree = {} \n",
    "        self.recurstairs(n)\n",
    "        return self.k\n",
    "    \n",
    "sol = Solution()\n",
    "print((sol.climbStairs(1), 1))\n",
    "print((sol.climbStairs(2), 2))\n",
    "print((sol.climbStairs(3), 3))\n",
    "print((sol.climbStairs(4), 5))"
   ]
  }
 ],
 "metadata": {
  "kernelspec": {
   "display_name": "Python 3.9.12 ('test')",
   "language": "python",
   "name": "python3"
  },
  "language_info": {
   "codemirror_mode": {
    "name": "ipython",
    "version": 3
   },
   "file_extension": ".py",
   "mimetype": "text/x-python",
   "name": "python",
   "nbconvert_exporter": "python",
   "pygments_lexer": "ipython3",
   "version": "3.9.12"
  },
  "orig_nbformat": 4,
  "vscode": {
   "interpreter": {
    "hash": "3e0405f74cd99e8a53067f3c94553a5683f66fdf65b00468ee1d574e0cb3397d"
   }
  }
 },
 "nbformat": 4,
 "nbformat_minor": 2
}
