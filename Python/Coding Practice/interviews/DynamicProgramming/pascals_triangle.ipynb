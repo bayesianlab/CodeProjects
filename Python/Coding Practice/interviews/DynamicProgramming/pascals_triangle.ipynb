{
 "cells": [
  {
   "cell_type": "code",
   "execution_count": 6,
   "metadata": {},
   "outputs": [
    {
     "ename": "TypeError",
     "evalue": "can only concatenate list (not \"int\") to list",
     "output_type": "error",
     "traceback": [
      "\u001b[0;31m---------------------------------------------------------------------------\u001b[0m",
      "\u001b[0;31mTypeError\u001b[0m                                 Traceback (most recent call last)",
      "\u001b[0;32m/tmp/ipykernel_62057/1373857442.py\u001b[0m in \u001b[0;36m<module>\u001b[0;34m\u001b[0m\n\u001b[1;32m     67\u001b[0m \u001b[0;34m\u001b[0m\u001b[0m\n\u001b[1;32m     68\u001b[0m \u001b[0msol\u001b[0m \u001b[0;34m=\u001b[0m \u001b[0mSolution\u001b[0m\u001b[0;34m(\u001b[0m\u001b[0;34m)\u001b[0m\u001b[0;34m\u001b[0m\u001b[0;34m\u001b[0m\u001b[0m\n\u001b[0;32m---> 69\u001b[0;31m \u001b[0mprint\u001b[0m\u001b[0;34m(\u001b[0m\u001b[0msol\u001b[0m\u001b[0;34m.\u001b[0m\u001b[0mgen2\u001b[0m\u001b[0;34m(\u001b[0m\u001b[0;36m1\u001b[0m\u001b[0;34m)\u001b[0m\u001b[0;34m)\u001b[0m\u001b[0;34m\u001b[0m\u001b[0;34m\u001b[0m\u001b[0m\n\u001b[0m",
      "\u001b[0;32m/tmp/ipykernel_62057/1373857442.py\u001b[0m in \u001b[0;36mgen2\u001b[0;34m(self, numRows)\u001b[0m\n\u001b[1;32m     48\u001b[0m         \u001b[0mpas\u001b[0m \u001b[0;34m=\u001b[0m \u001b[0;34m[\u001b[0m\u001b[0;34m]\u001b[0m\u001b[0;34m\u001b[0m\u001b[0;34m\u001b[0m\u001b[0m\n\u001b[1;32m     49\u001b[0m         \u001b[0;32mfor\u001b[0m \u001b[0mi\u001b[0m \u001b[0;32min\u001b[0m \u001b[0mrange\u001b[0m\u001b[0;34m(\u001b[0m\u001b[0mnumRows\u001b[0m\u001b[0;34m)\u001b[0m\u001b[0;34m:\u001b[0m\u001b[0;34m\u001b[0m\u001b[0;34m\u001b[0m\u001b[0m\n\u001b[0;32m---> 50\u001b[0;31m             \u001b[0mx\u001b[0m \u001b[0;34m=\u001b[0m \u001b[0;34m[\u001b[0m\u001b[0;32mNone\u001b[0m\u001b[0;34m]\u001b[0m\u001b[0;34m*\u001b[0m\u001b[0mi\u001b[0m\u001b[0;34m+\u001b[0m\u001b[0;36m1\u001b[0m\u001b[0;34m\u001b[0m\u001b[0;34m\u001b[0m\u001b[0m\n\u001b[0m\u001b[1;32m     51\u001b[0m             \u001b[0;32mif\u001b[0m\u001b[0;34m(\u001b[0m\u001b[0mi\u001b[0m \u001b[0;34m>\u001b[0m \u001b[0;36m1\u001b[0m\u001b[0;34m)\u001b[0m\u001b[0;34m:\u001b[0m\u001b[0;34m\u001b[0m\u001b[0;34m\u001b[0m\u001b[0m\n\u001b[1;32m     52\u001b[0m                 \u001b[0mend\u001b[0m \u001b[0;34m=\u001b[0m \u001b[0mi\u001b[0m \u001b[0;34m+\u001b[0m \u001b[0;36m1\u001b[0m\u001b[0;34m\u001b[0m\u001b[0;34m\u001b[0m\u001b[0m\n",
      "\u001b[0;31mTypeError\u001b[0m: can only concatenate list (not \"int\") to list"
     ]
    }
   ],
   "source": [
    "class Solution(object):\n",
    "    \n",
    "    def genUtil(self, numRows, biglist):\n",
    "        if(numRows <= 0):\n",
    "            biglist = [] \n",
    "            return \n",
    "        if(numRows == 1):\n",
    "            biglist.append([1])\n",
    "            return \n",
    "        if(numRows==2):\n",
    "            biglist.append([1])\n",
    "            biglist.append([1,1])\n",
    "            return \n",
    "        \n",
    "        self.genUtil(numRows-1, biglist)\n",
    "        last = biglist[len(biglist)-1]\n",
    "        if(numRows%2):\n",
    "            m = numRows//2\n",
    "            c = m-1\n",
    "        else:\n",
    "            m = (numRows-1)//2\n",
    "            c = m   \n",
    "        new = [1] \n",
    "        for i in range(1,m+1):\n",
    "            new.append(last[i] + last[i-1])\n",
    "        for i in range(m+1, numRows-1):\n",
    "            new.append(new[c])\n",
    "            c -= 1\n",
    "        new.append(1)\n",
    "        biglist.append(new)    \n",
    "        return \n",
    "        \n",
    "        \n",
    "\n",
    "        \n",
    "          \n",
    "    def generate(self, numRows):\n",
    "        \"\"\"\n",
    "        :type numRows: int\n",
    "        :rtype: List[List[int]]\n",
    "        \"\"\"\n",
    "        biglist = [] \n",
    "        self.genUtil(numRows, biglist)\n",
    "        \n",
    "        return biglist\n",
    "    \n",
    "    def gen2(self, numRows):\n",
    "        pas = []\n",
    "        for i in range(numRows):\n",
    "            x = [None]*i+1\n",
    "            if(i > 1):\n",
    "                end = i + 1\n",
    "                j = 0\n",
    "                while(j < end):\n",
    "                    x[j] = pas[i][j] + pas[i][j+1]\n",
    "                    x[end] = x[j]\n",
    "            else:\n",
    "                if(i==0):\n",
    "                    x = [1]\n",
    "                elif(i==1):\n",
    "                    x = [1,1]\n",
    "                pas.append(x)\n",
    "        \n",
    "                \n",
    "                \n",
    "        \n",
    "\n",
    "sol = Solution()\n",
    "print(sol.gen2(1))"
   ]
  }
 ],
 "metadata": {
  "kernelspec": {
   "display_name": "Python 3.9.12 ('test')",
   "language": "python",
   "name": "python3"
  },
  "language_info": {
   "codemirror_mode": {
    "name": "ipython",
    "version": 3
   },
   "file_extension": ".py",
   "mimetype": "text/x-python",
   "name": "python",
   "nbconvert_exporter": "python",
   "pygments_lexer": "ipython3",
   "version": "3.9.12"
  },
  "orig_nbformat": 4,
  "vscode": {
   "interpreter": {
    "hash": "3e0405f74cd99e8a53067f3c94553a5683f66fdf65b00468ee1d574e0cb3397d"
   }
  }
 },
 "nbformat": 4,
 "nbformat_minor": 2
}
