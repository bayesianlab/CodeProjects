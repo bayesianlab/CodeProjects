{
 "cells": [
  {
   "cell_type": "code",
   "execution_count": 23,
   "metadata": {},
   "outputs": [
    {
     "data": {
      "text/plain": [
       "8"
      ]
     },
     "execution_count": 23,
     "metadata": {},
     "output_type": "execute_result"
    }
   ],
   "source": [
    "def solution(S, T):\n",
    "    # Implement your solution here\n",
    "    slist =[int(i) for i in S.split(':')]\n",
    "    tlist = [int(i) for i in T.split(':')]\n",
    "    interesting = 0 \n",
    "    for i in range(slist[0], tlist[0]+1):\n",
    "        x = str(i)\n",
    "        digits = 0\n",
    "        if(len(x) < 2):\n",
    "            d1 = 0\n",
    "            d2 = int(x[0])\n",
    "        else:\n",
    "            d1 = int(x[0])\n",
    "            d2 = int(x[1])\n",
    "        if(d1==d2):\n",
    "            digits = 1\n",
    "        else:\n",
    "            digits = 2 \n",
    "        for j in range(slist[1], tlist[1]+1):\n",
    "            y = str(j)\n",
    "            if(len(y) < 2):\n",
    "                u1 = 0\n",
    "                u2 = int(y[0] )\n",
    "            else:\n",
    "                u1 = int(y[0])\n",
    "                u2 = int(y[1])\n",
    "            digits += not((u1==d1) or (u1==d2)) or not ((u2==d1) or (u2==d2))\n",
    "            for k in range(slist[2], tlist[2]+1):\n",
    "                z = str(k)\n",
    "                if(len(z) < 2):\n",
    "                    h1 = 0\n",
    "                    h2 = int(z[0] )\n",
    "                else:\n",
    "                    h1 = int(z[0] )\n",
    "                    h2 = int(z[1])\n",
    "                moredigits = int(not((h1==d1) or (h1==d2)) or not ((h2==d1) or (h2==d2)))\n",
    "                if(moredigits + digits <= 2):\n",
    "                    interesting += 1\n",
    "    return interesting \n",
    "\n",
    "solution('00:00:00', '01:01:02')"
   ]
  }
 ],
 "metadata": {
  "kernelspec": {
   "display_name": "Python 3.8.10 64-bit",
   "language": "python",
   "name": "python3"
  },
  "language_info": {
   "codemirror_mode": {
    "name": "ipython",
    "version": 3
   },
   "file_extension": ".py",
   "mimetype": "text/x-python",
   "name": "python",
   "nbconvert_exporter": "python",
   "pygments_lexer": "ipython3",
   "version": "3.8.10"
  },
  "orig_nbformat": 4,
  "vscode": {
   "interpreter": {
    "hash": "31f2aee4e71d21fbe5cf8b01ff0e069b9275f58929596ceb00d14d90e3e16cd6"
   }
  }
 },
 "nbformat": 4,
 "nbformat_minor": 2
}
