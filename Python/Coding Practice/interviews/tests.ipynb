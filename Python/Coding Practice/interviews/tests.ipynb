{
 "cells": [
  {
   "cell_type": "code",
   "execution_count": 5,
   "metadata": {},
   "outputs": [
    {
     "data": {
      "text/plain": [
       "[[True, False, False, False, False, False, False, False, False, False],\n",
       " [False, True, False, False, False, False, False, False, False, False],\n",
       " [False, False, True, False, False, False, False, False, False, False],\n",
       " [False, False, False, True, False, False, False, False, False, False],\n",
       " [False, False, False, False, True, False, False, False, False, False],\n",
       " [False, False, False, False, False, True, False, False, False, False],\n",
       " [False, False, False, False, False, False, True, False, False, False],\n",
       " [False, False, False, False, False, False, False, True, False, False],\n",
       " [False, False, False, False, False, False, False, False, True, False],\n",
       " [False, False, False, False, False, False, False, False, False, True]]"
      ]
     },
     "execution_count": 5,
     "metadata": {},
     "output_type": "execute_result"
    }
   ],
   "source": [
    "s = 'aaabbbcaaa'\n",
    "n = len(s)\n",
    "dp=[[False] * n  for _ in range(n)]\n",
    "\n",
    "for i in range(n):\n",
    "        dp[i][i] = True\n",
    "        ans = s[i]\n",
    "dp"
   ]
  }
 ],
 "metadata": {
  "kernelspec": {
   "display_name": "Python 3.8.10 64-bit",
   "language": "python",
   "name": "python3"
  },
  "language_info": {
   "codemirror_mode": {
    "name": "ipython",
    "version": 3
   },
   "file_extension": ".py",
   "mimetype": "text/x-python",
   "name": "python",
   "nbconvert_exporter": "python",
   "pygments_lexer": "ipython3",
   "version": "3.8.10"
  },
  "orig_nbformat": 4,
  "vscode": {
   "interpreter": {
    "hash": "31f2aee4e71d21fbe5cf8b01ff0e069b9275f58929596ceb00d14d90e3e16cd6"
   }
  }
 },
 "nbformat": 4,
 "nbformat_minor": 2
}
