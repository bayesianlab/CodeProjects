{
 "cells": [
  {
   "cell_type": "code",
   "execution_count": 33,
   "metadata": {},
   "outputs": [
    {
     "name": "stdout",
     "output_type": "stream",
     "text": [
      "[0, 1, 2, -1, -1, -1]\n",
      "[0, 1, 2, 3, -1, -1, -1, -1, -1, -1, -1, -1, -1, -1, -1, -1, -1, -1]\n"
     ]
    },
    {
     "data": {
      "text/plain": [
       "1"
      ]
     },
     "execution_count": 33,
     "metadata": {},
     "output_type": "execute_result"
    }
   ],
   "source": [
    "class Solution(object):\n",
    "    def removeDuplicates(self, nums)->int:\n",
    "        \"\"\"\n",
    "        :type nums: List[int]\n",
    "        :rtype: int\n",
    "        \"\"\"\n",
    "        ilast = nums[0]\n",
    "        wheretoswapi = 1 \n",
    "        k = 1 \n",
    "        for i in range(1, len(nums)):\n",
    "            if(nums[i]  != ilast):\n",
    "                k+=1\n",
    "                ilast = nums[i] \n",
    "                t = nums[i]\n",
    "                nums[i] = nums[wheretoswapi]\n",
    "                nums[wheretoswapi] = t\n",
    "                wheretoswapi+=1\n",
    "        return k\n",
    "    \n",
    "    def removeDuplicates2(self, nums):\n",
    "        \"\"\"\n",
    "        :type nums: List[int]\n",
    "        :rtype: int\n",
    "        \"\"\"\n",
    "        ilast = nums[0]\n",
    "        wheretoswapi = 1 \n",
    "        k = 1 \n",
    "        for i in range(1, len(nums)):\n",
    "            if(nums[i] == ilast):\n",
    "                nums[i] = -1 \n",
    "            else:\n",
    "                ilast = nums[i]\n",
    "        ml = max(nums) +1\n",
    "        nums = sorted(nums, key = lambda x: ml if(x==-1) else x)\n",
    "        print(nums)\n",
    "        return k\n",
    "        \n",
    "        \n",
    "\n",
    "sol = Solution()\n",
    "sol.removeDuplicates2([0,0,1,1,2,2])\n",
    "sol.removeDuplicates([0,0,1,1,1,2,2])\n",
    "sol.removeDuplicates([0])\n",
    "sol.removeDuplicates([0,0,0,0,0,0,0])\n",
    "sol.removeDuplicates([1,1,1,1])\n",
    "sol.removeDuplicates2([0,0,0,0,1,1,1,1,1,2,2,2,3,3,3,3,3,3])"
   ]
  }
 ],
 "metadata": {
  "kernelspec": {
   "display_name": "Python 3.9.12 ('test')",
   "language": "python",
   "name": "python3"
  },
  "language_info": {
   "codemirror_mode": {
    "name": "ipython",
    "version": 3
   },
   "file_extension": ".py",
   "mimetype": "text/x-python",
   "name": "python",
   "nbconvert_exporter": "python",
   "pygments_lexer": "ipython3",
   "version": "3.9.12"
  },
  "orig_nbformat": 4,
  "vscode": {
   "interpreter": {
    "hash": "3e0405f74cd99e8a53067f3c94553a5683f66fdf65b00468ee1d574e0cb3397d"
   }
  }
 },
 "nbformat": 4,
 "nbformat_minor": 2
}
