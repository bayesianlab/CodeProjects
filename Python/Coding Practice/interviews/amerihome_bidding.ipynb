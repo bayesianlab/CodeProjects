{
 "cells": [
  {
   "cell_type": "code",
   "execution_count": 10,
   "metadata": {},
   "outputs": [
    {
     "data": {
      "text/plain": [
       "(array([ 1.,  1.,  0.,  1.,  1.,  1.,  2.,  6.,  5., 10., 12., 12., 24.,\n",
       "        17., 15., 19., 34., 25., 45., 41., 45., 38., 44., 55., 58., 59.,\n",
       "        34., 59., 39., 46., 40., 35., 26., 27., 28., 16., 12., 13., 12.,\n",
       "         5., 11., 10.,  2.,  5.,  4.,  2.,  1.,  0.,  0.,  2.]),\n",
       " array([ 67.35601333,  68.67254727,  69.9890812 ,  71.30561513,\n",
       "         72.62214907,  73.938683  ,  75.25521694,  76.57175087,\n",
       "         77.88828481,  79.20481874,  80.52135267,  81.83788661,\n",
       "         83.15442054,  84.47095448,  85.78748841,  87.10402235,\n",
       "         88.42055628,  89.73709021,  91.05362415,  92.37015808,\n",
       "         93.68669202,  95.00322595,  96.31975989,  97.63629382,\n",
       "         98.95282776, 100.26936169, 101.58589562, 102.90242956,\n",
       "        104.21896349, 105.53549743, 106.85203136, 108.1685653 ,\n",
       "        109.48509923, 110.80163316, 112.1181671 , 113.43470103,\n",
       "        114.75123497, 116.0677689 , 117.38430284, 118.70083677,\n",
       "        120.0173707 , 121.33390464, 122.65043857, 123.96697251,\n",
       "        125.28350644, 126.60004038, 127.91657431, 129.23310824,\n",
       "        130.54964218, 131.86617611, 133.18271005]),\n",
       " <BarContainer object of 50 artists>)"
      ]
     },
     "execution_count": 10,
     "metadata": {},
     "output_type": "execute_result"
    },
    {
     "data": {
      "image/png": "[encoded data removed]",
      "text/plain": [
       "<Figure size 432x288 with 1 Axes>"
      ]
     },
     "metadata": {
      "needs_background": "light"
     },
     "output_type": "display_data"
    }
   ],
   "source": [
    "import pandas as pd\n",
    "import numpy as np \n",
    "import matplotlib.pyplot as plt \n",
    "\n",
    "m1 = 100\n",
    "s1 = 10\n",
    "m2 = 80\n",
    "s2 = 10\n",
    "S = np.random.normal(m1, s1,[1000])\n",
    "B = np.random.normal(m2, s2, [1000])\n",
    "plt.hist(B, bins=50, alpha=.5)\n",
    "plt.hist(S, bins = 50 ,alpha=.5)\n",
    "\n"
   ]
  },
  {
   "cell_type": "code",
   "execution_count": 11,
   "metadata": {},
   "outputs": [
    {
     "data": {
      "text/plain": [
       "(array([ 3.,  0.,  2.,  0.,  1.,  3.,  2.,  8.,  7., 11.,  8., 15., 22.,\n",
       "        21., 22., 19., 23., 25., 33., 40., 44., 49., 45., 50., 44., 49.,\n",
       "        50., 46., 58., 43., 45., 26., 28., 27., 16., 17., 23., 17.,  9.,\n",
       "        18.,  4.,  7.,  7.,  6.,  2.,  2.,  0.,  1.,  1.,  1.]),\n",
       " array([-23.73051981, -21.98409027, -20.23766073, -18.49123119,\n",
       "        -16.74480165, -14.99837211, -13.25194257, -11.50551303,\n",
       "         -9.75908349,  -8.01265395,  -6.26622441,  -4.51979487,\n",
       "         -2.77336533,  -1.02693579,   0.71949375,   2.46592329,\n",
       "          4.21235283,   5.95878237,   7.70521191,   9.45164145,\n",
       "         11.19807099,  12.94450053,  14.69093007,  16.43735961,\n",
       "         18.18378915,  19.93021869,  21.67664823,  23.42307777,\n",
       "         25.16950731,  26.91593685,  28.66236639,  30.40879593,\n",
       "         32.15522547,  33.90165501,  35.64808455,  37.39451409,\n",
       "         39.14094363,  40.88737317,  42.63380271,  44.38023225,\n",
       "         46.12666179,  47.87309133,  49.61952087,  51.36595041,\n",
       "         53.11237995,  54.85880949,  56.60523903,  58.35166857,\n",
       "         60.09809811,  61.84452765,  63.59095719]),\n",
       " <BarContainer object of 50 artists>)"
      ]
     },
     "execution_count": 11,
     "metadata": {},
     "output_type": "execute_result"
    },
    {
     "data": {
      "image/png": "[encoded data removed]",
      "text/plain": [
       "<Figure size 432x288 with 1 Axes>"
      ]
     },
     "metadata": {
      "needs_background": "light"
     },
     "output_type": "display_data"
    }
   ],
   "source": [
    "plt.hist(S-B, bins=50, alpha=.5)"
   ]
  },
  {
   "cell_type": "code",
   "execution_count": null,
   "metadata": {},
   "outputs": [],
   "source": []
  }
 ],
 "metadata": {
  "kernelspec": {
   "display_name": "Python 3.9.12 ('dillons')",
   "language": "python",
   "name": "python3"
  },
  "language_info": {
   "codemirror_mode": {
    "name": "ipython",
    "version": 3
   },
   "file_extension": ".py",
   "mimetype": "text/x-python",
   "name": "python",
   "nbconvert_exporter": "python",
   "pygments_lexer": "ipython3",
   "version": "3.9.12"
  },
  "orig_nbformat": 4,
  "vscode": {
   "interpreter": {
    "hash": "05fccd90d02994bb046ef7d2b7992b21c97101ad1cef68523c1d89f238208fa0"
   }
  }
 },
 "nbformat": 4,
 "nbformat_minor": 2
}
