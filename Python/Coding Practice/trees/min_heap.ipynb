{
 "cells": [
  {
   "cell_type": "code",
   "execution_count": 26,
   "metadata": {},
   "outputs": [],
   "source": [
    "class Node:\n",
    "    def __init__(self, d) -> None:\n",
    "        self.data = d\n",
    "        self.left= None \n",
    "        self.right =  None \n",
    "        \n",
    "class minheap:\n",
    "    def __init__(self) -> None:\n",
    "        self.head = None \n",
    "        \n",
    "    def insert(self, d):\n",
    "        if(self.head == None):\n",
    "            print(\"head\")\n",
    "            self.head = Node(d)\n",
    "        else:\n",
    "            nodelist = [self.head]\n",
    "            tempnodelist = []\n",
    "            stop = 0\n",
    "            while((len(nodelist) > 0 ) and (stop == 0)):\n",
    "                for i in nodelist:\n",
    "                    if(i.left == None):\n",
    "                        i.left = Node(d)\n",
    "                        stop = 1\n",
    "                        break \n",
    "                    else:\n",
    "                        tempnodelist.append(i.left)\n",
    "                    if(stop == 0 and i.right == None):\n",
    "                        i.right = Node(d)\n",
    "                        stop = 1\n",
    "                        break \n",
    "                    elif(stop == 0):\n",
    "                        tempnodelist.append(i.right)\n",
    "                nodelist = tempnodelist.copy()\n",
    "                tempnodelist.clear()\n",
    "                 \n",
    "            \n",
    "                    \n",
    "                        \n",
    "                  \n",
    "def printheap(head):\n",
    "    if(head is not None):\n",
    "        print(head.data)\n",
    "        printheap(head.left)\n",
    "        printheap(head.right)\n",
    " "
   ]
  },
  {
   "cell_type": "code",
   "execution_count": 27,
   "metadata": {},
   "outputs": [
    {
     "name": "stdout",
     "output_type": "stream",
     "text": [
      "head\n",
      "1\n",
      "2\n",
      "4\n",
      "5\n",
      "3\n",
      "6\n",
      "7\n"
     ]
    }
   ],
   "source": [
    "m = minheap() \n",
    "m.insert(1)\n",
    "m.insert(2)\n",
    "m.insert(3)\n",
    "m.insert(4)\n",
    "m.insert(5)\n",
    "m.insert(6)\n",
    "m.insert(7)\n",
    "printheap(m.head)\n",
    "\n"
   ]
  },
  {
   "cell_type": "code",
   "execution_count": 20,
   "metadata": {},
   "outputs": [
    {
     "name": "stdout",
     "output_type": "stream",
     "text": [
      "[ 781.08505665  731.48764294  425.73295903  323.5773909   167.60294782\n",
      " 1166.02562976  319.95806373  769.89330852 1571.03158837  111.5002864 ]\n"
     ]
    }
   ],
   "source": [
    "import numpy as np\n",
    "\n",
    "X = np.random.normal(0,1,size=(10,10))\n",
    "Y = np.matmul(X.T, X)\n",
    "Y = np.linalg.inv(Y)\n",
    "print(Y.diagonal())"
   ]
  }
 ],
 "metadata": {
  "kernelspec": {
   "display_name": "Python 3.9.12 ('test')",
   "language": "python",
   "name": "python3"
  },
  "language_info": {
   "codemirror_mode": {
    "name": "ipython",
    "version": 3
   },
   "file_extension": ".py",
   "mimetype": "text/x-python",
   "name": "python",
   "nbconvert_exporter": "python",
   "pygments_lexer": "ipython3",
   "version": "3.9.12"
  },
  "orig_nbformat": 4,
  "vscode": {
   "interpreter": {
    "hash": "3e0405f74cd99e8a53067f3c94553a5683f66fdf65b00468ee1d574e0cb3397d"
   }
  }
 },
 "nbformat": 4,
 "nbformat_minor": 2
}
