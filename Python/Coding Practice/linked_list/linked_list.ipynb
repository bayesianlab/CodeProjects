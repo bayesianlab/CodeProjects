{
 "cells": [
  {
   "cell_type": "code",
   "execution_count": 170,
   "metadata": {},
   "outputs": [],
   "source": [
    "class Node:\n",
    "    def __init__(self, data) -> None:\n",
    "        self.value = data\n",
    "        self.Next = None\n",
    "\n",
    "\n",
    "class linked_list:\n",
    "    def __init__(self) -> None:\n",
    "        self.head = None\n",
    "\n",
    "    def addLast(self, data):\n",
    "        if(self.head is None):\n",
    "            self.head = Node(data)\n",
    "        else:\n",
    "            root = self.head\n",
    "            while(root.Next is not None):\n",
    "                root = root.Next\n",
    "            root.Next = Node(data)\n",
    "\n",
    "    def insert(self, data):\n",
    "        root = self.head\n",
    "        self.head = Node(data)\n",
    "        self.head.Next = root\n",
    "\n",
    "        \n",
    "\n",
    "    def reverse(self):\n",
    "        last = None\n",
    "        cur = self.head\n",
    "        while(cur is not None):\n",
    "            temp = cur.Next\n",
    "            cur.Next = last\n",
    "            last = cur\n",
    "            cur = temp\n",
    "        self.head = last\n",
    "\n",
    "    def printList(self):\n",
    "        root = self.head\n",
    "        while(root is not None):\n",
    "            print(root.value)\n",
    "            root = root.Next\n"
   ]
  },
  {
   "cell_type": "code",
   "execution_count": 172,
   "metadata": {},
   "outputs": [
    {
     "name": "stdout",
     "output_type": "stream",
     "text": [
      "3\n",
      "2\n",
      "1\n",
      "0\n"
     ]
    }
   ],
   "source": [
    "ll = linked_list()\n",
    "ll.addLast(1)\n",
    "ll.addLast(2)\n",
    "ll.addLast(3)\n",
    "ll.insert(0)\n",
    "# ll.printList()\n",
    "ll.reverse()\n",
    "ll.printList()\n"
   ]
  }
 ],
 "metadata": {
  "kernelspec": {
   "display_name": "Python 3.9.12 ('test')",
   "language": "python",
   "name": "python3"
  },
  "language_info": {
   "codemirror_mode": {
    "name": "ipython",
    "version": 3
   },
   "file_extension": ".py",
   "mimetype": "text/x-python",
   "name": "python",
   "nbconvert_exporter": "python",
   "pygments_lexer": "ipython3",
   "version": "3.9.12"
  },
  "orig_nbformat": 4,
  "vscode": {
   "interpreter": {
    "hash": "3e0405f74cd99e8a53067f3c94553a5683f66fdf65b00468ee1d574e0cb3397d"
   }
  }
 },
 "nbformat": 4,
 "nbformat_minor": 2
}
