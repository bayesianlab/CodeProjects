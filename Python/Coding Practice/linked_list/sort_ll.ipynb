{
 "cells": [
  {
   "cell_type": "code",
   "execution_count": 17,
   "metadata": {},
   "outputs": [
    {
     "name": "stdout",
     "output_type": "stream",
     "text": [
      "1\n",
      "5\n",
      "4\n",
      "3\n",
      "3\n",
      "5\n",
      "4\n"
     ]
    }
   ],
   "source": [
    "\n",
    "from re import T\n",
    "\n",
    "\n",
    "class Node:\n",
    "    def __init__(self, data) -> None:\n",
    "        self.value = data\n",
    "        self.Next = None\n",
    "\n",
    "\n",
    "class linked_list:\n",
    "    def __init__(self) -> None:\n",
    "        self.head = None\n",
    "\n",
    "    def addLast(self, data):\n",
    "        if(self.head is None):\n",
    "            self.head = Node(data)\n",
    "        else:\n",
    "            root = self.head\n",
    "            while(root.Next is not None):\n",
    "                root = root.Next\n",
    "            root.Next = Node(data)\n",
    "\n",
    "    def insert(self, data):\n",
    "        if(self.head == None):\n",
    "            self.head = Node(data)\n",
    "        else:\n",
    "            h = self.head\n",
    "            while(h.Next is not None):\n",
    "                h = h.Next\n",
    "            h.Next = Node(data)\n",
    "\n",
    "    def reverse(self):\n",
    "        last = None\n",
    "        cur = self.head\n",
    "        while(cur is not None):\n",
    "            temp = cur.Next\n",
    "            cur.Next = last\n",
    "            last = cur\n",
    "            cur = temp\n",
    "        self.head = last\n",
    "\n",
    "    def printList(self):\n",
    "        root = self.head\n",
    "        while(root is not None):\n",
    "            print(root.value)\n",
    "            root = root.Next\n",
    "\n",
    "\n",
    "def part(head, tail):\n",
    "    hc = head\n",
    "    tv = tail.value \n",
    "    end_node = tail \n",
    "    while(head is not tail):\n",
    "        if(head.value > tv):\n",
    "            t = head.value\n",
    "            head.value = tail.value\n",
    "            tail.value = t\n",
    "            end_node = head \n",
    "        head = head.Next\n",
    "    return end_node\n",
    "\n",
    "def printLL(head):\n",
    "    while(head is not None):\n",
    "        print(head.value)\n",
    "        head = head.Next\n",
    "\n",
    "\n",
    "h = linked_list()\n",
    "h.insert(5)\n",
    "h.insert(4)\n",
    "h.insert(3)\n",
    "h.insert(1)\n",
    "hc = h.head\n",
    "while(hc.Next is not None):\n",
    "    hc = hc.Next\n",
    "tail = hc\n",
    "part(h.head, tail)\n",
    "h = h.head.Next \n",
    "part(h, tail)\n",
    "\n",
    "\n",
    "# h.printList()\n"
   ]
  },
  {
   "cell_type": "code",
   "execution_count": null,
   "metadata": {},
   "outputs": [],
   "source": []
  }
 ],
 "metadata": {
  "kernelspec": {
   "display_name": "Python 3.8.10 64-bit",
   "language": "python",
   "name": "python3"
  },
  "language_info": {
   "codemirror_mode": {
    "name": "ipython",
    "version": 3
   },
   "file_extension": ".py",
   "mimetype": "text/x-python",
   "name": "python",
   "nbconvert_exporter": "python",
   "pygments_lexer": "ipython3",
   "version": "3.8.10"
  },
  "orig_nbformat": 4,
  "vscode": {
   "interpreter": {
    "hash": "31f2aee4e71d21fbe5cf8b01ff0e069b9275f58929596ceb00d14d90e3e16cd6"
   }
  }
 },
 "nbformat": 4,
 "nbformat_minor": 2
}
