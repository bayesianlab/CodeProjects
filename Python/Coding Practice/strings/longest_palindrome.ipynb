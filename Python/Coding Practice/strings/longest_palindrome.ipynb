{
 "cells": [
  {
   "cell_type": "code",
   "execution_count": 24,
   "metadata": {},
   "outputs": [
    {
     "name": "stdout",
     "output_type": "stream",
     "text": [
      "bb\n"
     ]
    }
   ],
   "source": [
    "class Solution(object):\n",
    "\n",
    "    def __init__(self):\n",
    "        self.pd = {}\n",
    "        self.longest = ''\n",
    "        self.longestlen = len(self.longest)\n",
    "\n",
    "    def isPalindrome(self, s):\n",
    "        l = 0\n",
    "        r = len(s)\n",
    "        while(l <= r):\n",
    "            if(s[l:r] in self.pd.keys()):\n",
    "                self.pd[s] = 1\n",
    "                return True\n",
    "            if(s[l] != s[r-1]):\n",
    "                return False\n",
    "            l += 1\n",
    "            r -= 1\n",
    "        self.pd[s] = 1\n",
    "        return True\n",
    "\n",
    "    def longestPalindrome(self, s):\n",
    "        \"\"\"\n",
    "        :type s: str\n",
    "        :rtype: str\n",
    "        \"\"\"\n",
    "        self.longest = s[0]\n",
    "        self.longestlen = len(self.longest)\n",
    "\n",
    "\n",
    "        for i in range(1, len(s)):\n",
    "            left = i - 1\n",
    "            right = i+1\n",
    "            while(left >= 0 and right <= len(s)-1 and s[left] == s[right]):\n",
    "                if(right-left+2 > self.longestlen):\n",
    "                    self.longest = s[left:right+1]\n",
    "                    self.longestlen = len(self.longest)\n",
    "                left -= 1\n",
    "                right += 1\n",
    "            left = i - 1\n",
    "            right = i \n",
    "            while(left >= 0 and right <= len(s)-1 and s[left]==s[right]):\n",
    "                if(right-left+2 > self.longestlen):\n",
    "                    self.longest = s[left:right+1]\n",
    "                    self.longestlen = len(self.longest)\n",
    "                left -=1\n",
    "                right +=1\n",
    "        return self.longest\n",
    "\n",
    "\n",
    "sol = Solution()\n",
    "# print(sol.longestPalindrome(\"aaaabbbbaaaaa\"))\n",
    "# print(sol.longestPalindrome('c'))\n",
    "# print(sol.longestPalindrome('ccc'))\n",
    "# print(sol.longestPalindrome('babad'))\n",
    "# print(sol.longestPalindrome('abcba'))\n",
    "print(sol.longestPalindrome(\"cbbd\"))\n",
    "# print(sol.longestPalindrome(\"aaaaa\"))\n",
    "# print(sol.longestPalindrome(\"aaaabbbbbbbbbbccccccccccddddddddddeeeeeeeeeeffffffffffgggggggggghhhhhhhhhhiiiiiiiiiijjjjjjjjjjkkkkkkkkkkllllllllllmmmmmmmmmmnnnnnnnnnnooooooooooppppppppppqqqqqqqqqqrrrrrrrrrrssssssssssttttttttttuuuuuuuuuuvvvvvvvvvvwwwwwwwwwwxxxxxxxxxxyyyyyyyyyyzzzzzzzzzzyyyyyyyyyyxxxxxxxxxxwwwwwwwwwwvvvvvvvvvvuuuuuuuuuuttttttttttssssssssssrrrrrrrrrrqqqqqqqqqqppppppppppoooooooooonnnnnnnnnnmmmmmmmmmmllllllllllkkkkkkkkkkjjjjjjjjjjiiiiiiiiiihhhhhhhhhhggggggggggffffffffffeeeeeeeeeeddddddddddccccccccccbbbbbbbbbbaaaaaaaabbbbbbbbbbccccccccccddddddddddeeeeeeeeeeffffffffffgggggggggghhhhhhhhhhiiiiiiiiiijjjjjjjjjjkkkkkkkkkkllllllllllmmmmmmmmmmnnnnnnnnnnooooooooooppppppppppqqqqqqqqqqrrrrrrrrrrssssssssssttttttttttuuuuuuuuuuvvvvvvvvvvwwwwwwwwwwxxxxxxxxxxyyyyyyyyyyzzzzzzzzzzyyyyyyyyyyxxxxxxxxxxwwwwwwwwwwvvvvvvvvvvuuuuuuuuuuttttttttttssssssssssrrrrrrrrrrqqqqqqqqqqppppppppppoooooooooonnnnnnnnnnmmmmmmmmmmllllllllllkkkkkkkkkkjjjjjjjjjjiiiiiiiiiihhhhhhhhhhggggggggggffffffffffeeeeeeeeeeddddddddddccccccccccbbbbbbbbbbaaaa\"))\n",
    "# print(sol.longestPalindrome(\"abababababababababababababababababababababababababababababababababababababababababababababababababababababababababababababababababababababababababababababababababababababababababababababababababababababababababababababababababababababababababababababababababababababababababababababababababababababababababababababababababababababababababababababababababababababababababababababababababababababababababababababababababababababababababababababababababababababababababababababababababababababababababababababababababababababababababababababababababababababababababababababababababababababababababababababababababababababababababababababababababababababababababababababababababababababababababababababababababababababababababababababababababababababababababababababababababababababababababababababababababababababababababababababababababababababababababababababababababababababababababababababababababababababababababababababababababababababababababababababababababababababababababababababababababababa\"))\n"
   ]
  },
  {
   "cell_type": "code",
   "execution_count": 10,
   "metadata": {},
   "outputs": [
    {
     "data": {
      "text/plain": [
       "'abc'"
      ]
     },
     "execution_count": 10,
     "metadata": {},
     "output_type": "execute_result"
    }
   ],
   "source": [
    "string = \"abcd\"\n",
    "string[0:3]"
   ]
  }
 ],
 "metadata": {
  "kernelspec": {
   "display_name": "Python 3.8.10 64-bit",
   "language": "python",
   "name": "python3"
  },
  "language_info": {
   "codemirror_mode": {
    "name": "ipython",
    "version": 3
   },
   "file_extension": ".py",
   "mimetype": "text/x-python",
   "name": "python",
   "nbconvert_exporter": "python",
   "pygments_lexer": "ipython3",
   "version": "3.8.10"
  },
  "orig_nbformat": 4,
  "vscode": {
   "interpreter": {
    "hash": "31f2aee4e71d21fbe5cf8b01ff0e069b9275f58929596ceb00d14d90e3e16cd6"
   }
  }
 },
 "nbformat": 4,
 "nbformat_minor": 2
}
