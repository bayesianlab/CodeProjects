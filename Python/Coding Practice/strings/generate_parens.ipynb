{
 "cells": [
  {
   "cell_type": "code",
   "execution_count": 7,
   "metadata": {},
   "outputs": [
    {
     "data": {
      "text/plain": [
       "['(((())))',\n",
       " '((()()))',\n",
       " '(()(()))',\n",
       " '(()()())',\n",
       " '((())())',\n",
       " '()((()))',\n",
       " '()(()())',\n",
       " '()()(())',\n",
       " '()()()()',\n",
       " '()(())()',\n",
       " '(())(())',\n",
       " '(())()()',\n",
       " '((()))()',\n",
       " '(()())()']"
      ]
     },
     "execution_count": 7,
     "metadata": {},
     "output_type": "execute_result"
    }
   ],
   "source": [
    "\"\"\"\n",
    "    Given n pairs of parentheses, write a \n",
    "    function to generate all combinations of well-formed parentheses.\n",
    "\"\"\"\n",
    "\n",
    "\n",
    "class Solution(object):\n",
    "\n",
    "    def __init__(self) -> None:\n",
    "        self.parendict = {}\n",
    "\n",
    "    def inside(self, s):\n",
    "        return \"(\"+s+\")\"\n",
    "\n",
    "    def left(self, s):\n",
    "        return \"()\" + s\n",
    "\n",
    "    def right(self, s):\n",
    "        return s+\"()\"\n",
    "    \n",
    "    def compose(self, s):\n",
    "        return [\"(\"+i+\")\" for i in s]\n",
    "\n",
    "    def surround(self, n):\n",
    "        if(n==1):\n",
    "            self.parendict[n] = [\"()\"]\n",
    "            return self.parendict[n]\n",
    "        if(n in self.parendict.keys()):\n",
    "            return self.parendict[n]\n",
    "        else:\n",
    "            L = self.surround(n-1) \n",
    "            composed = self.compose(L)\n",
    "            sums = [] \n",
    "            for i in self.parendict.keys():\n",
    "                for j in self.parendict.keys():\n",
    "                    if(i + j == n):\n",
    "                        for u in self.parendict[i]:\n",
    "                            for z in self.parendict[j]:\n",
    "                                if(u+z not in sums):\n",
    "                                    sums.append(u+z)\n",
    "            self.parendict[n] = composed +sums \n",
    "            return self.parendict[n]\n",
    "                                \n",
    "                        \n",
    "                \n",
    "            \n",
    "\n",
    "\n",
    "\n",
    "    def generateParenthesis(self, n):\n",
    "        \"\"\"\n",
    "        :type n: int\n",
    "        :rtype: List[str]\n",
    "        \"\"\"\n",
    "        return self.surround(n)\n",
    "\n",
    "\n",
    "sol = Solution()\n",
    "s = sol.generateParenthesis(4)\n",
    "s\n",
    "\n",
    "# L2 = sol.surround(4)\n",
    "# print(len(set(L2)))\n",
    "# L1 = [\"(((())))\", \"((()()))\", \"((())())\", \"((()))()\", \"(()(()))\", \"(()()())\", \"(()())()\",\n",
    "#       \"(())(())\", \"(())()()\", \"()((()))\", \"()(()())\", \"()(())()\", \"()()(())\", \"()()()()\"]\n",
    "# for i in L1:\n",
    "#     if(i in L2):\n",
    "#         print(\"True\")\n",
    "#     else:\n",
    "#         print(\"False\")\n",
    "#         print(i)\n"
   ]
  },
  {
   "cell_type": "code",
   "execution_count": 4,
   "metadata": {},
   "outputs": [],
   "source": [
    "def allpermutations(A):\n",
    "    if(len(A) == 2):\n",
    "        a = A[0] + A[1]\n",
    "        b = A[1] + A[0]\n",
    "        return [a,b]\n",
    "    lA = list(A)\n",
    "    \n",
    "   \n",
    "\n",
    "allpermutations(\"abc\")"
   ]
  }
 ],
 "metadata": {
  "kernelspec": {
   "display_name": "Python 3.8.10 64-bit",
   "language": "python",
   "name": "python3"
  },
  "language_info": {
   "codemirror_mode": {
    "name": "ipython",
    "version": 3
   },
   "file_extension": ".py",
   "mimetype": "text/x-python",
   "name": "python",
   "nbconvert_exporter": "python",
   "pygments_lexer": "ipython3",
   "version": "3.8.10"
  },
  "orig_nbformat": 4,
  "vscode": {
   "interpreter": {
    "hash": "31f2aee4e71d21fbe5cf8b01ff0e069b9275f58929596ceb00d14d90e3e16cd6"
   }
  }
 },
 "nbformat": 4,
 "nbformat_minor": 2
}
