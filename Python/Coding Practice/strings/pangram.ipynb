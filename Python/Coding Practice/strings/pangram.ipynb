{
 "cells": [
  {
   "cell_type": "code",
   "execution_count": 25,
   "metadata": {},
   "outputs": [
    {
     "data": {
      "text/plain": [
       "True"
      ]
     },
     "execution_count": 25,
     "metadata": {},
     "output_type": "execute_result"
    }
   ],
   "source": [
    "class Solution(object):\n",
    "    def checkIfPangram(self, sentence):\n",
    "        \"\"\"\n",
    "        :type sentence: str\n",
    "        :rtype: bool\n",
    "        \"\"\"\n",
    "        mark = 0\n",
    "        bitset = pow(2,26)-1\n",
    "        for i in sentence:\n",
    "            shift = ord(i) - ord('a')\n",
    "            mark |= mark | (1 << shift)\n",
    "            if(bitset == mark):\n",
    "                return True \n",
    "        \n",
    "        return False \n",
    "            \n",
    "            \n",
    "            \n",
    "            \n",
    "            \n",
    "        \n",
    "sentence = \"thequickbrownfoxjumpsoverthelazydog\"\n",
    "s = Solution()\n",
    "s.checkIfPangram(sentence)\n"
   ]
  }
 ],
 "metadata": {
  "kernelspec": {
   "display_name": "Python 3.9.12 ('test')",
   "language": "python",
   "name": "python3"
  },
  "language_info": {
   "codemirror_mode": {
    "name": "ipython",
    "version": 3
   },
   "file_extension": ".py",
   "mimetype": "text/x-python",
   "name": "python",
   "nbconvert_exporter": "python",
   "pygments_lexer": "ipython3",
   "version": "3.9.12"
  },
  "orig_nbformat": 4,
  "vscode": {
   "interpreter": {
    "hash": "3e0405f74cd99e8a53067f3c94553a5683f66fdf65b00468ee1d574e0cb3397d"
   }
  }
 },
 "nbformat": 4,
 "nbformat_minor": 2
}
