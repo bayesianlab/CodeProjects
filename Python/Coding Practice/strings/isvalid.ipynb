{
 "cells": [
  {
   "cell_type": "code",
   "execution_count": 2,
   "metadata": {},
   "outputs": [
    {
     "name": "stdout",
     "output_type": "stream",
     "text": [
      "(False, False)\n"
     ]
    }
   ],
   "source": [
    "\"\"\"\n",
    "Given a string s containing just the characters '(', ')', '{', '}', '[' and ']', determine if the input string is valid.\n",
    "\n",
    "An input string is valid if:\n",
    "\n",
    "Open brackets must be closed by the same type of brackets.\n",
    "Open brackets must be closed in the correct order.\n",
    "Every close bracket has a corresponding open bracket of the same type.\n",
    "\"\"\"\n",
    " \n",
    "\n",
    "class Solution(object):\n",
    "    \n",
    "    def ismatch(self, s, i):\n",
    "        if (s == '(' and i == ')'):\n",
    "            return True \n",
    "        elif(s == '[' and i == ']'):\n",
    "            return True \n",
    "        elif(s== '{' and i == '}'):\n",
    "            return True \n",
    "        return False \n",
    "\n",
    "    \n",
    "    def isValid(self, s):\n",
    "        \"\"\"\n",
    "        :type s: str\n",
    "        :rtype: bool\n",
    "        \"\"\"\n",
    "        s = list(s) \n",
    "        stack = []\n",
    "        stack.append(s[0])\n",
    "        c = 0 \n",
    "        for i in range(1,len(s)):\n",
    "            if(s[i] == '{' or s[i] == '(' or s[i] == '['):\n",
    "                stack.append(s[i])\n",
    "            else:\n",
    "                if(len(stack) == 0):\n",
    "                    return False \n",
    "                elif(not self.ismatch(stack[-1], s[i])):\n",
    "                    return False \n",
    "                else:\n",
    "                    stack.pop()\n",
    "        if(len(stack) == 0):\n",
    "            return True \n",
    "        return False \n",
    "    \n",
    "sol = Solution()\n",
    "# print((sol.isValid('()[]'), True))\n",
    "# print((sol.isValid('()[]{}'), True))\n",
    "# print((sol.isValid('()[]{'), False))\n",
    "# print((sol.isValid('(())'), True))\n",
    "# print((sol.isValid('(([[]]))'), True))\n",
    "# print((sol.isValid('(]'), False))\n",
    "# print((sol.isValid('(({])]'), False))\n",
    "print((sol.isValid('(){}}{'), False))\n",
    "\n",
    "\n",
    "\n",
    "\n",
    "\n",
    "            \n",
    "        "
   ]
  }
 ],
 "metadata": {
  "kernelspec": {
   "display_name": "Python 3.9.12 ('test')",
   "language": "python",
   "name": "python3"
  },
  "language_info": {
   "codemirror_mode": {
    "name": "ipython",
    "version": 3
   },
   "file_extension": ".py",
   "mimetype": "text/x-python",
   "name": "python",
   "nbconvert_exporter": "python",
   "pygments_lexer": "ipython3",
   "version": "3.9.12"
  },
  "orig_nbformat": 4,
  "vscode": {
   "interpreter": {
    "hash": "3e0405f74cd99e8a53067f3c94553a5683f66fdf65b00468ee1d574e0cb3397d"
   }
  }
 },
 "nbformat": 4,
 "nbformat_minor": 2
}
