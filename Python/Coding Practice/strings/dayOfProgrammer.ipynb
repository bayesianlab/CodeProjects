{
 "cells": [
  {
   "cell_type": "code",
   "execution_count": 17,
   "metadata": {},
   "outputs": [
    {
     "data": {
      "text/plain": [
       "'26.09.1918'"
      ]
     },
     "execution_count": 17,
     "metadata": {},
     "output_type": "execute_result"
    }
   ],
   "source": [
    "#!/bin/python3\n",
    "\n",
    "import math\n",
    "import os\n",
    "import random\n",
    "import re\n",
    "import sys\n",
    "\n",
    "#\n",
    "# Complete the 'dayOfProgrammer' function below.\n",
    "#\n",
    "# The function is expected to return a STRING.\n",
    "# The function accepts INTEGER year as parameter.\n",
    "#\n",
    "\n",
    "\n",
    "def dayOfProgrammer(year):\n",
    "    sumDaysWithoutFeb = 215\n",
    "    if(year == 1918):\n",
    "        date = \"{}.{}.{}\".format(26, \"09\", \"1918\")\n",
    "        return date\n",
    "    else:\n",
    "        if(year < 1918):\n",
    "            if(not (year % 4)):\n",
    "                feb = 29\n",
    "                septdays = 256 - (sumDaysWithoutFeb + feb)\n",
    "                date = \"{}.{}.{}\".format(septdays, \"09\", year)\n",
    "                return date\n",
    "            else:\n",
    "                feb = 28\n",
    "                septdays = 256 - (sumDaysWithoutFeb + feb)\n",
    "                date = \"{}.{}.{}\".format(septdays, \"09\", year)\n",
    "                return date\n",
    "        else:\n",
    "            if((not (year % 400)) or ((year % 100) and not (year % 4))):\n",
    "                feb = 29\n",
    "                septdays = 256 - (sumDaysWithoutFeb + feb)\n",
    "                date = \"{}.{}.{}\".format(septdays, \"09\", year)\n",
    "                return date\n",
    "            else:\n",
    "                feb = 28\n",
    "                septdays = 256 - (sumDaysWithoutFeb + feb)\n",
    "                date = \"{}.{}.{}\".format(septdays, \"09\", year)\n",
    "                return date\n",
    "\n",
    "\n",
    "dayOfProgrammer(1800)\n",
    "dayOfProgrammer(1801)\n",
    "dayOfProgrammer(1919)\n",
    "dayOfProgrammer(2017)\n",
    "dayOfProgrammer(2016)\n",
    "dayOfProgrammer(1918)\n"
   ]
  }
 ],
 "metadata": {
  "kernelspec": {
   "display_name": "Python 3.8.10 64-bit",
   "language": "python",
   "name": "python3"
  },
  "language_info": {
   "codemirror_mode": {
    "name": "ipython",
    "version": 3
   },
   "file_extension": ".py",
   "mimetype": "text/x-python",
   "name": "python",
   "nbconvert_exporter": "python",
   "pygments_lexer": "ipython3",
   "version": "3.8.10"
  },
  "orig_nbformat": 4,
  "vscode": {
   "interpreter": {
    "hash": "31f2aee4e71d21fbe5cf8b01ff0e069b9275f58929596ceb00d14d90e3e16cd6"
   }
  }
 },
 "nbformat": 4,
 "nbformat_minor": 2
}
