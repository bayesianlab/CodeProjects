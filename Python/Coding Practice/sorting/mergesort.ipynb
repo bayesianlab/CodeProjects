{
 "cells": [
  {
   "cell_type": "code",
   "execution_count": 1,
   "metadata": {},
   "outputs": [
    {
     "name": "stdout",
     "output_type": "stream",
     "text": [
      "[10, 7, 2, 7, 1, 10, 11, 2, 3]\n",
      "[10, 7, 2, 7]\n",
      "[10, 7]\n",
      "[2, 7]\n",
      "[1, 10, 11, 2, 3]\n",
      "[1, 10]\n",
      "[11, 2, 3]\n",
      "[11]\n",
      "[2, 3]\n",
      "[1, 2, 2, 3, 7, 7, 10, 10, 11]\n"
     ]
    }
   ],
   "source": [
    "def merge(arr1, arr2):\n",
    "    narr = []\n",
    "    b1  = 0\n",
    "    b2 = 0\n",
    "    while(b1 < len(arr1) and b2 <len(arr2)):\n",
    "        if(arr1[b1] < arr2[b2]):\n",
    "            narr.append(arr1[b1])\n",
    "            b1 += 1\n",
    "        else:\n",
    "            narr.append(arr2[b2])\n",
    "            b2 += 1\n",
    "    if(b1 < len(arr1)):\n",
    "        while(b1<len(arr1)):\n",
    "            narr.append(arr1[b1])\n",
    "            b1+=1\n",
    "    if(b2 < len(arr2)):\n",
    "        while(b2 < len(arr2)):\n",
    "            narr.append(arr2[b2])\n",
    "            b2+=1\n",
    "    return narr\n",
    "\n",
    "def msort(arr):\n",
    "    print(arr)\n",
    "    if(len(arr) == 2):\n",
    "        if(arr[0] >arr[1]):\n",
    "            t = arr[0]\n",
    "            arr[0] = arr[1]\n",
    "            arr[1] = t\n",
    "            return arr\n",
    "        else:\n",
    "            return arr\n",
    "    elif(len(arr) == 1):\n",
    "        return arr\n",
    "    else:\n",
    "        m = len(arr)//2\n",
    "        N = len(arr)\n",
    "        larr = msort(arr[0:m])\n",
    "        rarr = msort(arr[m:N])\n",
    "        return merge(larr,rarr)\n",
    "        \n",
    "\n",
    "\n",
    "print(msort([10, 7, 2, 7, 1, 10, 11,2, 3]))"
   ]
  },
  {
   "cell_type": "code",
   "execution_count": null,
   "metadata": {},
   "outputs": [],
   "source": []
  }
 ],
 "metadata": {
  "kernelspec": {
   "display_name": "amh",
   "language": "python",
   "name": "python3"
  },
  "language_info": {
   "codemirror_mode": {
    "name": "ipython",
    "version": 3
   },
   "file_extension": ".py",
   "mimetype": "text/x-python",
   "name": "python",
   "nbconvert_exporter": "python",
   "pygments_lexer": "ipython3",
   "version": "3.10.12"
  },
  "orig_nbformat": 4
 },
 "nbformat": 4,
 "nbformat_minor": 2
}
