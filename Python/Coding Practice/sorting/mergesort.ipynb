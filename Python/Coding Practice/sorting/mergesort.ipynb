{
 "cells": [
  {
   "cell_type": "code",
   "execution_count": null,
   "metadata": {},
   "outputs": [],
   "source": [
    "def merge(arr1, arr2):\n",
    "    narr = []\n",
    "    b1  = 0\n",
    "    b2 = 0\n",
    "    while(b1 < len(arr1) and b2 <len(arr2)):\n",
    "        if(arr1[b1] < arr2[b2]):\n",
    "            narr.append(arr1[b1])\n",
    "            b1 += 1\n",
    "        else:\n",
    "            narr.append(arr2[b2])\n",
    "            b2 += 1\n",
    "    if(b1 < len(arr1)):\n",
    "        while(b1<len(arr1)):\n",
    "            narr.append(arr1[b1])\n",
    "            b1+=1\n",
    "    if(b2 < len(arr2)):\n",
    "        while(b2 < len(arr2)):\n",
    "            narr.append(arr2[b2])\n",
    "            b2+=1\n",
    "    return narr\n",
    "\n",
    "def msort(arr):\n",
    "    print(arr)\n",
    "    if(len(arr) == 2):\n",
    "        if(arr[0] >arr[1]):\n",
    "            t = arr[0]\n",
    "            arr[0] = arr[1]\n",
    "            arr[1] = t\n",
    "            return arr\n",
    "        else:\n",
    "            return arr\n",
    "    elif(len(arr) == 1):\n",
    "        return arr\n",
    "    else:\n",
    "        m = len(arr)//2\n",
    "        N = len(arr)\n",
    "        larr = msort(arr[0:m])\n",
    "        rarr = msort(arr[m:N])\n",
    "        if(larr[0] >= rarr[len(rarr) -1]):\n",
    "            T = merge(larr,rarr)\n",
    "            return T\n",
    "        else:\n",
    "            T = merge(larr,rarr)\n",
    "            return T \n",
    "\n",
    "\n",
    "print(msort([10, 7, 2, 7, 1, 10, 11,2, 3]))"
   ]
  }
 ],
 "metadata": {
  "language_info": {
   "name": "python"
  },
  "orig_nbformat": 4
 },
 "nbformat": 4,
 "nbformat_minor": 2
}
