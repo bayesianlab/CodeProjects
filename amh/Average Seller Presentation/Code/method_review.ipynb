{
 "cells": [
  {
   "cell_type": "code",
   "execution_count": 2,
   "source": [
    "\r\n",
    "import pandas as pd  \r\n",
    "import numpy as np \r\n",
    "import matplotlib.pyplot as plt\r\n",
    "import pickle\r\n",
    "import pathlib \r\n",
    "from pdHelper import execQuery\r\n",
    "from pdHelper import selectData\r\n",
    "from keras.models import load_model\r\n",
    "import MizerEval \r\n",
    "args = ['', 'Awsdevsql013', 'Market', 84419752]\r\n",
    "proc = 'MizerEvalAction'\r\n",
    "\r\n",
    "def prob(s,m,w):\r\n",
    "    x = np.linspace(-2,2,500)\r\n",
    "    return (1./(1+np.exp(-w))) * (1./(1+np.exp(8*np.exp(s)*(x - m) )))\r\n",
    "\r\n",
    "def SQLAction(args, proc, action_type, addtl=None):\r\n",
    "    \"\"\"\r\n",
    "    Loads input and push output to SQL.\r\n",
    "\r\n",
    "    Parameters:\r\n",
    "        args - includes outputid, server and database info.\r\n",
    "        proc - action proc name.\r\n",
    "        action_type - type of action to be performed in SQL.\r\n",
    "\r\n",
    "    Returns:\r\n",
    "        Dataframe with data or nothing depending on the action_type.\r\n",
    "    \"\"\"\r\n",
    "\r\n",
    "    if action_type == 'EvalSuccess':\r\n",
    "        query = 'exec ' + proc + ' @ActionType = ' + action_type + ', @OutputId = ' + \\\r\n",
    "            str(args[3]) + ', @EvalResultJson = ' + \"'\" + addtl + \"'\"\r\n",
    "        execQuery(query, server = args[1], database = args[2])\r\n",
    "        return\r\n",
    "\r\n",
    "    elif action_type == 'EvalFail':\r\n",
    "        query = 'exec ' + proc + ' @ActionType = ' + action_type + ', @OutputId = ' + \\\r\n",
    "            str(args[3]) + ', @ErrMsgTxt = ' + \"'\" + addtl + \"'\"\r\n",
    "        execQuery(query, server = args[1], database = args[2])\r\n",
    "        return\r\n",
    "\r\n",
    "    elif len(args) == 4:\r\n",
    "        query = 'exec ' + proc + ' @ActionType = ' + \\\r\n",
    "            action_type + ', @OutputId = ' + str(args[3])\r\n",
    "        data_table = selectData(query, server=args[1], database=args[2])\r\n",
    "\r\n",
    "    elif addtl is not None:\r\n",
    "        if len(args) == len(addtl) + 4:\r\n",
    "            query = 'exec ' + proc + ' @ActionType = ' + \\\r\n",
    "                action_type + ', @OutputId = ' + str(args[3])\r\n",
    "            i = 4\r\n",
    "            for field in addtl:\r\n",
    "                query = query + ', @' + field + ' = ' + str(args[i])\r\n",
    "                i = i + 1\r\n",
    "            data_table = selectData(query, server=args[1], database=args[2])\r\n",
    "\r\n",
    "    return data_table"
   ],
   "outputs": [],
   "metadata": {}
  },
  {
   "cell_type": "markdown",
   "source": [
    "# MizerEvalOutput 84419752"
   ],
   "metadata": {}
  },
  {
   "cell_type": "code",
   "execution_count": 3,
   "source": [
    "data=pd.read_csv('time_test.csv')\r\n",
    "data_copy = data.copy()\r\n",
    "model_path = SQLAction(args, proc, 'GetEvalParams')['ModelPath'][0]+'\\\\'\r\n",
    "# model_path = ''\r\n",
    "P = pathlib.Path(model_path)\r\n",
    "model = load_model(P/'Model.h5', compile=False)\r\n",
    "scaler_path = P/'Scaler.pkl'\r\n",
    "with open(scaler_path, 'rb') as f:\r\n",
    "    scaler = pickle.load(f)\r\n",
    "try:\r\n",
    "    features = MizerEval.load_model_features(data, scaler)\r\n",
    "except:\r\n",
    "    print('error with model features')\r\n",
    "\r\n",
    "missing_names = MizerEval.get_new_feature_names(features.columns, scaler.feature_names_in_, 'SellerName')\r\n",
    "missing_names"
   ],
   "outputs": [
    {
     "output_type": "execute_result",
     "data": {
      "text/plain": [
       "{'SellerName_firstbank'}"
      ]
     },
     "metadata": {},
     "execution_count": 3
    }
   ],
   "metadata": {}
  },
  {
   "cell_type": "markdown",
   "source": [
    "# Missing one seller, first bank"
   ],
   "metadata": {}
  },
  {
   "cell_type": "markdown",
   "source": [
    "# Why isn't all 0 the right approach? \r\n",
    "## Our model supposes that $ y = f(c, \\beta_1 x_1, \\beta_2 x_2, \\cdots, \\beta_p x_p, WX) + \\varepsilon $, is the true model. Here $x_1,\\dots,x_p$ are the weights,\r\n",
    "## $X$ are other factors.\r\n",
    "## But if $\\beta_1, \\dots, \\beta_p = 0$ in the case of no seller in the evaluation data, then the result is bias, not average seller behavior.\r\n",
    "## Why would all 0's be average seller? It should be omitted variable bias. \r\n",
    "## The supposition is that the other weights absorb the impact of not having a seller weight, but this will not happen,\r\n",
    "## there are too many other factors possibly prohibting the changing of those weights, i.e., other observations that also have no seller feature. \r\n",
    "## And if the weights change it will not be mimicking the average seller behavior but rather the behavior of that particular seller that was left out. "
   ],
   "metadata": {}
  },
  {
   "cell_type": "markdown",
   "source": [
    "# Example two different sellers with true $W_1 = 10$ and $W_2=-10$ when $x_{i,1}, x_{i,2} = 0$.\r\n",
    "## $y1 = f(x_{1,1} \\beta_1,x_{1,2} \\beta_2,W_1X_{1,1}) +\\varepsilon_1 $ \r\n",
    "##  $y1 = f(x_{1,1} \\beta_1, x_{1,2} \\beta_2, W_2X_{1,2}) +\\varepsilon_1 $ \r\n",
    "## How will the gradient update change $ W $ to lower log loss the most? \r\n",
    "## Will it average $W$ to be 0 for these sellers? \r\n",
    "## Or will it accept the bias from $\\beta_1,\\beta_2$ and keep $W_1$ 10 and $W_2$ -10? \r\n",
    "# Therefore, the result will not be the average seller behavior, it will accept bias in one form or another when these are 0, whichever has a smaller affect on log loss. "
   ],
   "metadata": {}
  },
  {
   "cell_type": "markdown",
   "source": [
    "# Method for getting an average seller behavior: \r\n",
    "## 1. Average the weights\r\n",
    "## 2. Average the predictions\r\n",
    "# Which is correct? Depends on the behavior of the function, "
   ],
   "metadata": {}
  },
  {
   "cell_type": "code",
   "execution_count": 9,
   "source": [
    "plt.plot(np.linspace(0,4,100), np.sqrt(np.linspace(0,4,100)))\r\n",
    "plt.plot(np.linspace(0,4,100), np.linspace(0,2,100))\r\n",
    "plt.plot(np.linspace(0,2,100), np.repeat(1,100))\r\n",
    "plt.plot(np.linspace(0,2,100), np.repeat(np.sqrt(2),100))\r\n",
    "plt.axvline(2)\r\n",
    "# plt.style.use('light_background')"
   ],
   "outputs": [
    {
     "output_type": "execute_result",
     "data": {
      "text/plain": [
       "<matplotlib.lines.Line2D at 0x2cfe6a84f10>"
      ]
     },
     "metadata": {},
     "execution_count": 9
    },
    {
     "output_type": "display_data",
     "data": {
      "text/plain": [
       "<Figure size 640x480 with 1 Axes>"
      ],
      "image/svg+xml": "<?xml version=\"1.0\" encoding=\"utf-8\" standalone=\"no\"?>\n<!DOCTYPE svg PUBLIC \"-//W3C//DTD SVG 1.1//EN\"\n  \"http://www.w3.org/Graphics/SVG/1.1/DTD/svg11.dtd\">\n<svg xmlns:xlink=\"http://www.w3.org/1999/xlink\" width=\"493.425625pt\" height=\"381.420625pt\" viewBox=\"0 0 493.425625 381.420625\" xmlns=\"http://www.w3.org/2000/svg\" version=\"1.1\">\n <metadata>\n  <rdf:RDF xmlns:dc=\"http://purl.org/dc/elements/1.1/\" xmlns:cc=\"http://creativecommons.org/ns#\" xmlns:rdf=\"http://www.w3.org/1999/02/22-rdf-syntax-ns#\">\n   <cc:Work>\n    <dc:type rdf:resource=\"http://purl.org/dc/dcmitype/StillImage\"/>\n    <dc:date>2023-12-21T12:17:49.976924</dc:date>\n    <dc:format>image/svg+xml</dc:format>\n    <dc:creator>\n     <cc:Agent>\n      <dc:title>Matplotlib v3.8.1, https://matplotlib.org/</dc:title>\n     </cc:Agent>\n    </dc:creator>\n   </cc:Work>\n  </rdf:RDF>\n </metadata>\n <defs>\n  <style type=\"text/css\">*{stroke-linejoin: round; stroke-linecap: butt}</style>\n </defs>\n <g id=\"figure_1\">\n  <g id=\"patch_1\">\n   <path d=\"M 0 381.420625 \nL 493.425625 381.420625 \nL 493.425625 0 \nL 0 0 \nz\n\" style=\"fill: #bfbfbf\"/>\n  </g>\n  <g id=\"axes_1\">\n   <g id=\"patch_2\">\n    <path d=\"M 30.28375 358.606875 \nL 476.68375 358.606875 \nL 476.68375 13.006875 \nL 30.28375 13.006875 \nz\n\" style=\"fill: #ffffff\"/>\n   </g>\n   <g id=\"line2d_1\">\n    <path d=\"M 30.28375 358.606875 \nL 34.792841 323.872768 \nL 39.301932 309.48543 \nL 43.811023 298.445637 \nL 48.320114 289.138661 \nL 52.829205 280.939051 \nL 57.338295 273.526036 \nL 61.847386 266.709066 \nL 66.356477 260.363985 \nL 70.865568 254.404554 \nL 75.374659 248.767985 \nL 79.88375 243.406875 \nL 84.392841 238.284399 \nL 88.901932 233.371272 \nL 93.411023 228.643747 \nL 97.920114 224.082257 \nL 102.429205 219.670447 \nL 106.938295 215.394483 \nL 111.447386 211.24254 \nL 115.956477 207.204413 \nL 120.465568 203.271227 \nL 124.974659 199.435201 \nL 129.48375 195.689473 \nL 133.992841 192.02795 \nL 138.501932 188.445198 \nL 143.011023 184.936341 \nL 147.520114 181.496986 \nL 152.029205 178.123161 \nL 156.538295 174.811257 \nL 161.047386 171.557985 \nL 165.556477 168.360336 \nL 170.065568 165.215552 \nL 174.574659 162.121095 \nL 179.08375 159.074622 \nL 183.592841 156.073969 \nL 188.101932 153.117127 \nL 192.611023 150.202234 \nL 197.120114 147.327551 \nL 201.629205 144.49146 \nL 206.138295 141.692447 \nL 210.647386 138.929094 \nL 215.156477 136.200073 \nL 219.665568 133.504135 \nL 224.174659 130.840104 \nL 228.68375 128.206875 \nL 233.192841 125.603403 \nL 237.701932 123.0287 \nL 242.211023 120.481835 \nL 246.720114 117.961923 \nL 251.229205 115.468127 \nL 255.738295 112.99965 \nL 260.247386 110.555737 \nL 264.756477 108.135668 \nL 269.265568 105.73876 \nL 273.774659 103.364359 \nL 278.28375 101.011844 \nL 282.792841 98.68062 \nL 287.301932 96.370119 \nL 291.811023 94.079798 \nL 296.320114 91.809138 \nL 300.829205 89.55764 \nL 305.338295 87.324828 \nL 309.847386 85.110244 \nL 314.356477 82.913448 \nL 318.865568 80.73402 \nL 323.374659 78.571553 \nL 327.88375 76.425657 \nL 332.392841 74.295957 \nL 336.901932 72.182092 \nL 341.411023 70.083714 \nL 345.920114 68.000487 \nL 350.429205 65.932088 \nL 354.938295 63.878205 \nL 359.447386 61.838536 \nL 363.956477 59.81279 \nL 368.465568 57.800686 \nL 372.974659 55.801951 \nL 377.48375 53.816324 \nL 381.992841 51.843549 \nL 386.501932 49.88338 \nL 391.011023 47.935578 \nL 395.520114 45.999913 \nL 400.029205 44.07616 \nL 404.538295 42.164101 \nL 409.047386 40.263527 \nL 413.556477 38.374232 \nL 418.065568 36.496019 \nL 422.574659 34.628694 \nL 427.08375 32.77207 \nL 431.592841 30.925966 \nL 436.101932 29.090204 \nL 440.611023 27.264613 \nL 445.120114 25.449025 \nL 449.629205 23.643279 \nL 454.138295 21.847214 \nL 458.647386 20.060678 \nL 463.156477 18.283521 \nL 467.665568 16.515595 \nL 472.174659 14.75676 \nL 476.68375 13.006875 \n\" clip-path=\"url(#pda565e5919)\" style=\"fill: none; stroke: #0000ff; stroke-linecap: square\"/>\n   </g>\n   <g id=\"line2d_2\">\n    <path d=\"M 30.28375 358.606875 \nL 34.792841 355.115966 \nL 39.301932 351.625057 \nL 43.811023 348.134148 \nL 48.320114 344.643239 \nL 52.829205 341.15233 \nL 57.338295 337.66142 \nL 61.847386 334.170511 \nL 66.356477 330.679602 \nL 70.865568 327.188693 \nL 75.374659 323.697784 \nL 79.88375 320.206875 \nL 84.392841 316.715966 \nL 88.901932 313.225057 \nL 93.411023 309.734148 \nL 97.920114 306.243239 \nL 102.429205 302.75233 \nL 106.938295 299.26142 \nL 111.447386 295.770511 \nL 115.956477 292.279602 \nL 120.465568 288.788693 \nL 124.974659 285.297784 \nL 129.48375 281.806875 \nL 133.992841 278.315966 \nL 138.501932 274.825057 \nL 143.011023 271.334148 \nL 147.520114 267.843239 \nL 152.029205 264.35233 \nL 156.538295 260.86142 \nL 161.047386 257.370511 \nL 165.556477 253.879602 \nL 170.065568 250.388693 \nL 174.574659 246.897784 \nL 179.08375 243.406875 \nL 183.592841 239.915966 \nL 188.101932 236.425057 \nL 192.611023 232.934148 \nL 197.120114 229.443239 \nL 201.629205 225.95233 \nL 206.138295 222.46142 \nL 210.647386 218.970511 \nL 215.156477 215.479602 \nL 219.665568 211.988693 \nL 224.174659 208.497784 \nL 228.68375 205.006875 \nL 233.192841 201.515966 \nL 237.701932 198.025057 \nL 242.211023 194.534148 \nL 246.720114 191.043239 \nL 251.229205 187.55233 \nL 255.738295 184.06142 \nL 260.247386 180.570511 \nL 264.756477 177.079602 \nL 269.265568 173.588693 \nL 273.774659 170.097784 \nL 278.28375 166.606875 \nL 282.792841 163.115966 \nL 287.301932 159.625057 \nL 291.811023 156.134148 \nL 296.320114 152.643239 \nL 300.829205 149.15233 \nL 305.338295 145.66142 \nL 309.847386 142.170511 \nL 314.356477 138.679602 \nL 318.865568 135.188693 \nL 323.374659 131.697784 \nL 327.88375 128.206875 \nL 332.392841 124.715966 \nL 336.901932 121.225057 \nL 341.411023 117.734148 \nL 345.920114 114.243239 \nL 350.429205 110.75233 \nL 354.938295 107.26142 \nL 359.447386 103.770511 \nL 363.956477 100.279602 \nL 368.465568 96.788693 \nL 372.974659 93.297784 \nL 377.48375 89.806875 \nL 381.992841 86.315966 \nL 386.501932 82.825057 \nL 391.011023 79.334148 \nL 395.520114 75.843239 \nL 400.029205 72.35233 \nL 404.538295 68.86142 \nL 409.047386 65.370511 \nL 413.556477 61.879602 \nL 418.065568 58.388693 \nL 422.574659 54.897784 \nL 427.08375 51.406875 \nL 431.592841 47.915966 \nL 436.101932 44.425057 \nL 440.611023 40.934148 \nL 445.120114 37.443239 \nL 449.629205 33.95233 \nL 454.138295 30.46142 \nL 458.647386 26.970511 \nL 463.156477 23.479602 \nL 467.665568 19.988693 \nL 472.174659 16.497784 \nL 476.68375 13.006875 \n\" clip-path=\"url(#pda565e5919)\" style=\"fill: none; stroke: #008000; stroke-linecap: square\"/>\n   </g>\n   <g id=\"line2d_3\">\n    <path d=\"M 30.28375 185.806875 \nL 32.538295 185.806875 \nL 34.792841 185.806875 \nL 37.047386 185.806875 \nL 39.301932 185.806875 \nL 41.556477 185.806875 \nL 43.811023 185.806875 \nL 46.065568 185.806875 \nL 48.320114 185.806875 \nL 50.574659 185.806875 \nL 52.829205 185.806875 \nL 55.08375 185.806875 \nL 57.338295 185.806875 \nL 59.592841 185.806875 \nL 61.847386 185.806875 \nL 64.101932 185.806875 \nL 66.356477 185.806875 \nL 68.611023 185.806875 \nL 70.865568 185.806875 \nL 73.120114 185.806875 \nL 75.374659 185.806875 \nL 77.629205 185.806875 \nL 79.88375 185.806875 \nL 82.138295 185.806875 \nL 84.392841 185.806875 \nL 86.647386 185.806875 \nL 88.901932 185.806875 \nL 91.156477 185.806875 \nL 93.411023 185.806875 \nL 95.665568 185.806875 \nL 97.920114 185.806875 \nL 100.174659 185.806875 \nL 102.429205 185.806875 \nL 104.68375 185.806875 \nL 106.938295 185.806875 \nL 109.192841 185.806875 \nL 111.447386 185.806875 \nL 113.701932 185.806875 \nL 115.956477 185.806875 \nL 118.211023 185.806875 \nL 120.465568 185.806875 \nL 122.720114 185.806875 \nL 124.974659 185.806875 \nL 127.229205 185.806875 \nL 129.48375 185.806875 \nL 131.738295 185.806875 \nL 133.992841 185.806875 \nL 136.247386 185.806875 \nL 138.501932 185.806875 \nL 140.756477 185.806875 \nL 143.011023 185.806875 \nL 145.265568 185.806875 \nL 147.520114 185.806875 \nL 149.774659 185.806875 \nL 152.029205 185.806875 \nL 154.28375 185.806875 \nL 156.538295 185.806875 \nL 158.792841 185.806875 \nL 161.047386 185.806875 \nL 163.301932 185.806875 \nL 165.556477 185.806875 \nL 167.811023 185.806875 \nL 170.065568 185.806875 \nL 172.320114 185.806875 \nL 174.574659 185.806875 \nL 176.829205 185.806875 \nL 179.08375 185.806875 \nL 181.338295 185.806875 \nL 183.592841 185.806875 \nL 185.847386 185.806875 \nL 188.101932 185.806875 \nL 190.356477 185.806875 \nL 192.611023 185.806875 \nL 194.865568 185.806875 \nL 197.120114 185.806875 \nL 199.374659 185.806875 \nL 201.629205 185.806875 \nL 203.88375 185.806875 \nL 206.138295 185.806875 \nL 208.392841 185.806875 \nL 210.647386 185.806875 \nL 212.901932 185.806875 \nL 215.156477 185.806875 \nL 217.411023 185.806875 \nL 219.665568 185.806875 \nL 221.920114 185.806875 \nL 224.174659 185.806875 \nL 226.429205 185.806875 \nL 228.68375 185.806875 \nL 230.938295 185.806875 \nL 233.192841 185.806875 \nL 235.447386 185.806875 \nL 237.701932 185.806875 \nL 239.956477 185.806875 \nL 242.211023 185.806875 \nL 244.465568 185.806875 \nL 246.720114 185.806875 \nL 248.974659 185.806875 \nL 251.229205 185.806875 \nL 253.48375 185.806875 \n\" clip-path=\"url(#pda565e5919)\" style=\"fill: none; stroke: #ff0000; stroke-linecap: square\"/>\n   </g>\n   <g id=\"line2d_4\">\n    <path d=\"M 30.28375 114.230771 \nL 32.538295 114.230771 \nL 34.792841 114.230771 \nL 37.047386 114.230771 \nL 39.301932 114.230771 \nL 41.556477 114.230771 \nL 43.811023 114.230771 \nL 46.065568 114.230771 \nL 48.320114 114.230771 \nL 50.574659 114.230771 \nL 52.829205 114.230771 \nL 55.08375 114.230771 \nL 57.338295 114.230771 \nL 59.592841 114.230771 \nL 61.847386 114.230771 \nL 64.101932 114.230771 \nL 66.356477 114.230771 \nL 68.611023 114.230771 \nL 70.865568 114.230771 \nL 73.120114 114.230771 \nL 75.374659 114.230771 \nL 77.629205 114.230771 \nL 79.88375 114.230771 \nL 82.138295 114.230771 \nL 84.392841 114.230771 \nL 86.647386 114.230771 \nL 88.901932 114.230771 \nL 91.156477 114.230771 \nL 93.411023 114.230771 \nL 95.665568 114.230771 \nL 97.920114 114.230771 \nL 100.174659 114.230771 \nL 102.429205 114.230771 \nL 104.68375 114.230771 \nL 106.938295 114.230771 \nL 109.192841 114.230771 \nL 111.447386 114.230771 \nL 113.701932 114.230771 \nL 115.956477 114.230771 \nL 118.211023 114.230771 \nL 120.465568 114.230771 \nL 122.720114 114.230771 \nL 124.974659 114.230771 \nL 127.229205 114.230771 \nL 129.48375 114.230771 \nL 131.738295 114.230771 \nL 133.992841 114.230771 \nL 136.247386 114.230771 \nL 138.501932 114.230771 \nL 140.756477 114.230771 \nL 143.011023 114.230771 \nL 145.265568 114.230771 \nL 147.520114 114.230771 \nL 149.774659 114.230771 \nL 152.029205 114.230771 \nL 154.28375 114.230771 \nL 156.538295 114.230771 \nL 158.792841 114.230771 \nL 161.047386 114.230771 \nL 163.301932 114.230771 \nL 165.556477 114.230771 \nL 167.811023 114.230771 \nL 170.065568 114.230771 \nL 172.320114 114.230771 \nL 174.574659 114.230771 \nL 176.829205 114.230771 \nL 179.08375 114.230771 \nL 181.338295 114.230771 \nL 183.592841 114.230771 \nL 185.847386 114.230771 \nL 188.101932 114.230771 \nL 190.356477 114.230771 \nL 192.611023 114.230771 \nL 194.865568 114.230771 \nL 197.120114 114.230771 \nL 199.374659 114.230771 \nL 201.629205 114.230771 \nL 203.88375 114.230771 \nL 206.138295 114.230771 \nL 208.392841 114.230771 \nL 210.647386 114.230771 \nL 212.901932 114.230771 \nL 215.156477 114.230771 \nL 217.411023 114.230771 \nL 219.665568 114.230771 \nL 221.920114 114.230771 \nL 224.174659 114.230771 \nL 226.429205 114.230771 \nL 228.68375 114.230771 \nL 230.938295 114.230771 \nL 233.192841 114.230771 \nL 235.447386 114.230771 \nL 237.701932 114.230771 \nL 239.956477 114.230771 \nL 242.211023 114.230771 \nL 244.465568 114.230771 \nL 246.720114 114.230771 \nL 248.974659 114.230771 \nL 251.229205 114.230771 \nL 253.48375 114.230771 \n\" clip-path=\"url(#pda565e5919)\" style=\"fill: none; stroke: #00bfbf; stroke-linecap: square\"/>\n   </g>\n   <g id=\"line2d_5\">\n    <path d=\"M 253.48375 358.606875 \nL 253.48375 13.006875 \n\" clip-path=\"url(#pda565e5919)\" style=\"fill: none; stroke: #0000ff; stroke-linecap: square\"/>\n   </g>\n   <g id=\"patch_3\">\n    <path d=\"M 30.28375 358.606875 \nL 30.28375 13.006875 \n\" style=\"fill: none; stroke: #000000; stroke-linejoin: miter; stroke-linecap: square\"/>\n   </g>\n   <g id=\"patch_4\">\n    <path d=\"M 476.68375 358.606875 \nL 476.68375 13.006875 \n\" style=\"fill: none; stroke: #000000; stroke-linejoin: miter; stroke-linecap: square\"/>\n   </g>\n   <g id=\"patch_5\">\n    <path d=\"M 30.28375 358.606875 \nL 476.68375 358.606875 \n\" style=\"fill: none; stroke: #000000; stroke-linejoin: miter; stroke-linecap: square\"/>\n   </g>\n   <g id=\"patch_6\">\n    <path d=\"M 30.28375 13.006875 \nL 476.68375 13.006875 \n\" style=\"fill: none; stroke: #000000; stroke-linejoin: miter; stroke-linecap: square\"/>\n   </g>\n   <g id=\"matplotlib.axis_1\">\n    <g id=\"xtick_1\">\n     <g id=\"line2d_6\">\n      <defs>\n       <path id=\"m9cd01324d0\" d=\"M 0 0 \nL 0 -4 \n\" style=\"stroke: #000000; stroke-width: 0.5\"/>\n      </defs>\n      <g>\n       <use xlink:href=\"#m9cd01324d0\" x=\"30.28375\" y=\"358.606875\" style=\"stroke: #000000; stroke-width: 0.5\"/>\n      </g>\n     </g>\n     <g id=\"line2d_7\">\n      <defs>\n       <path id=\"m2c79ada5db\" d=\"M 0 0 \nL 0 4 \n\" style=\"stroke: #000000; stroke-width: 0.5\"/>\n      </defs>\n      <g>\n       <use xlink:href=\"#m2c79ada5db\" x=\"30.28375\" y=\"13.006875\" style=\"stroke: #000000; stroke-width: 0.5\"/>\n      </g>\n     </g>\n     <g id=\"text_1\">\n      <!-- 0.0 -->\n      <g transform=\"translate(20.741875 371.725) scale(0.12 -0.12)\">\n       <defs>\n        <path id=\"DejaVuSans-30\" d=\"M 2034 4250 \nQ 1547 4250 1301 3770 \nQ 1056 3291 1056 2328 \nQ 1056 1369 1301 889 \nQ 1547 409 2034 409 \nQ 2525 409 2770 889 \nQ 3016 1369 3016 2328 \nQ 3016 3291 2770 3770 \nQ 2525 4250 2034 4250 \nz\nM 2034 4750 \nQ 2819 4750 3233 4129 \nQ 3647 3509 3647 2328 \nQ 3647 1150 3233 529 \nQ 2819 -91 2034 -91 \nQ 1250 -91 836 529 \nQ 422 1150 422 2328 \nQ 422 3509 836 4129 \nQ 1250 4750 2034 4750 \nz\n\" transform=\"scale(0.015625)\"/>\n        <path id=\"DejaVuSans-2e\" d=\"M 684 794 \nL 1344 794 \nL 1344 0 \nL 684 0 \nL 684 794 \nz\n\" transform=\"scale(0.015625)\"/>\n       </defs>\n       <use xlink:href=\"#DejaVuSans-30\"/>\n       <use xlink:href=\"#DejaVuSans-2e\" x=\"63.623047\"/>\n       <use xlink:href=\"#DejaVuSans-30\" x=\"95.410156\"/>\n      </g>\n     </g>\n    </g>\n    <g id=\"xtick_2\">\n     <g id=\"line2d_8\">\n      <g>\n       <use xlink:href=\"#m9cd01324d0\" x=\"86.08375\" y=\"358.606875\" style=\"stroke: #000000; stroke-width: 0.5\"/>\n      </g>\n     </g>\n     <g id=\"line2d_9\">\n      <g>\n       <use xlink:href=\"#m2c79ada5db\" x=\"86.08375\" y=\"13.006875\" style=\"stroke: #000000; stroke-width: 0.5\"/>\n      </g>\n     </g>\n     <g id=\"text_2\">\n      <!-- 0.5 -->\n      <g transform=\"translate(76.541875 371.725) scale(0.12 -0.12)\">\n       <defs>\n        <path id=\"DejaVuSans-35\" d=\"M 691 4666 \nL 3169 4666 \nL 3169 4134 \nL 1269 4134 \nL 1269 2991 \nQ 1406 3038 1543 3061 \nQ 1681 3084 1819 3084 \nQ 2600 3084 3056 2656 \nQ 3513 2228 3513 1497 \nQ 3513 744 3044 326 \nQ 2575 -91 1722 -91 \nQ 1428 -91 1123 -41 \nQ 819 9 494 109 \nL 494 744 \nQ 775 591 1075 516 \nQ 1375 441 1709 441 \nQ 2250 441 2565 725 \nQ 2881 1009 2881 1497 \nQ 2881 1984 2565 2268 \nQ 2250 2553 1709 2553 \nQ 1456 2553 1204 2497 \nQ 953 2441 691 2322 \nL 691 4666 \nz\n\" transform=\"scale(0.015625)\"/>\n       </defs>\n       <use xlink:href=\"#DejaVuSans-30\"/>\n       <use xlink:href=\"#DejaVuSans-2e\" x=\"63.623047\"/>\n       <use xlink:href=\"#DejaVuSans-35\" x=\"95.410156\"/>\n      </g>\n     </g>\n    </g>\n    <g id=\"xtick_3\">\n     <g id=\"line2d_10\">\n      <g>\n       <use xlink:href=\"#m9cd01324d0\" x=\"141.88375\" y=\"358.606875\" style=\"stroke: #000000; stroke-width: 0.5\"/>\n      </g>\n     </g>\n     <g id=\"line2d_11\">\n      <g>\n       <use xlink:href=\"#m2c79ada5db\" x=\"141.88375\" y=\"13.006875\" style=\"stroke: #000000; stroke-width: 0.5\"/>\n      </g>\n     </g>\n     <g id=\"text_3\">\n      <!-- 1.0 -->\n      <g transform=\"translate(132.341875 371.725) scale(0.12 -0.12)\">\n       <defs>\n        <path id=\"DejaVuSans-31\" d=\"M 794 531 \nL 1825 531 \nL 1825 4091 \nL 703 3866 \nL 703 4441 \nL 1819 4666 \nL 2450 4666 \nL 2450 531 \nL 3481 531 \nL 3481 0 \nL 794 0 \nL 794 531 \nz\n\" transform=\"scale(0.015625)\"/>\n       </defs>\n       <use xlink:href=\"#DejaVuSans-31\"/>\n       <use xlink:href=\"#DejaVuSans-2e\" x=\"63.623047\"/>\n       <use xlink:href=\"#DejaVuSans-30\" x=\"95.410156\"/>\n      </g>\n     </g>\n    </g>\n    <g id=\"xtick_4\">\n     <g id=\"line2d_12\">\n      <g>\n       <use xlink:href=\"#m9cd01324d0\" x=\"197.68375\" y=\"358.606875\" style=\"stroke: #000000; stroke-width: 0.5\"/>\n      </g>\n     </g>\n     <g id=\"line2d_13\">\n      <g>\n       <use xlink:href=\"#m2c79ada5db\" x=\"197.68375\" y=\"13.006875\" style=\"stroke: #000000; stroke-width: 0.5\"/>\n      </g>\n     </g>\n     <g id=\"text_4\">\n      <!-- 1.5 -->\n      <g transform=\"translate(188.141875 371.725) scale(0.12 -0.12)\">\n       <use xlink:href=\"#DejaVuSans-31\"/>\n       <use xlink:href=\"#DejaVuSans-2e\" x=\"63.623047\"/>\n       <use xlink:href=\"#DejaVuSans-35\" x=\"95.410156\"/>\n      </g>\n     </g>\n    </g>\n    <g id=\"xtick_5\">\n     <g id=\"line2d_14\">\n      <g>\n       <use xlink:href=\"#m9cd01324d0\" x=\"253.48375\" y=\"358.606875\" style=\"stroke: #000000; stroke-width: 0.5\"/>\n      </g>\n     </g>\n     <g id=\"line2d_15\">\n      <g>\n       <use xlink:href=\"#m2c79ada5db\" x=\"253.48375\" y=\"13.006875\" style=\"stroke: #000000; stroke-width: 0.5\"/>\n      </g>\n     </g>\n     <g id=\"text_5\">\n      <!-- 2.0 -->\n      <g transform=\"translate(243.941875 371.725) scale(0.12 -0.12)\">\n       <defs>\n        <path id=\"DejaVuSans-32\" d=\"M 1228 531 \nL 3431 531 \nL 3431 0 \nL 469 0 \nL 469 531 \nQ 828 903 1448 1529 \nQ 2069 2156 2228 2338 \nQ 2531 2678 2651 2914 \nQ 2772 3150 2772 3378 \nQ 2772 3750 2511 3984 \nQ 2250 4219 1831 4219 \nQ 1534 4219 1204 4116 \nQ 875 4013 500 3803 \nL 500 4441 \nQ 881 4594 1212 4672 \nQ 1544 4750 1819 4750 \nQ 2544 4750 2975 4387 \nQ 3406 4025 3406 3419 \nQ 3406 3131 3298 2873 \nQ 3191 2616 2906 2266 \nQ 2828 2175 2409 1742 \nQ 1991 1309 1228 531 \nz\n\" transform=\"scale(0.015625)\"/>\n       </defs>\n       <use xlink:href=\"#DejaVuSans-32\"/>\n       <use xlink:href=\"#DejaVuSans-2e\" x=\"63.623047\"/>\n       <use xlink:href=\"#DejaVuSans-30\" x=\"95.410156\"/>\n      </g>\n     </g>\n    </g>\n    <g id=\"xtick_6\">\n     <g id=\"line2d_16\">\n      <g>\n       <use xlink:href=\"#m9cd01324d0\" x=\"309.28375\" y=\"358.606875\" style=\"stroke: #000000; stroke-width: 0.5\"/>\n      </g>\n     </g>\n     <g id=\"line2d_17\">\n      <g>\n       <use xlink:href=\"#m2c79ada5db\" x=\"309.28375\" y=\"13.006875\" style=\"stroke: #000000; stroke-width: 0.5\"/>\n      </g>\n     </g>\n     <g id=\"text_6\">\n      <!-- 2.5 -->\n      <g transform=\"translate(299.741875 371.725) scale(0.12 -0.12)\">\n       <use xlink:href=\"#DejaVuSans-32\"/>\n       <use xlink:href=\"#DejaVuSans-2e\" x=\"63.623047\"/>\n       <use xlink:href=\"#DejaVuSans-35\" x=\"95.410156\"/>\n      </g>\n     </g>\n    </g>\n    <g id=\"xtick_7\">\n     <g id=\"line2d_18\">\n      <g>\n       <use xlink:href=\"#m9cd01324d0\" x=\"365.08375\" y=\"358.606875\" style=\"stroke: #000000; stroke-width: 0.5\"/>\n      </g>\n     </g>\n     <g id=\"line2d_19\">\n      <g>\n       <use xlink:href=\"#m2c79ada5db\" x=\"365.08375\" y=\"13.006875\" style=\"stroke: #000000; stroke-width: 0.5\"/>\n      </g>\n     </g>\n     <g id=\"text_7\">\n      <!-- 3.0 -->\n      <g transform=\"translate(355.541875 371.725) scale(0.12 -0.12)\">\n       <defs>\n        <path id=\"DejaVuSans-33\" d=\"M 2597 2516 \nQ 3050 2419 3304 2112 \nQ 3559 1806 3559 1356 \nQ 3559 666 3084 287 \nQ 2609 -91 1734 -91 \nQ 1441 -91 1130 -33 \nQ 819 25 488 141 \nL 488 750 \nQ 750 597 1062 519 \nQ 1375 441 1716 441 \nQ 2309 441 2620 675 \nQ 2931 909 2931 1356 \nQ 2931 1769 2642 2001 \nQ 2353 2234 1838 2234 \nL 1294 2234 \nL 1294 2753 \nL 1863 2753 \nQ 2328 2753 2575 2939 \nQ 2822 3125 2822 3475 \nQ 2822 3834 2567 4026 \nQ 2313 4219 1838 4219 \nQ 1578 4219 1281 4162 \nQ 984 4106 628 3988 \nL 628 4550 \nQ 988 4650 1302 4700 \nQ 1616 4750 1894 4750 \nQ 2613 4750 3031 4423 \nQ 3450 4097 3450 3541 \nQ 3450 3153 3228 2886 \nQ 3006 2619 2597 2516 \nz\n\" transform=\"scale(0.015625)\"/>\n       </defs>\n       <use xlink:href=\"#DejaVuSans-33\"/>\n       <use xlink:href=\"#DejaVuSans-2e\" x=\"63.623047\"/>\n       <use xlink:href=\"#DejaVuSans-30\" x=\"95.410156\"/>\n      </g>\n     </g>\n    </g>\n    <g id=\"xtick_8\">\n     <g id=\"line2d_20\">\n      <g>\n       <use xlink:href=\"#m9cd01324d0\" x=\"420.88375\" y=\"358.606875\" style=\"stroke: #000000; stroke-width: 0.5\"/>\n      </g>\n     </g>\n     <g id=\"line2d_21\">\n      <g>\n       <use xlink:href=\"#m2c79ada5db\" x=\"420.88375\" y=\"13.006875\" style=\"stroke: #000000; stroke-width: 0.5\"/>\n      </g>\n     </g>\n     <g id=\"text_8\">\n      <!-- 3.5 -->\n      <g transform=\"translate(411.341875 371.725) scale(0.12 -0.12)\">\n       <use xlink:href=\"#DejaVuSans-33\"/>\n       <use xlink:href=\"#DejaVuSans-2e\" x=\"63.623047\"/>\n       <use xlink:href=\"#DejaVuSans-35\" x=\"95.410156\"/>\n      </g>\n     </g>\n    </g>\n    <g id=\"xtick_9\">\n     <g id=\"line2d_22\">\n      <g>\n       <use xlink:href=\"#m9cd01324d0\" x=\"476.68375\" y=\"358.606875\" style=\"stroke: #000000; stroke-width: 0.5\"/>\n      </g>\n     </g>\n     <g id=\"line2d_23\">\n      <g>\n       <use xlink:href=\"#m2c79ada5db\" x=\"476.68375\" y=\"13.006875\" style=\"stroke: #000000; stroke-width: 0.5\"/>\n      </g>\n     </g>\n     <g id=\"text_9\">\n      <!-- 4.0 -->\n      <g transform=\"translate(467.141875 371.725) scale(0.12 -0.12)\">\n       <defs>\n        <path id=\"DejaVuSans-34\" d=\"M 2419 4116 \nL 825 1625 \nL 2419 1625 \nL 2419 4116 \nz\nM 2253 4666 \nL 3047 4666 \nL 3047 1625 \nL 3713 1625 \nL 3713 1100 \nL 3047 1100 \nL 3047 0 \nL 2419 0 \nL 2419 1100 \nL 313 1100 \nL 313 1709 \nL 2253 4666 \nz\n\" transform=\"scale(0.015625)\"/>\n       </defs>\n       <use xlink:href=\"#DejaVuSans-34\"/>\n       <use xlink:href=\"#DejaVuSans-2e\" x=\"63.623047\"/>\n       <use xlink:href=\"#DejaVuSans-30\" x=\"95.410156\"/>\n      </g>\n     </g>\n    </g>\n   </g>\n   <g id=\"matplotlib.axis_2\">\n    <g id=\"ytick_1\">\n     <g id=\"line2d_24\">\n      <defs>\n       <path id=\"m4ce13613b8\" d=\"M 0 0 \nL 4 0 \n\" style=\"stroke: #000000; stroke-width: 0.5\"/>\n      </defs>\n      <g>\n       <use xlink:href=\"#m4ce13613b8\" x=\"30.28375\" y=\"358.606875\" style=\"stroke: #000000; stroke-width: 0.5\"/>\n      </g>\n     </g>\n     <g id=\"line2d_25\">\n      <defs>\n       <path id=\"maeb8fe7675\" d=\"M 0 0 \nL -4 0 \n\" style=\"stroke: #000000; stroke-width: 0.5\"/>\n      </defs>\n      <g>\n       <use xlink:href=\"#maeb8fe7675\" x=\"476.68375\" y=\"358.606875\" style=\"stroke: #000000; stroke-width: 0.5\"/>\n      </g>\n     </g>\n     <g id=\"text_10\">\n      <!-- 0.0 -->\n      <g transform=\"translate(7.2 361.918125) scale(0.12 -0.12)\">\n       <use xlink:href=\"#DejaVuSans-30\"/>\n       <use xlink:href=\"#DejaVuSans-2e\" x=\"63.623047\"/>\n       <use xlink:href=\"#DejaVuSans-30\" x=\"95.410156\"/>\n      </g>\n     </g>\n    </g>\n    <g id=\"ytick_2\">\n     <g id=\"line2d_26\">\n      <g>\n       <use xlink:href=\"#m4ce13613b8\" x=\"30.28375\" y=\"272.206875\" style=\"stroke: #000000; stroke-width: 0.5\"/>\n      </g>\n     </g>\n     <g id=\"line2d_27\">\n      <g>\n       <use xlink:href=\"#maeb8fe7675\" x=\"476.68375\" y=\"272.206875\" style=\"stroke: #000000; stroke-width: 0.5\"/>\n      </g>\n     </g>\n     <g id=\"text_11\">\n      <!-- 0.5 -->\n      <g transform=\"translate(7.2 275.518125) scale(0.12 -0.12)\">\n       <use xlink:href=\"#DejaVuSans-30\"/>\n       <use xlink:href=\"#DejaVuSans-2e\" x=\"63.623047\"/>\n       <use xlink:href=\"#DejaVuSans-35\" x=\"95.410156\"/>\n      </g>\n     </g>\n    </g>\n    <g id=\"ytick_3\">\n     <g id=\"line2d_28\">\n      <g>\n       <use xlink:href=\"#m4ce13613b8\" x=\"30.28375\" y=\"185.806875\" style=\"stroke: #000000; stroke-width: 0.5\"/>\n      </g>\n     </g>\n     <g id=\"line2d_29\">\n      <g>\n       <use xlink:href=\"#maeb8fe7675\" x=\"476.68375\" y=\"185.806875\" style=\"stroke: #000000; stroke-width: 0.5\"/>\n      </g>\n     </g>\n     <g id=\"text_12\">\n      <!-- 1.0 -->\n      <g transform=\"translate(7.2 189.118125) scale(0.12 -0.12)\">\n       <use xlink:href=\"#DejaVuSans-31\"/>\n       <use xlink:href=\"#DejaVuSans-2e\" x=\"63.623047\"/>\n       <use xlink:href=\"#DejaVuSans-30\" x=\"95.410156\"/>\n      </g>\n     </g>\n    </g>\n    <g id=\"ytick_4\">\n     <g id=\"line2d_30\">\n      <g>\n       <use xlink:href=\"#m4ce13613b8\" x=\"30.28375\" y=\"99.406875\" style=\"stroke: #000000; stroke-width: 0.5\"/>\n      </g>\n     </g>\n     <g id=\"line2d_31\">\n      <g>\n       <use xlink:href=\"#maeb8fe7675\" x=\"476.68375\" y=\"99.406875\" style=\"stroke: #000000; stroke-width: 0.5\"/>\n      </g>\n     </g>\n     <g id=\"text_13\">\n      <!-- 1.5 -->\n      <g transform=\"translate(7.2 102.718125) scale(0.12 -0.12)\">\n       <use xlink:href=\"#DejaVuSans-31\"/>\n       <use xlink:href=\"#DejaVuSans-2e\" x=\"63.623047\"/>\n       <use xlink:href=\"#DejaVuSans-35\" x=\"95.410156\"/>\n      </g>\n     </g>\n    </g>\n    <g id=\"ytick_5\">\n     <g id=\"line2d_32\">\n      <g>\n       <use xlink:href=\"#m4ce13613b8\" x=\"30.28375\" y=\"13.006875\" style=\"stroke: #000000; stroke-width: 0.5\"/>\n      </g>\n     </g>\n     <g id=\"line2d_33\">\n      <g>\n       <use xlink:href=\"#maeb8fe7675\" x=\"476.68375\" y=\"13.006875\" style=\"stroke: #000000; stroke-width: 0.5\"/>\n      </g>\n     </g>\n     <g id=\"text_14\">\n      <!-- 2.0 -->\n      <g transform=\"translate(7.2 16.318125) scale(0.12 -0.12)\">\n       <use xlink:href=\"#DejaVuSans-32\"/>\n       <use xlink:href=\"#DejaVuSans-2e\" x=\"63.623047\"/>\n       <use xlink:href=\"#DejaVuSans-30\" x=\"95.410156\"/>\n      </g>\n     </g>\n    </g>\n   </g>\n  </g>\n </g>\n <defs>\n  <clipPath id=\"pda565e5919\">\n   <rect x=\"30.28375\" y=\"13.006875\" width=\"446.4\" height=\"345.6\"/>\n  </clipPath>\n </defs>\n</svg>\n",
      "image/png": "[encoded data removed]"
     },
     "metadata": {}
    }
   ],
   "metadata": {}
  },
  {
   "cell_type": "markdown",
   "source": [
    "# Is it right to take the $E[f(XW)]$ or $f(E[XW])$?\r\n",
    "# The purple line is $E[f(XW)]$, the red line is $f(E[XW])$. "
   ],
   "metadata": {}
  },
  {
   "cell_type": "markdown",
   "source": [
    "# Method 1: Averaging the weights\r\n",
    "## Seller is missing for observation $i$. Average the weights by imputing $1/2$ to each seller feature and averaging the result (taking care to make the proper adjustments for the standardization). \r\n",
    "## $ \\hat{y} = \\hat{\\beta}_1 x_1 + \\hat{\\beta}_2x_2 $\r\n",
    "## The average weight will be $ \\frac{ \\hat{\\beta}_1 +\\hat{\\beta}_2 }{2}$. \r\n",
    "## Since $x_1 $ and $ x_2$ will be 1 for observations when that seller is present, just use this fact to make the right adjustment. \r\n",
    "## $ \\hat{y} = \\hat{\\beta}_1 \\frac{1}{2} + \\hat{\\beta}_2\\frac{1}{2} =  \\frac{ \\hat{\\beta}_1 +\\hat{\\beta}_2 }{2} $\r\n",
    "\r\n",
    "# Result in test dataset with one missing seller, "
   ],
   "metadata": {}
  },
  {
   "cell_type": "code",
   "execution_count": 5,
   "source": [
    "results_weights = MizerEval.run_model2(args,proc)"
   ],
   "outputs": [
    {
     "output_type": "error",
     "ename": "AttributeError",
     "evalue": "module 'MizerEval' has no attribute 'run_model2'",
     "traceback": [
      "\u001b[1;31m---------------------------------------------------------------------------\u001b[0m",
      "\u001b[1;31mAttributeError\u001b[0m                            Traceback (most recent call last)",
      "Cell \u001b[1;32mIn[5], line 1\u001b[0m\n\u001b[1;32m----> 1\u001b[0m results_weights \u001b[38;5;241m=\u001b[39m \u001b[43mMizerEval\u001b[49m\u001b[38;5;241;43m.\u001b[39;49m\u001b[43mrun_model2\u001b[49m(args,proc)\n",
      "\u001b[1;31mAttributeError\u001b[0m: module 'MizerEval' has no attribute 'run_model2'"
     ]
    }
   ],
   "metadata": {}
  },
  {
   "cell_type": "code",
   "execution_count": null,
   "source": [
    "results_weights"
   ],
   "outputs": [
    {
     "output_type": "execute_result",
     "data": {
      "text/plain": [
       "            S         M         W   LookId        SellerName  MissingBit\n",
       "0   -0.094053  0.247238  5.567490  1348752  mortgageresearch         0.0\n",
       "1   -0.006835  0.187875  5.467845  1348765  mortgageresearch         0.0\n",
       "2   -0.107592  0.197758  5.421039  1348768  mortgageresearch         0.0\n",
       "3    0.146090  0.142681  5.452654  1348773  mortgageresearch         0.0\n",
       "4    0.756412  0.076126  5.676445  1348775  mortgageresearch         0.0\n",
       "..        ...       ...       ...      ...               ...         ...\n",
       "995  0.065471 -0.364990 -0.515872  1475083        prosperity         0.0\n",
       "996  0.560390 -0.322056 -1.801288  1475087        prosperity         0.0\n",
       "997  1.306396 -0.112746  2.389131  1475102        prosperity         0.0\n",
       "998  1.478043 -0.189638  1.688059  1475124        prosperity         0.0\n",
       "999  0.820485 -0.454980 -1.269593  1475154        prosperity         0.0\n",
       "\n",
       "[1000 rows x 6 columns]"
      ],
      "text/html": [
       "<div>\n",
       "<style scoped>\n",
       "    .dataframe tbody tr th:only-of-type {\n",
       "        vertical-align: middle;\n",
       "    }\n",
       "\n",
       "    .dataframe tbody tr th {\n",
       "        vertical-align: top;\n",
       "    }\n",
       "\n",
       "    .dataframe thead th {\n",
       "        text-align: right;\n",
       "    }\n",
       "</style>\n",
       "<table border=\"1\" class=\"dataframe\">\n",
       "  <thead>\n",
       "    <tr style=\"text-align: right;\">\n",
       "      <th></th>\n",
       "      <th>S</th>\n",
       "      <th>M</th>\n",
       "      <th>W</th>\n",
       "      <th>LookId</th>\n",
       "      <th>SellerName</th>\n",
       "      <th>MissingBit</th>\n",
       "    </tr>\n",
       "  </thead>\n",
       "  <tbody>\n",
       "    <tr>\n",
       "      <th>0</th>\n",
       "      <td>-0.094053</td>\n",
       "      <td>0.247238</td>\n",
       "      <td>5.567490</td>\n",
       "      <td>1348752</td>\n",
       "      <td>mortgageresearch</td>\n",
       "      <td>0.0</td>\n",
       "    </tr>\n",
       "    <tr>\n",
       "      <th>1</th>\n",
       "      <td>-0.006835</td>\n",
       "      <td>0.187875</td>\n",
       "      <td>5.467845</td>\n",
       "      <td>1348765</td>\n",
       "      <td>mortgageresearch</td>\n",
       "      <td>0.0</td>\n",
       "    </tr>\n",
       "    <tr>\n",
       "      <th>2</th>\n",
       "      <td>-0.107592</td>\n",
       "      <td>0.197758</td>\n",
       "      <td>5.421039</td>\n",
       "      <td>1348768</td>\n",
       "      <td>mortgageresearch</td>\n",
       "      <td>0.0</td>\n",
       "    </tr>\n",
       "    <tr>\n",
       "      <th>3</th>\n",
       "      <td>0.146090</td>\n",
       "      <td>0.142681</td>\n",
       "      <td>5.452654</td>\n",
       "      <td>1348773</td>\n",
       "      <td>mortgageresearch</td>\n",
       "      <td>0.0</td>\n",
       "    </tr>\n",
       "    <tr>\n",
       "      <th>4</th>\n",
       "      <td>0.756412</td>\n",
       "      <td>0.076126</td>\n",
       "      <td>5.676445</td>\n",
       "      <td>1348775</td>\n",
       "      <td>mortgageresearch</td>\n",
       "      <td>0.0</td>\n",
       "    </tr>\n",
       "    <tr>\n",
       "      <th>...</th>\n",
       "      <td>...</td>\n",
       "      <td>...</td>\n",
       "      <td>...</td>\n",
       "      <td>...</td>\n",
       "      <td>...</td>\n",
       "      <td>...</td>\n",
       "    </tr>\n",
       "    <tr>\n",
       "      <th>995</th>\n",
       "      <td>0.065471</td>\n",
       "      <td>-0.364990</td>\n",
       "      <td>-0.515872</td>\n",
       "      <td>1475083</td>\n",
       "      <td>prosperity</td>\n",
       "      <td>0.0</td>\n",
       "    </tr>\n",
       "    <tr>\n",
       "      <th>996</th>\n",
       "      <td>0.560390</td>\n",
       "      <td>-0.322056</td>\n",
       "      <td>-1.801288</td>\n",
       "      <td>1475087</td>\n",
       "      <td>prosperity</td>\n",
       "      <td>0.0</td>\n",
       "    </tr>\n",
       "    <tr>\n",
       "      <th>997</th>\n",
       "      <td>1.306396</td>\n",
       "      <td>-0.112746</td>\n",
       "      <td>2.389131</td>\n",
       "      <td>1475102</td>\n",
       "      <td>prosperity</td>\n",
       "      <td>0.0</td>\n",
       "    </tr>\n",
       "    <tr>\n",
       "      <th>998</th>\n",
       "      <td>1.478043</td>\n",
       "      <td>-0.189638</td>\n",
       "      <td>1.688059</td>\n",
       "      <td>1475124</td>\n",
       "      <td>prosperity</td>\n",
       "      <td>0.0</td>\n",
       "    </tr>\n",
       "    <tr>\n",
       "      <th>999</th>\n",
       "      <td>0.820485</td>\n",
       "      <td>-0.454980</td>\n",
       "      <td>-1.269593</td>\n",
       "      <td>1475154</td>\n",
       "      <td>prosperity</td>\n",
       "      <td>0.0</td>\n",
       "    </tr>\n",
       "  </tbody>\n",
       "</table>\n",
       "<p>1000 rows × 6 columns</p>\n",
       "</div>"
      ]
     },
     "metadata": {},
     "execution_count": 32
    }
   ],
   "metadata": {}
  },
  {
   "cell_type": "code",
   "execution_count": null,
   "source": [
    "results_weights[results_weights['MissingBit']==1]"
   ],
   "outputs": [
    {
     "output_type": "execute_result",
     "data": {
      "text/plain": [
       "            S         M         W   LookId SellerName  MissingBit\n",
       "235  0.659255 -0.069122  0.650536  1956391  firstbank         1.0"
      ],
      "text/html": [
       "<div>\n",
       "<style scoped>\n",
       "    .dataframe tbody tr th:only-of-type {\n",
       "        vertical-align: middle;\n",
       "    }\n",
       "\n",
       "    .dataframe tbody tr th {\n",
       "        vertical-align: top;\n",
       "    }\n",
       "\n",
       "    .dataframe thead th {\n",
       "        text-align: right;\n",
       "    }\n",
       "</style>\n",
       "<table border=\"1\" class=\"dataframe\">\n",
       "  <thead>\n",
       "    <tr style=\"text-align: right;\">\n",
       "      <th></th>\n",
       "      <th>S</th>\n",
       "      <th>M</th>\n",
       "      <th>W</th>\n",
       "      <th>LookId</th>\n",
       "      <th>SellerName</th>\n",
       "      <th>MissingBit</th>\n",
       "    </tr>\n",
       "  </thead>\n",
       "  <tbody>\n",
       "    <tr>\n",
       "      <th>235</th>\n",
       "      <td>0.659255</td>\n",
       "      <td>-0.069122</td>\n",
       "      <td>0.650536</td>\n",
       "      <td>1956391</td>\n",
       "      <td>firstbank</td>\n",
       "      <td>1.0</td>\n",
       "    </tr>\n",
       "  </tbody>\n",
       "</table>\n",
       "</div>"
      ]
     },
     "metadata": {},
     "execution_count": 33
    }
   ],
   "metadata": {}
  },
  {
   "cell_type": "code",
   "execution_count": null,
   "source": [
    "results_weights.iloc[:,0:3].mean()"
   ],
   "outputs": [
    {
     "output_type": "execute_result",
     "data": {
      "text/plain": [
       "S    0.591847\n",
       "M   -0.001727\n",
       "W    3.619793\n",
       "dtype: float64"
      ]
     },
     "metadata": {},
     "execution_count": 34
    }
   ],
   "metadata": {}
  },
  {
   "cell_type": "code",
   "execution_count": null,
   "source": [
    "s = results_weights.iloc[1]['S']\r\n",
    "m = results_weights.iloc[1]['M']\r\n",
    "w = results_weights.iloc[1]['W']\r\n",
    "x = np.linspace(-2,2,500)\r\n",
    "plt.plot(x, prob(s,m,w,0))"
   ],
   "outputs": [
    {
     "output_type": "execute_result",
     "data": {
      "text/plain": [
       "[<matplotlib.lines.Line2D at 0x1354c293340>]"
      ]
     },
     "metadata": {},
     "execution_count": 35
    },
    {
     "output_type": "display_data",
     "data": {
      "text/plain": [
       "<Figure size 640x480 with 1 Axes>"
      ],
      "image/svg+xml": "<?xml version=\"1.0\" encoding=\"utf-8\" standalone=\"no\"?>\n<!DOCTYPE svg PUBLIC \"-//W3C//DTD SVG 1.1//EN\"\n  \"http://www.w3.org/Graphics/SVG/1.1/DTD/svg11.dtd\">\n<svg xmlns:xlink=\"http://www.w3.org/1999/xlink\" width=\"394.423125pt\" height=\"297.190125pt\" viewBox=\"0 0 394.423125 297.190125\" xmlns=\"http://www.w3.org/2000/svg\" version=\"1.1\">\n <metadata>\n  <rdf:RDF xmlns:dc=\"http://purl.org/dc/elements/1.1/\" xmlns:cc=\"http://creativecommons.org/ns#\" xmlns:rdf=\"http://www.w3.org/1999/02/22-rdf-syntax-ns#\">\n   <cc:Work>\n    <dc:type rdf:resource=\"http://purl.org/dc/dcmitype/StillImage\"/>\n    <dc:date>2023-12-18T09:10:02.040984</dc:date>\n    <dc:format>image/svg+xml</dc:format>\n    <dc:creator>\n     <cc:Agent>\n      <dc:title>Matplotlib v3.8.1, https://matplotlib.org/</dc:title>\n     </cc:Agent>\n    </dc:creator>\n   </cc:Work>\n  </rdf:RDF>\n </metadata>\n <defs>\n  <style type=\"text/css\">*{stroke-linejoin: round; stroke-linecap: butt}</style>\n </defs>\n <g id=\"figure_1\">\n  <g id=\"patch_1\">\n   <path d=\"M 0 297.190125 \nL 394.423125 297.190125 \nL 394.423125 0 \nL 0 0 \nz\n\"/>\n  </g>\n  <g id=\"axes_1\">\n   <g id=\"patch_2\">\n    <path d=\"M 30.103125 273.312 \nL 387.223125 273.312 \nL 387.223125 7.2 \nL 30.103125 7.2 \nz\n\"/>\n   </g>\n   <g id=\"matplotlib.axis_1\">\n    <g id=\"xtick_1\">\n     <g id=\"line2d_1\">\n      <defs>\n       <path id=\"m8b2075d3ac\" d=\"M 0 0 \nL 0 3.5 \n\" style=\"stroke: #ffffff; stroke-width: 0.8\"/>\n      </defs>\n      <g>\n       <use xlink:href=\"#m8b2075d3ac\" x=\"46.335852\" y=\"273.312\" style=\"fill: #ffffff; stroke: #ffffff; stroke-width: 0.8\"/>\n      </g>\n     </g>\n     <g id=\"text_1\">\n      <!-- −2.0 -->\n      <g style=\"fill: #ffffff\" transform=\"translate(34.194446 287.910437) scale(0.1 -0.1)\">\n       <defs>\n        <path id=\"DejaVuSans-2212\" d=\"M 678 2272 \nL 4684 2272 \nL 4684 1741 \nL 678 1741 \nL 678 2272 \nz\n\" transform=\"scale(0.015625)\"/>\n        <path id=\"DejaVuSans-32\" d=\"M 1228 531 \nL 3431 531 \nL 3431 0 \nL 469 0 \nL 469 531 \nQ 828 903 1448 1529 \nQ 2069 2156 2228 2338 \nQ 2531 2678 2651 2914 \nQ 2772 3150 2772 3378 \nQ 2772 3750 2511 3984 \nQ 2250 4219 1831 4219 \nQ 1534 4219 1204 4116 \nQ 875 4013 500 3803 \nL 500 4441 \nQ 881 4594 1212 4672 \nQ 1544 4750 1819 4750 \nQ 2544 4750 2975 4387 \nQ 3406 4025 3406 3419 \nQ 3406 3131 3298 2873 \nQ 3191 2616 2906 2266 \nQ 2828 2175 2409 1742 \nQ 1991 1309 1228 531 \nz\n\" transform=\"scale(0.015625)\"/>\n        <path id=\"DejaVuSans-2e\" d=\"M 684 794 \nL 1344 794 \nL 1344 0 \nL 684 0 \nL 684 794 \nz\n\" transform=\"scale(0.015625)\"/>\n        <path id=\"DejaVuSans-30\" d=\"M 2034 4250 \nQ 1547 4250 1301 3770 \nQ 1056 3291 1056 2328 \nQ 1056 1369 1301 889 \nQ 1547 409 2034 409 \nQ 2525 409 2770 889 \nQ 3016 1369 3016 2328 \nQ 3016 3291 2770 3770 \nQ 2525 4250 2034 4250 \nz\nM 2034 4750 \nQ 2819 4750 3233 4129 \nQ 3647 3509 3647 2328 \nQ 3647 1150 3233 529 \nQ 2819 -91 2034 -91 \nQ 1250 -91 836 529 \nQ 422 1150 422 2328 \nQ 422 3509 836 4129 \nQ 1250 4750 2034 4750 \nz\n\" transform=\"scale(0.015625)\"/>\n       </defs>\n       <use xlink:href=\"#DejaVuSans-2212\"/>\n       <use xlink:href=\"#DejaVuSans-32\" x=\"83.789062\"/>\n       <use xlink:href=\"#DejaVuSans-2e\" x=\"147.412109\"/>\n       <use xlink:href=\"#DejaVuSans-30\" x=\"179.199219\"/>\n      </g>\n     </g>\n    </g>\n    <g id=\"xtick_2\">\n     <g id=\"line2d_2\">\n      <g>\n       <use xlink:href=\"#m8b2075d3ac\" x=\"86.91767\" y=\"273.312\" style=\"fill: #ffffff; stroke: #ffffff; stroke-width: 0.8\"/>\n      </g>\n     </g>\n     <g id=\"text_2\">\n      <!-- −1.5 -->\n      <g style=\"fill: #ffffff\" transform=\"translate(74.776264 287.910437) scale(0.1 -0.1)\">\n       <defs>\n        <path id=\"DejaVuSans-31\" d=\"M 794 531 \nL 1825 531 \nL 1825 4091 \nL 703 3866 \nL 703 4441 \nL 1819 4666 \nL 2450 4666 \nL 2450 531 \nL 3481 531 \nL 3481 0 \nL 794 0 \nL 794 531 \nz\n\" transform=\"scale(0.015625)\"/>\n        <path id=\"DejaVuSans-35\" d=\"M 691 4666 \nL 3169 4666 \nL 3169 4134 \nL 1269 4134 \nL 1269 2991 \nQ 1406 3038 1543 3061 \nQ 1681 3084 1819 3084 \nQ 2600 3084 3056 2656 \nQ 3513 2228 3513 1497 \nQ 3513 744 3044 326 \nQ 2575 -91 1722 -91 \nQ 1428 -91 1123 -41 \nQ 819 9 494 109 \nL 494 744 \nQ 775 591 1075 516 \nQ 1375 441 1709 441 \nQ 2250 441 2565 725 \nQ 2881 1009 2881 1497 \nQ 2881 1984 2565 2268 \nQ 2250 2553 1709 2553 \nQ 1456 2553 1204 2497 \nQ 953 2441 691 2322 \nL 691 4666 \nz\n\" transform=\"scale(0.015625)\"/>\n       </defs>\n       <use xlink:href=\"#DejaVuSans-2212\"/>\n       <use xlink:href=\"#DejaVuSans-31\" x=\"83.789062\"/>\n       <use xlink:href=\"#DejaVuSans-2e\" x=\"147.412109\"/>\n       <use xlink:href=\"#DejaVuSans-35\" x=\"179.199219\"/>\n      </g>\n     </g>\n    </g>\n    <g id=\"xtick_3\">\n     <g id=\"line2d_3\">\n      <g>\n       <use xlink:href=\"#m8b2075d3ac\" x=\"127.499489\" y=\"273.312\" style=\"fill: #ffffff; stroke: #ffffff; stroke-width: 0.8\"/>\n      </g>\n     </g>\n     <g id=\"text_3\">\n      <!-- −1.0 -->\n      <g style=\"fill: #ffffff\" transform=\"translate(115.358082 287.910437) scale(0.1 -0.1)\">\n       <use xlink:href=\"#DejaVuSans-2212\"/>\n       <use xlink:href=\"#DejaVuSans-31\" x=\"83.789062\"/>\n       <use xlink:href=\"#DejaVuSans-2e\" x=\"147.412109\"/>\n       <use xlink:href=\"#DejaVuSans-30\" x=\"179.199219\"/>\n      </g>\n     </g>\n    </g>\n    <g id=\"xtick_4\">\n     <g id=\"line2d_4\">\n      <g>\n       <use xlink:href=\"#m8b2075d3ac\" x=\"168.081307\" y=\"273.312\" style=\"fill: #ffffff; stroke: #ffffff; stroke-width: 0.8\"/>\n      </g>\n     </g>\n     <g id=\"text_4\">\n      <!-- −0.5 -->\n      <g style=\"fill: #ffffff\" transform=\"translate(155.939901 287.910437) scale(0.1 -0.1)\">\n       <use xlink:href=\"#DejaVuSans-2212\"/>\n       <use xlink:href=\"#DejaVuSans-30\" x=\"83.789062\"/>\n       <use xlink:href=\"#DejaVuSans-2e\" x=\"147.412109\"/>\n       <use xlink:href=\"#DejaVuSans-35\" x=\"179.199219\"/>\n      </g>\n     </g>\n    </g>\n    <g id=\"xtick_5\">\n     <g id=\"line2d_5\">\n      <g>\n       <use xlink:href=\"#m8b2075d3ac\" x=\"208.663125\" y=\"273.312\" style=\"fill: #ffffff; stroke: #ffffff; stroke-width: 0.8\"/>\n      </g>\n     </g>\n     <g id=\"text_5\">\n      <!-- 0.0 -->\n      <g style=\"fill: #ffffff\" transform=\"translate(200.711563 287.910437) scale(0.1 -0.1)\">\n       <use xlink:href=\"#DejaVuSans-30\"/>\n       <use xlink:href=\"#DejaVuSans-2e\" x=\"63.623047\"/>\n       <use xlink:href=\"#DejaVuSans-30\" x=\"95.410156\"/>\n      </g>\n     </g>\n    </g>\n    <g id=\"xtick_6\">\n     <g id=\"line2d_6\">\n      <g>\n       <use xlink:href=\"#m8b2075d3ac\" x=\"249.244943\" y=\"273.312\" style=\"fill: #ffffff; stroke: #ffffff; stroke-width: 0.8\"/>\n      </g>\n     </g>\n     <g id=\"text_6\">\n      <!-- 0.5 -->\n      <g style=\"fill: #ffffff\" transform=\"translate(241.293381 287.910437) scale(0.1 -0.1)\">\n       <use xlink:href=\"#DejaVuSans-30\"/>\n       <use xlink:href=\"#DejaVuSans-2e\" x=\"63.623047\"/>\n       <use xlink:href=\"#DejaVuSans-35\" x=\"95.410156\"/>\n      </g>\n     </g>\n    </g>\n    <g id=\"xtick_7\">\n     <g id=\"line2d_7\">\n      <g>\n       <use xlink:href=\"#m8b2075d3ac\" x=\"289.826761\" y=\"273.312\" style=\"fill: #ffffff; stroke: #ffffff; stroke-width: 0.8\"/>\n      </g>\n     </g>\n     <g id=\"text_7\">\n      <!-- 1.0 -->\n      <g style=\"fill: #ffffff\" transform=\"translate(281.875199 287.910437) scale(0.1 -0.1)\">\n       <use xlink:href=\"#DejaVuSans-31\"/>\n       <use xlink:href=\"#DejaVuSans-2e\" x=\"63.623047\"/>\n       <use xlink:href=\"#DejaVuSans-30\" x=\"95.410156\"/>\n      </g>\n     </g>\n    </g>\n    <g id=\"xtick_8\">\n     <g id=\"line2d_8\">\n      <g>\n       <use xlink:href=\"#m8b2075d3ac\" x=\"330.40858\" y=\"273.312\" style=\"fill: #ffffff; stroke: #ffffff; stroke-width: 0.8\"/>\n      </g>\n     </g>\n     <g id=\"text_8\">\n      <!-- 1.5 -->\n      <g style=\"fill: #ffffff\" transform=\"translate(322.457017 287.910437) scale(0.1 -0.1)\">\n       <use xlink:href=\"#DejaVuSans-31\"/>\n       <use xlink:href=\"#DejaVuSans-2e\" x=\"63.623047\"/>\n       <use xlink:href=\"#DejaVuSans-35\" x=\"95.410156\"/>\n      </g>\n     </g>\n    </g>\n    <g id=\"xtick_9\">\n     <g id=\"line2d_9\">\n      <g>\n       <use xlink:href=\"#m8b2075d3ac\" x=\"370.990398\" y=\"273.312\" style=\"fill: #ffffff; stroke: #ffffff; stroke-width: 0.8\"/>\n      </g>\n     </g>\n     <g id=\"text_9\">\n      <!-- 2.0 -->\n      <g style=\"fill: #ffffff\" transform=\"translate(363.038835 287.910437) scale(0.1 -0.1)\">\n       <use xlink:href=\"#DejaVuSans-32\"/>\n       <use xlink:href=\"#DejaVuSans-2e\" x=\"63.623047\"/>\n       <use xlink:href=\"#DejaVuSans-30\" x=\"95.410156\"/>\n      </g>\n     </g>\n    </g>\n   </g>\n   <g id=\"matplotlib.axis_2\">\n    <g id=\"ytick_1\">\n     <g id=\"line2d_10\">\n      <defs>\n       <path id=\"m25f2a81ff8\" d=\"M 0 0 \nL -3.5 0 \n\" style=\"stroke: #ffffff; stroke-width: 0.8\"/>\n      </defs>\n      <g>\n       <use xlink:href=\"#m25f2a81ff8\" x=\"30.103125\" y=\"261.216135\" style=\"fill: #ffffff; stroke: #ffffff; stroke-width: 0.8\"/>\n      </g>\n     </g>\n     <g id=\"text_10\">\n      <!-- 0.0 -->\n      <g style=\"fill: #ffffff\" transform=\"translate(7.2 265.015354) scale(0.1 -0.1)\">\n       <use xlink:href=\"#DejaVuSans-30\"/>\n       <use xlink:href=\"#DejaVuSans-2e\" x=\"63.623047\"/>\n       <use xlink:href=\"#DejaVuSans-30\" x=\"95.410156\"/>\n      </g>\n     </g>\n    </g>\n    <g id=\"ytick_2\">\n     <g id=\"line2d_11\">\n      <g>\n       <use xlink:href=\"#m25f2a81ff8\" x=\"30.103125\" y=\"212.627911\" style=\"fill: #ffffff; stroke: #ffffff; stroke-width: 0.8\"/>\n      </g>\n     </g>\n     <g id=\"text_11\">\n      <!-- 0.2 -->\n      <g style=\"fill: #ffffff\" transform=\"translate(7.2 216.42713) scale(0.1 -0.1)\">\n       <use xlink:href=\"#DejaVuSans-30\"/>\n       <use xlink:href=\"#DejaVuSans-2e\" x=\"63.623047\"/>\n       <use xlink:href=\"#DejaVuSans-32\" x=\"95.410156\"/>\n      </g>\n     </g>\n    </g>\n    <g id=\"ytick_3\">\n     <g id=\"line2d_12\">\n      <g>\n       <use xlink:href=\"#m25f2a81ff8\" x=\"30.103125\" y=\"164.039687\" style=\"fill: #ffffff; stroke: #ffffff; stroke-width: 0.8\"/>\n      </g>\n     </g>\n     <g id=\"text_12\">\n      <!-- 0.4 -->\n      <g style=\"fill: #ffffff\" transform=\"translate(7.2 167.838905) scale(0.1 -0.1)\">\n       <defs>\n        <path id=\"DejaVuSans-34\" d=\"M 2419 4116 \nL 825 1625 \nL 2419 1625 \nL 2419 4116 \nz\nM 2253 4666 \nL 3047 4666 \nL 3047 1625 \nL 3713 1625 \nL 3713 1100 \nL 3047 1100 \nL 3047 0 \nL 2419 0 \nL 2419 1100 \nL 313 1100 \nL 313 1709 \nL 2253 4666 \nz\n\" transform=\"scale(0.015625)\"/>\n       </defs>\n       <use xlink:href=\"#DejaVuSans-30\"/>\n       <use xlink:href=\"#DejaVuSans-2e\" x=\"63.623047\"/>\n       <use xlink:href=\"#DejaVuSans-34\" x=\"95.410156\"/>\n      </g>\n     </g>\n    </g>\n    <g id=\"ytick_4\">\n     <g id=\"line2d_13\">\n      <g>\n       <use xlink:href=\"#m25f2a81ff8\" x=\"30.103125\" y=\"115.451462\" style=\"fill: #ffffff; stroke: #ffffff; stroke-width: 0.8\"/>\n      </g>\n     </g>\n     <g id=\"text_13\">\n      <!-- 0.6 -->\n      <g style=\"fill: #ffffff\" transform=\"translate(7.2 119.250681) scale(0.1 -0.1)\">\n       <defs>\n        <path id=\"DejaVuSans-36\" d=\"M 2113 2584 \nQ 1688 2584 1439 2293 \nQ 1191 2003 1191 1497 \nQ 1191 994 1439 701 \nQ 1688 409 2113 409 \nQ 2538 409 2786 701 \nQ 3034 994 3034 1497 \nQ 3034 2003 2786 2293 \nQ 2538 2584 2113 2584 \nz\nM 3366 4563 \nL 3366 3988 \nQ 3128 4100 2886 4159 \nQ 2644 4219 2406 4219 \nQ 1781 4219 1451 3797 \nQ 1122 3375 1075 2522 \nQ 1259 2794 1537 2939 \nQ 1816 3084 2150 3084 \nQ 2853 3084 3261 2657 \nQ 3669 2231 3669 1497 \nQ 3669 778 3244 343 \nQ 2819 -91 2113 -91 \nQ 1303 -91 875 529 \nQ 447 1150 447 2328 \nQ 447 3434 972 4092 \nQ 1497 4750 2381 4750 \nQ 2619 4750 2861 4703 \nQ 3103 4656 3366 4563 \nz\n\" transform=\"scale(0.015625)\"/>\n       </defs>\n       <use xlink:href=\"#DejaVuSans-30\"/>\n       <use xlink:href=\"#DejaVuSans-2e\" x=\"63.623047\"/>\n       <use xlink:href=\"#DejaVuSans-36\" x=\"95.410156\"/>\n      </g>\n     </g>\n    </g>\n    <g id=\"ytick_5\">\n     <g id=\"line2d_14\">\n      <g>\n       <use xlink:href=\"#m25f2a81ff8\" x=\"30.103125\" y=\"66.863238\" style=\"fill: #ffffff; stroke: #ffffff; stroke-width: 0.8\"/>\n      </g>\n     </g>\n     <g id=\"text_14\">\n      <!-- 0.8 -->\n      <g style=\"fill: #ffffff\" transform=\"translate(7.2 70.662457) scale(0.1 -0.1)\">\n       <defs>\n        <path id=\"DejaVuSans-38\" d=\"M 2034 2216 \nQ 1584 2216 1326 1975 \nQ 1069 1734 1069 1313 \nQ 1069 891 1326 650 \nQ 1584 409 2034 409 \nQ 2484 409 2743 651 \nQ 3003 894 3003 1313 \nQ 3003 1734 2745 1975 \nQ 2488 2216 2034 2216 \nz\nM 1403 2484 \nQ 997 2584 770 2862 \nQ 544 3141 544 3541 \nQ 544 4100 942 4425 \nQ 1341 4750 2034 4750 \nQ 2731 4750 3128 4425 \nQ 3525 4100 3525 3541 \nQ 3525 3141 3298 2862 \nQ 3072 2584 2669 2484 \nQ 3125 2378 3379 2068 \nQ 3634 1759 3634 1313 \nQ 3634 634 3220 271 \nQ 2806 -91 2034 -91 \nQ 1263 -91 848 271 \nQ 434 634 434 1313 \nQ 434 1759 690 2068 \nQ 947 2378 1403 2484 \nz\nM 1172 3481 \nQ 1172 3119 1398 2916 \nQ 1625 2713 2034 2713 \nQ 2441 2713 2670 2916 \nQ 2900 3119 2900 3481 \nQ 2900 3844 2670 4047 \nQ 2441 4250 2034 4250 \nQ 1625 4250 1398 4047 \nQ 1172 3844 1172 3481 \nz\n\" transform=\"scale(0.015625)\"/>\n       </defs>\n       <use xlink:href=\"#DejaVuSans-30\"/>\n       <use xlink:href=\"#DejaVuSans-2e\" x=\"63.623047\"/>\n       <use xlink:href=\"#DejaVuSans-38\" x=\"95.410156\"/>\n      </g>\n     </g>\n    </g>\n    <g id=\"ytick_6\">\n     <g id=\"line2d_15\">\n      <g>\n       <use xlink:href=\"#m25f2a81ff8\" x=\"30.103125\" y=\"18.275014\" style=\"fill: #ffffff; stroke: #ffffff; stroke-width: 0.8\"/>\n      </g>\n     </g>\n     <g id=\"text_15\">\n      <!-- 1.0 -->\n      <g style=\"fill: #ffffff\" transform=\"translate(7.2 22.074233) scale(0.1 -0.1)\">\n       <use xlink:href=\"#DejaVuSans-31\"/>\n       <use xlink:href=\"#DejaVuSans-2e\" x=\"63.623047\"/>\n       <use xlink:href=\"#DejaVuSans-30\" x=\"95.410156\"/>\n      </g>\n     </g>\n    </g>\n   </g>\n   <g id=\"line2d_16\">\n    <path d=\"M 46.335852 19.296 \nL 145.22862 19.405199 \nL 156.939605 19.63933 \nL 164.096319 19.986812 \nL 169.301201 20.443692 \nL 173.204863 20.974159 \nL 176.457915 21.597492 \nL 179.710966 22.449315 \nL 182.313407 23.348952 \nL 184.915849 24.499661 \nL 186.86768 25.566889 \nL 188.81951 26.846017 \nL 190.771341 28.376005 \nL 192.723172 30.201613 \nL 194.675003 32.373658 \nL 196.626834 34.948992 \nL 198.578665 37.990048 \nL 200.530496 41.563774 \nL 202.482327 45.739755 \nL 204.434158 50.587312 \nL 206.385989 56.171427 \nL 208.33782 62.54743 \nL 210.289651 69.754587 \nL 212.241482 77.808989 \nL 214.193313 86.696468 \nL 216.795754 99.749467 \nL 219.398195 113.959173 \nL 223.301857 136.646149 \nL 229.15735 170.648653 \nL 231.759791 184.563586 \nL 234.362232 197.244233 \nL 236.314063 205.823114 \nL 238.265894 213.55964 \nL 240.217725 220.451779 \nL 242.169556 226.525165 \nL 244.121387 231.825897 \nL 246.073218 236.413624 \nL 248.025049 240.355512 \nL 249.97688 243.721392 \nL 251.928711 246.580142 \nL 253.880542 248.997188 \nL 255.832373 251.032957 \nL 257.784204 252.742064 \nL 259.736034 254.173039 \nL 261.687865 255.368425 \nL 264.290307 256.658811 \nL 266.892748 257.668733 \nL 269.495189 258.457453 \nL 272.748241 259.203568 \nL 276.651903 259.839134 \nL 281.206175 260.332651 \nL 287.061668 260.717315 \nL 294.868991 260.983598 \nL 307.230587 261.146756 \nL 333.255 261.210704 \nL 370.990398 261.216 \nL 370.990398 261.216 \n\" clip-path=\"url(#pd84172fda0)\" style=\"fill: none; stroke: #8dd3c7; stroke-width: 1.5; stroke-linecap: square\"/>\n   </g>\n   <g id=\"patch_3\">\n    <path d=\"M 30.103125 273.312 \nL 30.103125 7.2 \n\" style=\"fill: none; stroke: #ffffff; stroke-width: 0.8; stroke-linejoin: miter; stroke-linecap: square\"/>\n   </g>\n   <g id=\"patch_4\">\n    <path d=\"M 387.223125 273.312 \nL 387.223125 7.2 \n\" style=\"fill: none; stroke: #ffffff; stroke-width: 0.8; stroke-linejoin: miter; stroke-linecap: square\"/>\n   </g>\n   <g id=\"patch_5\">\n    <path d=\"M 30.103125 273.312 \nL 387.223125 273.312 \n\" style=\"fill: none; stroke: #ffffff; stroke-width: 0.8; stroke-linejoin: miter; stroke-linecap: square\"/>\n   </g>\n   <g id=\"patch_6\">\n    <path d=\"M 30.103125 7.2 \nL 387.223125 7.2 \n\" style=\"fill: none; stroke: #ffffff; stroke-width: 0.8; stroke-linejoin: miter; stroke-linecap: square\"/>\n   </g>\n  </g>\n </g>\n <defs>\n  <clipPath id=\"pd84172fda0\">\n   <rect x=\"30.103125\" y=\"7.2\" width=\"357.12\" height=\"266.112\"/>\n  </clipPath>\n </defs>\n</svg>\n",
      "image/png": "[encoded data removed]"
     },
     "metadata": {}
    }
   ],
   "metadata": {}
  },
  {
   "cell_type": "markdown",
   "source": [
    "# Method 2: Averaging the predictions \r\n",
    "# Take the results from the output of layers S,M,W and average these for each missing seller. \r\n"
   ],
   "metadata": {}
  },
  {
   "cell_type": "code",
   "execution_count": null,
   "source": [
    "features.iloc[235]"
   ],
   "outputs": [
    {
     "output_type": "execute_result",
     "data": {
      "text/plain": [
       "LookId                    1956391.0\n",
       "AbaMemberBit                    0.0\n",
       "CommitPeriodGrp                 7.0\n",
       "LoanAmt                    356500.0\n",
       "BaseLoanAmt                356500.0\n",
       "                            ...    \n",
       "DayofTheWeek_Friday             0.0\n",
       "DayofTheWeek_Monday             0.0\n",
       "DayofTheWeek_Thursday           0.0\n",
       "DayofTheWeek_Tuesday            0.0\n",
       "DayofTheWeek_Wednesday          0.0\n",
       "Name: 235, Length: 630, dtype: float64"
      ]
     },
     "metadata": {},
     "execution_count": 36
    }
   ],
   "metadata": {}
  },
  {
   "cell_type": "markdown",
   "source": [
    "# Keep all features the same but make a prediction for each seller and get S,M,W\r\n",
    "# $ \\hat{y}_1 = w_1 1 + w_2 0 + \\dots + w_p 0 + WX + \\varepsilon $ \r\n",
    "# $ \\hat{y}_2 = w_{1} 0 + w_{2} 1 + \\dots + w_{p} 0 + WX + \\varepsilon $ \r\n",
    "# $ \\hat{y}_3 = w_1 0 + w_2 0 + \\dots + w_p 0 + WX + \\varepsilon $ \r\n",
    "# $ \\vdots $\r\n",
    "# $ \\hat{y}_n = w_1 0 + w_2 0 + \\dots + w_p 1 + WX + \\varepsilon $ \r\n",
    "# and take $\\frac{1}{n} \\sum_i^n \\hat{y}$"
   ],
   "metadata": {}
  },
  {
   "cell_type": "code",
   "execution_count": null,
   "source": [
    "\r\n",
    "results_average = MizerEval.run_model(args,proc)"
   ],
   "outputs": [],
   "metadata": {}
  },
  {
   "cell_type": "code",
   "execution_count": null,
   "source": [
    "results_average[results_average['MissingBit']==1]"
   ],
   "outputs": [
    {
     "output_type": "execute_result",
     "data": {
      "text/plain": [
       "            S         M         W   LookId SellerName  MissingBit\n",
       "235  0.996013 -0.158998  1.547965  1956391  firstbank         1.0"
      ],
      "text/html": [
       "<div>\n",
       "<style scoped>\n",
       "    .dataframe tbody tr th:only-of-type {\n",
       "        vertical-align: middle;\n",
       "    }\n",
       "\n",
       "    .dataframe tbody tr th {\n",
       "        vertical-align: top;\n",
       "    }\n",
       "\n",
       "    .dataframe thead th {\n",
       "        text-align: right;\n",
       "    }\n",
       "</style>\n",
       "<table border=\"1\" class=\"dataframe\">\n",
       "  <thead>\n",
       "    <tr style=\"text-align: right;\">\n",
       "      <th></th>\n",
       "      <th>S</th>\n",
       "      <th>M</th>\n",
       "      <th>W</th>\n",
       "      <th>LookId</th>\n",
       "      <th>SellerName</th>\n",
       "      <th>MissingBit</th>\n",
       "    </tr>\n",
       "  </thead>\n",
       "  <tbody>\n",
       "    <tr>\n",
       "      <th>235</th>\n",
       "      <td>0.996013</td>\n",
       "      <td>-0.158998</td>\n",
       "      <td>1.547965</td>\n",
       "      <td>1956391</td>\n",
       "      <td>firstbank</td>\n",
       "      <td>1.0</td>\n",
       "    </tr>\n",
       "  </tbody>\n",
       "</table>\n",
       "</div>"
      ]
     },
     "metadata": {},
     "execution_count": 38
    }
   ],
   "metadata": {}
  },
  {
   "cell_type": "code",
   "execution_count": null,
   "source": [
    "results_average[results_average['MissingBit']==1]"
   ],
   "outputs": [
    {
     "output_type": "execute_result",
     "data": {
      "text/plain": [
       "            S         M         W   LookId SellerName  MissingBit\n",
       "235  0.996013 -0.158998  1.547965  1956391  firstbank         1.0"
      ],
      "text/html": [
       "<div>\n",
       "<style scoped>\n",
       "    .dataframe tbody tr th:only-of-type {\n",
       "        vertical-align: middle;\n",
       "    }\n",
       "\n",
       "    .dataframe tbody tr th {\n",
       "        vertical-align: top;\n",
       "    }\n",
       "\n",
       "    .dataframe thead th {\n",
       "        text-align: right;\n",
       "    }\n",
       "</style>\n",
       "<table border=\"1\" class=\"dataframe\">\n",
       "  <thead>\n",
       "    <tr style=\"text-align: right;\">\n",
       "      <th></th>\n",
       "      <th>S</th>\n",
       "      <th>M</th>\n",
       "      <th>W</th>\n",
       "      <th>LookId</th>\n",
       "      <th>SellerName</th>\n",
       "      <th>MissingBit</th>\n",
       "    </tr>\n",
       "  </thead>\n",
       "  <tbody>\n",
       "    <tr>\n",
       "      <th>235</th>\n",
       "      <td>0.996013</td>\n",
       "      <td>-0.158998</td>\n",
       "      <td>1.547965</td>\n",
       "      <td>1956391</td>\n",
       "      <td>firstbank</td>\n",
       "      <td>1.0</td>\n",
       "    </tr>\n",
       "  </tbody>\n",
       "</table>\n",
       "</div>"
      ]
     },
     "metadata": {},
     "execution_count": 39
    }
   ],
   "metadata": {}
  },
  {
   "cell_type": "code",
   "execution_count": null,
   "source": [
    "s = results_average.iloc[1]['S']\r\n",
    "m = results_average.iloc[1]['M']\r\n",
    "w = results_average.iloc[1]['W']\r\n",
    "x = np.linspace(-2,2,500)\r\n",
    "plt.plot(x, prob(s,m,w,-0))"
   ],
   "outputs": [
    {
     "output_type": "execute_result",
     "data": {
      "text/plain": [
       "[<matplotlib.lines.Line2D at 0x1354c4382b0>]"
      ]
     },
     "metadata": {},
     "execution_count": 42
    },
    {
     "output_type": "display_data",
     "data": {
      "text/plain": [
       "<Figure size 640x480 with 1 Axes>"
      ],
      "image/svg+xml": "<?xml version=\"1.0\" encoding=\"utf-8\" standalone=\"no\"?>\n<!DOCTYPE svg PUBLIC \"-//W3C//DTD SVG 1.1//EN\"\n  \"http://www.w3.org/Graphics/SVG/1.1/DTD/svg11.dtd\">\n<svg xmlns:xlink=\"http://www.w3.org/1999/xlink\" width=\"394.423125pt\" height=\"297.190125pt\" viewBox=\"0 0 394.423125 297.190125\" xmlns=\"http://www.w3.org/2000/svg\" version=\"1.1\">\n <metadata>\n  <rdf:RDF xmlns:dc=\"http://purl.org/dc/elements/1.1/\" xmlns:cc=\"http://creativecommons.org/ns#\" xmlns:rdf=\"http://www.w3.org/1999/02/22-rdf-syntax-ns#\">\n   <cc:Work>\n    <dc:type rdf:resource=\"http://purl.org/dc/dcmitype/StillImage\"/>\n    <dc:date>2023-12-18T09:10:51.797378</dc:date>\n    <dc:format>image/svg+xml</dc:format>\n    <dc:creator>\n     <cc:Agent>\n      <dc:title>Matplotlib v3.8.1, https://matplotlib.org/</dc:title>\n     </cc:Agent>\n    </dc:creator>\n   </cc:Work>\n  </rdf:RDF>\n </metadata>\n <defs>\n  <style type=\"text/css\">*{stroke-linejoin: round; stroke-linecap: butt}</style>\n </defs>\n <g id=\"figure_1\">\n  <g id=\"patch_1\">\n   <path d=\"M 0 297.190125 \nL 394.423125 297.190125 \nL 394.423125 0 \nL 0 0 \nz\n\"/>\n  </g>\n  <g id=\"axes_1\">\n   <g id=\"patch_2\">\n    <path d=\"M 30.103125 273.312 \nL 387.223125 273.312 \nL 387.223125 7.2 \nL 30.103125 7.2 \nz\n\"/>\n   </g>\n   <g id=\"matplotlib.axis_1\">\n    <g id=\"xtick_1\">\n     <g id=\"line2d_1\">\n      <defs>\n       <path id=\"ma7e07247e2\" d=\"M 0 0 \nL 0 3.5 \n\" style=\"stroke: #ffffff; stroke-width: 0.8\"/>\n      </defs>\n      <g>\n       <use xlink:href=\"#ma7e07247e2\" x=\"46.335852\" y=\"273.312\" style=\"fill: #ffffff; stroke: #ffffff; stroke-width: 0.8\"/>\n      </g>\n     </g>\n     <g id=\"text_1\">\n      <!-- −2.0 -->\n      <g style=\"fill: #ffffff\" transform=\"translate(34.194446 287.910437) scale(0.1 -0.1)\">\n       <defs>\n        <path id=\"DejaVuSans-2212\" d=\"M 678 2272 \nL 4684 2272 \nL 4684 1741 \nL 678 1741 \nL 678 2272 \nz\n\" transform=\"scale(0.015625)\"/>\n        <path id=\"DejaVuSans-32\" d=\"M 1228 531 \nL 3431 531 \nL 3431 0 \nL 469 0 \nL 469 531 \nQ 828 903 1448 1529 \nQ 2069 2156 2228 2338 \nQ 2531 2678 2651 2914 \nQ 2772 3150 2772 3378 \nQ 2772 3750 2511 3984 \nQ 2250 4219 1831 4219 \nQ 1534 4219 1204 4116 \nQ 875 4013 500 3803 \nL 500 4441 \nQ 881 4594 1212 4672 \nQ 1544 4750 1819 4750 \nQ 2544 4750 2975 4387 \nQ 3406 4025 3406 3419 \nQ 3406 3131 3298 2873 \nQ 3191 2616 2906 2266 \nQ 2828 2175 2409 1742 \nQ 1991 1309 1228 531 \nz\n\" transform=\"scale(0.015625)\"/>\n        <path id=\"DejaVuSans-2e\" d=\"M 684 794 \nL 1344 794 \nL 1344 0 \nL 684 0 \nL 684 794 \nz\n\" transform=\"scale(0.015625)\"/>\n        <path id=\"DejaVuSans-30\" d=\"M 2034 4250 \nQ 1547 4250 1301 3770 \nQ 1056 3291 1056 2328 \nQ 1056 1369 1301 889 \nQ 1547 409 2034 409 \nQ 2525 409 2770 889 \nQ 3016 1369 3016 2328 \nQ 3016 3291 2770 3770 \nQ 2525 4250 2034 4250 \nz\nM 2034 4750 \nQ 2819 4750 3233 4129 \nQ 3647 3509 3647 2328 \nQ 3647 1150 3233 529 \nQ 2819 -91 2034 -91 \nQ 1250 -91 836 529 \nQ 422 1150 422 2328 \nQ 422 3509 836 4129 \nQ 1250 4750 2034 4750 \nz\n\" transform=\"scale(0.015625)\"/>\n       </defs>\n       <use xlink:href=\"#DejaVuSans-2212\"/>\n       <use xlink:href=\"#DejaVuSans-32\" x=\"83.789062\"/>\n       <use xlink:href=\"#DejaVuSans-2e\" x=\"147.412109\"/>\n       <use xlink:href=\"#DejaVuSans-30\" x=\"179.199219\"/>\n      </g>\n     </g>\n    </g>\n    <g id=\"xtick_2\">\n     <g id=\"line2d_2\">\n      <g>\n       <use xlink:href=\"#ma7e07247e2\" x=\"86.91767\" y=\"273.312\" style=\"fill: #ffffff; stroke: #ffffff; stroke-width: 0.8\"/>\n      </g>\n     </g>\n     <g id=\"text_2\">\n      <!-- −1.5 -->\n      <g style=\"fill: #ffffff\" transform=\"translate(74.776264 287.910437) scale(0.1 -0.1)\">\n       <defs>\n        <path id=\"DejaVuSans-31\" d=\"M 794 531 \nL 1825 531 \nL 1825 4091 \nL 703 3866 \nL 703 4441 \nL 1819 4666 \nL 2450 4666 \nL 2450 531 \nL 3481 531 \nL 3481 0 \nL 794 0 \nL 794 531 \nz\n\" transform=\"scale(0.015625)\"/>\n        <path id=\"DejaVuSans-35\" d=\"M 691 4666 \nL 3169 4666 \nL 3169 4134 \nL 1269 4134 \nL 1269 2991 \nQ 1406 3038 1543 3061 \nQ 1681 3084 1819 3084 \nQ 2600 3084 3056 2656 \nQ 3513 2228 3513 1497 \nQ 3513 744 3044 326 \nQ 2575 -91 1722 -91 \nQ 1428 -91 1123 -41 \nQ 819 9 494 109 \nL 494 744 \nQ 775 591 1075 516 \nQ 1375 441 1709 441 \nQ 2250 441 2565 725 \nQ 2881 1009 2881 1497 \nQ 2881 1984 2565 2268 \nQ 2250 2553 1709 2553 \nQ 1456 2553 1204 2497 \nQ 953 2441 691 2322 \nL 691 4666 \nz\n\" transform=\"scale(0.015625)\"/>\n       </defs>\n       <use xlink:href=\"#DejaVuSans-2212\"/>\n       <use xlink:href=\"#DejaVuSans-31\" x=\"83.789062\"/>\n       <use xlink:href=\"#DejaVuSans-2e\" x=\"147.412109\"/>\n       <use xlink:href=\"#DejaVuSans-35\" x=\"179.199219\"/>\n      </g>\n     </g>\n    </g>\n    <g id=\"xtick_3\">\n     <g id=\"line2d_3\">\n      <g>\n       <use xlink:href=\"#ma7e07247e2\" x=\"127.499489\" y=\"273.312\" style=\"fill: #ffffff; stroke: #ffffff; stroke-width: 0.8\"/>\n      </g>\n     </g>\n     <g id=\"text_3\">\n      <!-- −1.0 -->\n      <g style=\"fill: #ffffff\" transform=\"translate(115.358082 287.910437) scale(0.1 -0.1)\">\n       <use xlink:href=\"#DejaVuSans-2212\"/>\n       <use xlink:href=\"#DejaVuSans-31\" x=\"83.789062\"/>\n       <use xlink:href=\"#DejaVuSans-2e\" x=\"147.412109\"/>\n       <use xlink:href=\"#DejaVuSans-30\" x=\"179.199219\"/>\n      </g>\n     </g>\n    </g>\n    <g id=\"xtick_4\">\n     <g id=\"line2d_4\">\n      <g>\n       <use xlink:href=\"#ma7e07247e2\" x=\"168.081307\" y=\"273.312\" style=\"fill: #ffffff; stroke: #ffffff; stroke-width: 0.8\"/>\n      </g>\n     </g>\n     <g id=\"text_4\">\n      <!-- −0.5 -->\n      <g style=\"fill: #ffffff\" transform=\"translate(155.939901 287.910437) scale(0.1 -0.1)\">\n       <use xlink:href=\"#DejaVuSans-2212\"/>\n       <use xlink:href=\"#DejaVuSans-30\" x=\"83.789062\"/>\n       <use xlink:href=\"#DejaVuSans-2e\" x=\"147.412109\"/>\n       <use xlink:href=\"#DejaVuSans-35\" x=\"179.199219\"/>\n      </g>\n     </g>\n    </g>\n    <g id=\"xtick_5\">\n     <g id=\"line2d_5\">\n      <g>\n       <use xlink:href=\"#ma7e07247e2\" x=\"208.663125\" y=\"273.312\" style=\"fill: #ffffff; stroke: #ffffff; stroke-width: 0.8\"/>\n      </g>\n     </g>\n     <g id=\"text_5\">\n      <!-- 0.0 -->\n      <g style=\"fill: #ffffff\" transform=\"translate(200.711563 287.910437) scale(0.1 -0.1)\">\n       <use xlink:href=\"#DejaVuSans-30\"/>\n       <use xlink:href=\"#DejaVuSans-2e\" x=\"63.623047\"/>\n       <use xlink:href=\"#DejaVuSans-30\" x=\"95.410156\"/>\n      </g>\n     </g>\n    </g>\n    <g id=\"xtick_6\">\n     <g id=\"line2d_6\">\n      <g>\n       <use xlink:href=\"#ma7e07247e2\" x=\"249.244943\" y=\"273.312\" style=\"fill: #ffffff; stroke: #ffffff; stroke-width: 0.8\"/>\n      </g>\n     </g>\n     <g id=\"text_6\">\n      <!-- 0.5 -->\n      <g style=\"fill: #ffffff\" transform=\"translate(241.293381 287.910437) scale(0.1 -0.1)\">\n       <use xlink:href=\"#DejaVuSans-30\"/>\n       <use xlink:href=\"#DejaVuSans-2e\" x=\"63.623047\"/>\n       <use xlink:href=\"#DejaVuSans-35\" x=\"95.410156\"/>\n      </g>\n     </g>\n    </g>\n    <g id=\"xtick_7\">\n     <g id=\"line2d_7\">\n      <g>\n       <use xlink:href=\"#ma7e07247e2\" x=\"289.826761\" y=\"273.312\" style=\"fill: #ffffff; stroke: #ffffff; stroke-width: 0.8\"/>\n      </g>\n     </g>\n     <g id=\"text_7\">\n      <!-- 1.0 -->\n      <g style=\"fill: #ffffff\" transform=\"translate(281.875199 287.910437) scale(0.1 -0.1)\">\n       <use xlink:href=\"#DejaVuSans-31\"/>\n       <use xlink:href=\"#DejaVuSans-2e\" x=\"63.623047\"/>\n       <use xlink:href=\"#DejaVuSans-30\" x=\"95.410156\"/>\n      </g>\n     </g>\n    </g>\n    <g id=\"xtick_8\">\n     <g id=\"line2d_8\">\n      <g>\n       <use xlink:href=\"#ma7e07247e2\" x=\"330.40858\" y=\"273.312\" style=\"fill: #ffffff; stroke: #ffffff; stroke-width: 0.8\"/>\n      </g>\n     </g>\n     <g id=\"text_8\">\n      <!-- 1.5 -->\n      <g style=\"fill: #ffffff\" transform=\"translate(322.457017 287.910437) scale(0.1 -0.1)\">\n       <use xlink:href=\"#DejaVuSans-31\"/>\n       <use xlink:href=\"#DejaVuSans-2e\" x=\"63.623047\"/>\n       <use xlink:href=\"#DejaVuSans-35\" x=\"95.410156\"/>\n      </g>\n     </g>\n    </g>\n    <g id=\"xtick_9\">\n     <g id=\"line2d_9\">\n      <g>\n       <use xlink:href=\"#ma7e07247e2\" x=\"370.990398\" y=\"273.312\" style=\"fill: #ffffff; stroke: #ffffff; stroke-width: 0.8\"/>\n      </g>\n     </g>\n     <g id=\"text_9\">\n      <!-- 2.0 -->\n      <g style=\"fill: #ffffff\" transform=\"translate(363.038835 287.910437) scale(0.1 -0.1)\">\n       <use xlink:href=\"#DejaVuSans-32\"/>\n       <use xlink:href=\"#DejaVuSans-2e\" x=\"63.623047\"/>\n       <use xlink:href=\"#DejaVuSans-30\" x=\"95.410156\"/>\n      </g>\n     </g>\n    </g>\n   </g>\n   <g id=\"matplotlib.axis_2\">\n    <g id=\"ytick_1\">\n     <g id=\"line2d_10\">\n      <defs>\n       <path id=\"m2dffefb291\" d=\"M 0 0 \nL -3.5 0 \n\" style=\"stroke: #ffffff; stroke-width: 0.8\"/>\n      </defs>\n      <g>\n       <use xlink:href=\"#m2dffefb291\" x=\"30.103125\" y=\"261.216135\" style=\"fill: #ffffff; stroke: #ffffff; stroke-width: 0.8\"/>\n      </g>\n     </g>\n     <g id=\"text_10\">\n      <!-- 0.0 -->\n      <g style=\"fill: #ffffff\" transform=\"translate(7.2 265.015354) scale(0.1 -0.1)\">\n       <use xlink:href=\"#DejaVuSans-30\"/>\n       <use xlink:href=\"#DejaVuSans-2e\" x=\"63.623047\"/>\n       <use xlink:href=\"#DejaVuSans-30\" x=\"95.410156\"/>\n      </g>\n     </g>\n    </g>\n    <g id=\"ytick_2\">\n     <g id=\"line2d_11\">\n      <g>\n       <use xlink:href=\"#m2dffefb291\" x=\"30.103125\" y=\"212.627911\" style=\"fill: #ffffff; stroke: #ffffff; stroke-width: 0.8\"/>\n      </g>\n     </g>\n     <g id=\"text_11\">\n      <!-- 0.2 -->\n      <g style=\"fill: #ffffff\" transform=\"translate(7.2 216.42713) scale(0.1 -0.1)\">\n       <use xlink:href=\"#DejaVuSans-30\"/>\n       <use xlink:href=\"#DejaVuSans-2e\" x=\"63.623047\"/>\n       <use xlink:href=\"#DejaVuSans-32\" x=\"95.410156\"/>\n      </g>\n     </g>\n    </g>\n    <g id=\"ytick_3\">\n     <g id=\"line2d_12\">\n      <g>\n       <use xlink:href=\"#m2dffefb291\" x=\"30.103125\" y=\"164.039687\" style=\"fill: #ffffff; stroke: #ffffff; stroke-width: 0.8\"/>\n      </g>\n     </g>\n     <g id=\"text_12\">\n      <!-- 0.4 -->\n      <g style=\"fill: #ffffff\" transform=\"translate(7.2 167.838905) scale(0.1 -0.1)\">\n       <defs>\n        <path id=\"DejaVuSans-34\" d=\"M 2419 4116 \nL 825 1625 \nL 2419 1625 \nL 2419 4116 \nz\nM 2253 4666 \nL 3047 4666 \nL 3047 1625 \nL 3713 1625 \nL 3713 1100 \nL 3047 1100 \nL 3047 0 \nL 2419 0 \nL 2419 1100 \nL 313 1100 \nL 313 1709 \nL 2253 4666 \nz\n\" transform=\"scale(0.015625)\"/>\n       </defs>\n       <use xlink:href=\"#DejaVuSans-30\"/>\n       <use xlink:href=\"#DejaVuSans-2e\" x=\"63.623047\"/>\n       <use xlink:href=\"#DejaVuSans-34\" x=\"95.410156\"/>\n      </g>\n     </g>\n    </g>\n    <g id=\"ytick_4\">\n     <g id=\"line2d_13\">\n      <g>\n       <use xlink:href=\"#m2dffefb291\" x=\"30.103125\" y=\"115.451462\" style=\"fill: #ffffff; stroke: #ffffff; stroke-width: 0.8\"/>\n      </g>\n     </g>\n     <g id=\"text_13\">\n      <!-- 0.6 -->\n      <g style=\"fill: #ffffff\" transform=\"translate(7.2 119.250681) scale(0.1 -0.1)\">\n       <defs>\n        <path id=\"DejaVuSans-36\" d=\"M 2113 2584 \nQ 1688 2584 1439 2293 \nQ 1191 2003 1191 1497 \nQ 1191 994 1439 701 \nQ 1688 409 2113 409 \nQ 2538 409 2786 701 \nQ 3034 994 3034 1497 \nQ 3034 2003 2786 2293 \nQ 2538 2584 2113 2584 \nz\nM 3366 4563 \nL 3366 3988 \nQ 3128 4100 2886 4159 \nQ 2644 4219 2406 4219 \nQ 1781 4219 1451 3797 \nQ 1122 3375 1075 2522 \nQ 1259 2794 1537 2939 \nQ 1816 3084 2150 3084 \nQ 2853 3084 3261 2657 \nQ 3669 2231 3669 1497 \nQ 3669 778 3244 343 \nQ 2819 -91 2113 -91 \nQ 1303 -91 875 529 \nQ 447 1150 447 2328 \nQ 447 3434 972 4092 \nQ 1497 4750 2381 4750 \nQ 2619 4750 2861 4703 \nQ 3103 4656 3366 4563 \nz\n\" transform=\"scale(0.015625)\"/>\n       </defs>\n       <use xlink:href=\"#DejaVuSans-30\"/>\n       <use xlink:href=\"#DejaVuSans-2e\" x=\"63.623047\"/>\n       <use xlink:href=\"#DejaVuSans-36\" x=\"95.410156\"/>\n      </g>\n     </g>\n    </g>\n    <g id=\"ytick_5\">\n     <g id=\"line2d_14\">\n      <g>\n       <use xlink:href=\"#m2dffefb291\" x=\"30.103125\" y=\"66.863238\" style=\"fill: #ffffff; stroke: #ffffff; stroke-width: 0.8\"/>\n      </g>\n     </g>\n     <g id=\"text_14\">\n      <!-- 0.8 -->\n      <g style=\"fill: #ffffff\" transform=\"translate(7.2 70.662457) scale(0.1 -0.1)\">\n       <defs>\n        <path id=\"DejaVuSans-38\" d=\"M 2034 2216 \nQ 1584 2216 1326 1975 \nQ 1069 1734 1069 1313 \nQ 1069 891 1326 650 \nQ 1584 409 2034 409 \nQ 2484 409 2743 651 \nQ 3003 894 3003 1313 \nQ 3003 1734 2745 1975 \nQ 2488 2216 2034 2216 \nz\nM 1403 2484 \nQ 997 2584 770 2862 \nQ 544 3141 544 3541 \nQ 544 4100 942 4425 \nQ 1341 4750 2034 4750 \nQ 2731 4750 3128 4425 \nQ 3525 4100 3525 3541 \nQ 3525 3141 3298 2862 \nQ 3072 2584 2669 2484 \nQ 3125 2378 3379 2068 \nQ 3634 1759 3634 1313 \nQ 3634 634 3220 271 \nQ 2806 -91 2034 -91 \nQ 1263 -91 848 271 \nQ 434 634 434 1313 \nQ 434 1759 690 2068 \nQ 947 2378 1403 2484 \nz\nM 1172 3481 \nQ 1172 3119 1398 2916 \nQ 1625 2713 2034 2713 \nQ 2441 2713 2670 2916 \nQ 2900 3119 2900 3481 \nQ 2900 3844 2670 4047 \nQ 2441 4250 2034 4250 \nQ 1625 4250 1398 4047 \nQ 1172 3844 1172 3481 \nz\n\" transform=\"scale(0.015625)\"/>\n       </defs>\n       <use xlink:href=\"#DejaVuSans-30\"/>\n       <use xlink:href=\"#DejaVuSans-2e\" x=\"63.623047\"/>\n       <use xlink:href=\"#DejaVuSans-38\" x=\"95.410156\"/>\n      </g>\n     </g>\n    </g>\n    <g id=\"ytick_6\">\n     <g id=\"line2d_15\">\n      <g>\n       <use xlink:href=\"#m2dffefb291\" x=\"30.103125\" y=\"18.275014\" style=\"fill: #ffffff; stroke: #ffffff; stroke-width: 0.8\"/>\n      </g>\n     </g>\n     <g id=\"text_15\">\n      <!-- 1.0 -->\n      <g style=\"fill: #ffffff\" transform=\"translate(7.2 22.074233) scale(0.1 -0.1)\">\n       <use xlink:href=\"#DejaVuSans-31\"/>\n       <use xlink:href=\"#DejaVuSans-2e\" x=\"63.623047\"/>\n       <use xlink:href=\"#DejaVuSans-30\" x=\"95.410156\"/>\n      </g>\n     </g>\n    </g>\n   </g>\n   <g id=\"line2d_16\">\n    <path d=\"M 46.335852 19.296 \nL 145.22862 19.405199 \nL 156.939605 19.63933 \nL 164.096319 19.986812 \nL 169.301201 20.443692 \nL 173.204863 20.974159 \nL 176.457915 21.597492 \nL 179.710966 22.449315 \nL 182.313407 23.348952 \nL 184.915849 24.499661 \nL 186.86768 25.566889 \nL 188.81951 26.846017 \nL 190.771341 28.376005 \nL 192.723172 30.201613 \nL 194.675003 32.373658 \nL 196.626834 34.948992 \nL 198.578665 37.990048 \nL 200.530496 41.563774 \nL 202.482327 45.739755 \nL 204.434158 50.587312 \nL 206.385989 56.171427 \nL 208.33782 62.54743 \nL 210.289651 69.754587 \nL 212.241482 77.808989 \nL 214.193313 86.696468 \nL 216.795754 99.749467 \nL 219.398195 113.959173 \nL 223.301857 136.646149 \nL 229.15735 170.648653 \nL 231.759791 184.563586 \nL 234.362232 197.244233 \nL 236.314063 205.823114 \nL 238.265894 213.55964 \nL 240.217725 220.451779 \nL 242.169556 226.525165 \nL 244.121387 231.825897 \nL 246.073218 236.413624 \nL 248.025049 240.355512 \nL 249.97688 243.721392 \nL 251.928711 246.580142 \nL 253.880542 248.997188 \nL 255.832373 251.032957 \nL 257.784204 252.742064 \nL 259.736034 254.173039 \nL 261.687865 255.368425 \nL 264.290307 256.658811 \nL 266.892748 257.668733 \nL 269.495189 258.457453 \nL 272.748241 259.203568 \nL 276.651903 259.839134 \nL 281.206175 260.332651 \nL 287.061668 260.717315 \nL 294.868991 260.983598 \nL 307.230587 261.146756 \nL 333.255 261.210704 \nL 370.990398 261.216 \nL 370.990398 261.216 \n\" clip-path=\"url(#pfe23a1d7e9)\" style=\"fill: none; stroke: #8dd3c7; stroke-width: 1.5; stroke-linecap: square\"/>\n   </g>\n   <g id=\"patch_3\">\n    <path d=\"M 30.103125 273.312 \nL 30.103125 7.2 \n\" style=\"fill: none; stroke: #ffffff; stroke-width: 0.8; stroke-linejoin: miter; stroke-linecap: square\"/>\n   </g>\n   <g id=\"patch_4\">\n    <path d=\"M 387.223125 273.312 \nL 387.223125 7.2 \n\" style=\"fill: none; stroke: #ffffff; stroke-width: 0.8; stroke-linejoin: miter; stroke-linecap: square\"/>\n   </g>\n   <g id=\"patch_5\">\n    <path d=\"M 30.103125 273.312 \nL 387.223125 273.312 \n\" style=\"fill: none; stroke: #ffffff; stroke-width: 0.8; stroke-linejoin: miter; stroke-linecap: square\"/>\n   </g>\n   <g id=\"patch_6\">\n    <path d=\"M 30.103125 7.2 \nL 387.223125 7.2 \n\" style=\"fill: none; stroke: #ffffff; stroke-width: 0.8; stroke-linejoin: miter; stroke-linecap: square\"/>\n   </g>\n  </g>\n </g>\n <defs>\n  <clipPath id=\"pfe23a1d7e9\">\n   <rect x=\"30.103125\" y=\"7.2\" width=\"357.12\" height=\"266.112\"/>\n  </clipPath>\n </defs>\n</svg>\n",
      "image/png": "[encoded data removed]"
     },
     "metadata": {}
    }
   ],
   "metadata": {}
  },
  {
   "cell_type": "code",
   "execution_count": null,
   "source": [
    "MizerEval.run_model3(args,proc)"
   ],
   "outputs": [
    {
     "output_type": "execute_result",
     "data": {
      "text/plain": [
       "-0.006835226"
      ]
     },
     "metadata": {},
     "execution_count": 41
    }
   ],
   "metadata": {}
  },
  {
   "cell_type": "code",
   "execution_count": null,
   "source": [],
   "outputs": [],
   "metadata": {}
  }
 ],
 "metadata": {
  "orig_nbformat": 4,
  "language_info": {
   "name": "python",
   "version": "3.9.18",
   "mimetype": "text/x-python",
   "codemirror_mode": {
    "name": "ipython",
    "version": 3
   },
   "pygments_lexer": "ipython3",
   "nbconvert_exporter": "python",
   "file_extension": ".py"
  },
  "kernelspec": {
   "name": "python3",
   "display_name": "Python 3.9.18 64-bit ('amh2': conda)"
  },
  "interpreter": {
   "hash": "d780e3c6373986753b6d9658d65e7b54180d42c045a8c6d66619b741c5fc42ee"
  }
 },
 "nbformat": 4,
 "nbformat_minor": 2
}