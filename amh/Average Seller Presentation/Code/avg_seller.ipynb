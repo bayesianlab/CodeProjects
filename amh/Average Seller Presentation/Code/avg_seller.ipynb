{
 "cells": [
  {
   "cell_type": "code",
   "execution_count": null,
   "source": [
    "import pandas as pd  \r\n",
    "import numpy as np \r\n",
    "import matplotlib.pyplot as plt \r\n",
    "data = pd.read_csv('temp_results.csv')\r\n",
    "miss = pd.read_csv('missing_indices')\r\n",
    "names = pd.read_csv('missing_names')\r\n",
    "names"
   ],
   "outputs": [],
   "metadata": {}
  },
  {
   "cell_type": "code",
   "execution_count": null,
   "source": [
    "def prob(s,m,w, bench):\r\n",
    "    x = np.linspace(-2,2,500)\r\n",
    "    return (1./(1+np.exp(-w))) * (1./(1+np.exp(8*np.exp(s)*(x - m - bench) )))"
   ],
   "outputs": [],
   "metadata": {}
  },
  {
   "cell_type": "code",
   "execution_count": null,
   "source": [
    "s = data.iloc[1]['S']\r\n",
    "m = data.iloc[1]['M']\r\n",
    "w = data.iloc[1]['W']\r\n",
    "x = np.linspace(-2,2,500)\r\n",
    "plt.plot(x, prob(s,m,w,0))"
   ],
   "outputs": [],
   "metadata": {}
  },
  {
   "cell_type": "code",
   "execution_count": null,
   "source": [
    "pd.set_option('display.max_rows', None)\r\n",
    "data[data['SellerName']=='universitybank']\r\n"
   ],
   "outputs": [],
   "metadata": {}
  },
  {
   "cell_type": "code",
   "execution_count": null,
   "source": [
    "fig, ax = plt.subplots(nrows=1,ncols=1)\r\n",
    "s = data.iloc[4970]['S']\r\n",
    "m = data.iloc[4970]['M']\r\n",
    "w = data.iloc[4970]['W']\r\n",
    "\r\n",
    "x = np.linspace(-2,2,500)\r\n",
    "y = prob(s,m,w,)"
   ],
   "outputs": [],
   "metadata": {}
  },
  {
   "cell_type": "code",
   "execution_count": null,
   "source": [],
   "outputs": [],
   "metadata": {}
  }
 ],
 "metadata": {
  "orig_nbformat": 4,
  "language_info": {
   "name": "python",
   "version": "3.9.18",
   "mimetype": "text/x-python",
   "codemirror_mode": {
    "name": "ipython",
    "version": 3
   },
   "pygments_lexer": "ipython3",
   "nbconvert_exporter": "python",
   "file_extension": ".py"
  },
  "kernelspec": {
   "name": "python3",
   "display_name": "Python 3.9.18 64-bit ('amh2': conda)"
  },
  "interpreter": {
   "hash": "d780e3c6373986753b6d9658d65e7b54180d42c045a8c6d66619b741c5fc42ee"
  }
 },
 "nbformat": 4,
 "nbformat_minor": 2
}